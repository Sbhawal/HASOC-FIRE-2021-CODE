{
 "cells": [
  {
   "cell_type": "markdown",
   "metadata": {
    "id": "llVd3GH_7gzw"
   },
   "source": [
    "## Installing demoji"
   ]
  },
  {
   "cell_type": "code",
   "execution_count": 1,
   "metadata": {
    "colab": {
     "base_uri": "https://localhost:8080/"
    },
    "id": "UZ2KyOwg7frB",
    "outputId": "b8836426-873d-474b-f30c-c9faf5026d20"
   },
   "outputs": [
    {
     "name": "stdout",
     "output_type": "stream",
     "text": [
      "Requirement already satisfied: demoji in /usr/local/lib/python3.7/dist-packages (1.0.0)\n"
     ]
    }
   ],
   "source": [
    "!pip install demoji"
   ]
  },
  {
   "cell_type": "markdown",
   "metadata": {
    "id": "_ekXH12g7koR"
   },
   "source": [
    "## Imports"
   ]
  },
  {
   "cell_type": "code",
   "execution_count": 2,
   "metadata": {
    "id": "pUNxky4J7fv2"
   },
   "outputs": [],
   "source": [
    "import pandas as pd\n",
    "import numpy as np\n",
    "\n",
    "import keras\n",
    "\n",
    "from sklearn.metrics import confusion_matrix\n",
    "from sklearn import metrics\n",
    "\n",
    "from sklearn.linear_model import LogisticRegression\n",
    "from sklearn.metrics import confusion_matrix,classification_report\n",
    "\n",
    "\n",
    "from sklearn.metrics import accuracy_score\n",
    "from sklearn.metrics import precision_score\n",
    "from sklearn.metrics import f1_score\n",
    "from sklearn.metrics import recall_score\n",
    "\n",
    "from sklearn.model_selection import train_test_split\n",
    "# X_train, X_test, y_train, y_test = train_test_split(x, y, test_size=0.2)"
   ]
  },
  {
   "cell_type": "markdown",
   "metadata": {
    "id": "lzkLOWk37pyl"
   },
   "source": [
    "## Loading Datasets"
   ]
  },
  {
   "cell_type": "code",
   "execution_count": 3,
   "metadata": {
    "id": "p2Ibkfi-RAmt"
   },
   "outputs": [],
   "source": [
    "df_train = pd.read_excel('.....',names=[\"ID\",\"Tweets\",\"Labels\"])\n",
    "df_train.dropna(inplace=True)\n",
    "df_train.reset_index(drop=True, inplace=True)\n",
    "df_val = pd.read_csv(\".....\",names=[\"ID\",\"Tweets\",\"Labels\"])\n",
    "df_val.dropna(inplace=True)\n",
    "df_val.reset_index(drop=True, inplace=True)"
   ]
  },
  {
   "cell_type": "code",
   "execution_count": 4,
   "metadata": {
    "id": "MqYyf_0VRAxt"
   },
   "outputs": [],
   "source": [
    "df_train_Tweet = pd.DataFrame(df_train.Tweets)\n",
    "df_val_Tweet = pd.DataFrame(df_val.Tweets)\n",
    "df_train_Label = pd.DataFrame(df_train.Labels)\n",
    "df_val_Label = pd.DataFrame(df_val.Labels)\n"
   ]
  },
  {
   "cell_type": "markdown",
   "metadata": {
    "id": "xN5elRlk7vHl"
   },
   "source": [
    "## Preprocessing"
   ]
  },
  {
   "cell_type": "code",
   "execution_count": 5,
   "metadata": {
    "id": "AvjLH2h7RA2r"
   },
   "outputs": [],
   "source": [
    "import re, string\n",
    "regex = re.compile('[%s]' % re.escape(string.punctuation))\n",
    "import demoji\n",
    "\n",
    "def preprocessing(document):\n",
    "        document = demoji.replace_with_desc(document).replace(\":\",\" \").replace(\"-\",\" \")\n",
    "        document = regex.sub(' ', document)\n",
    "        document = re.sub(r'[0-9]', '', document)\n",
    "        document = re.sub(r'\\s+[a-zA-Z]\\s+', ' ', document)             # remove all single characters\n",
    "        document = re.sub(r'\\s+', ' ', document, flags=re.I)            # Substituting multiple spaces with single space\n",
    "        return document"
   ]
  },
  {
   "cell_type": "code",
   "execution_count": 6,
   "metadata": {
    "id": "AI1DpadeRA5y"
   },
   "outputs": [],
   "source": [
    "corpus_train = df_train_Tweet.Tweets.apply(preprocessing)\n",
    "corpus_val = df_val_Tweet.Tweets.apply(preprocessing)"
   ]
  },
  {
   "cell_type": "markdown",
   "metadata": {
    "id": "snkw8dOE78OU"
   },
   "source": [
    "## TF-IDF Vectorization"
   ]
  },
  {
   "cell_type": "code",
   "execution_count": 7,
   "metadata": {
    "colab": {
     "base_uri": "https://localhost:8080/"
    },
    "id": "1UTNr2EKRA7U",
    "outputId": "f2cfcd72-fe77-4c7e-e759-0e5f512a7d28"
   },
   "outputs": [
    {
     "data": {
      "text/plain": [
       "(3999, 15000)"
      ]
     },
     "execution_count": 7,
     "metadata": {
      "tags": []
     },
     "output_type": "execute_result"
    }
   ],
   "source": [
    "from sklearn.feature_extraction.text import TfidfVectorizer\n",
    "cv = TfidfVectorizer(ngram_range=(1,5))\n",
    "cv = TfidfVectorizer(max_features=15000)\n",
    "X_train = cv.fit_transform(corpus_train).toarray()\n",
    "X_test = cv.transform(corpus_val).toarray()\n",
    "X_train.shape"
   ]
  },
  {
   "cell_type": "code",
   "execution_count": 8,
   "metadata": {
    "id": "secKHXePRA83"
   },
   "outputs": [],
   "source": [
    "# Feature Scaling\n",
    "from sklearn.preprocessing import StandardScaler,MinMaxScaler\n",
    "sc = MinMaxScaler()\n",
    "X_train = sc.fit_transform(X_train)\n",
    "X_test = sc.transform(X_test)"
   ]
  },
  {
   "cell_type": "markdown",
   "metadata": {
    "id": "jOLFo92T8E2H"
   },
   "source": [
    "## Label Encoding"
   ]
  },
  {
   "cell_type": "code",
   "execution_count": 9,
   "metadata": {
    "id": "TGgbNDJ1RA_3"
   },
   "outputs": [],
   "source": [
    "Y_train = np.ravel(df_train_Label)\n",
    "Y_test = np.ravel(df_val_Label)\n",
    "\n",
    "from sklearn import preprocessing\n",
    "le = preprocessing.LabelEncoder()\n",
    "le.fit(Y_train)\n",
    "Y_train = le.transform(Y_train)\n",
    "Y_test = le.transform(Y_test)"
   ]
  },
  {
   "cell_type": "markdown",
   "metadata": {
    "id": "3T2ka5AM8JAR"
   },
   "source": [
    "# Model Creation and Validation"
   ]
  },
  {
   "cell_type": "markdown",
   "metadata": {
    "id": "-z2cAVXGZsem"
   },
   "source": [
    "## SIMPLE ANN"
   ]
  },
  {
   "cell_type": "code",
   "execution_count": 10,
   "metadata": {
    "id": "ZXU7w1lXRBDL"
   },
   "outputs": [],
   "source": [
    "from keras.models import Sequential\n",
    "from keras import layers\n",
    "\n",
    "input_dim = X_train.shape[1]  # Number of features\n",
    "\n",
    "model = Sequential()\n",
    "model.add(layers.Dense(512, input_dim=input_dim, activation='relu'))\n",
    "model.add(layers.Dense(256, input_dim=input_dim, activation='relu'))\n",
    "model.add(layers.Dense(128, input_dim=input_dim, activation='relu'))\n",
    "model.add(layers.Dense(1, activation='sigmoid'))"
   ]
  },
  {
   "cell_type": "code",
   "execution_count": 11,
   "metadata": {
    "colab": {
     "base_uri": "https://localhost:8080/"
    },
    "id": "EPF3Ona1RBE3",
    "outputId": "799e8dd6-720e-403c-98ee-f0c513b45149"
   },
   "outputs": [
    {
     "name": "stdout",
     "output_type": "stream",
     "text": [
      "Model: \"sequential\"\n",
      "_________________________________________________________________\n",
      "Layer (type)                 Output Shape              Param #   \n",
      "=================================================================\n",
      "dense (Dense)                (None, 512)               7680512   \n",
      "_________________________________________________________________\n",
      "dense_1 (Dense)              (None, 256)               131328    \n",
      "_________________________________________________________________\n",
      "dense_2 (Dense)              (None, 128)               32896     \n",
      "_________________________________________________________________\n",
      "dense_3 (Dense)              (None, 1)                 129       \n",
      "=================================================================\n",
      "Total params: 7,844,865\n",
      "Trainable params: 7,844,865\n",
      "Non-trainable params: 0\n",
      "_________________________________________________________________\n"
     ]
    }
   ],
   "source": [
    "optimizer = keras.optimizers.Adam(learning_rate=3e-5)\n",
    "model.compile(optimizer=optimizer,\n",
    "              loss='binary_crossentropy',\n",
    "              metrics=['accuracy'])\n",
    "model.summary()"
   ]
  },
  {
   "cell_type": "code",
   "execution_count": 12,
   "metadata": {
    "id": "imIQ7RNljwyY"
   },
   "outputs": [],
   "source": [
    "model_save_path='/content/m1'\n",
    "\n",
    "callbacks = [keras.callbacks.ModelCheckpoint(filepath=model_save_path,save_weights_only=True,monitor='val_accuracy',mode='max',save_best_only=True)]"
   ]
  },
  {
   "cell_type": "code",
   "execution_count": 13,
   "metadata": {
    "colab": {
     "base_uri": "https://localhost:8080/"
    },
    "id": "dUd1G1cmRBGd",
    "outputId": "13fa8c91-0729-4c0b-d86c-76da79652dd2"
   },
   "outputs": [
    {
     "name": "stdout",
     "output_type": "stream",
     "text": [
      "Epoch 1/35\n",
      "134/134 [==============================] - 13s 8ms/step - loss: 0.6921 - accuracy: 0.5515 - val_loss: 0.6893 - val_accuracy: 0.6702\n",
      "Epoch 2/35\n",
      "134/134 [==============================] - 1s 6ms/step - loss: 0.6758 - accuracy: 0.9000 - val_loss: 0.6666 - val_accuracy: 0.7713\n",
      "Epoch 3/35\n",
      "134/134 [==============================] - 1s 5ms/step - loss: 0.6048 - accuracy: 0.9432 - val_loss: 0.5593 - val_accuracy: 0.8032\n",
      "Epoch 4/35\n",
      "134/134 [==============================] - 1s 6ms/step - loss: 0.3847 - accuracy: 0.9575 - val_loss: 0.4206 - val_accuracy: 0.8223\n",
      "Epoch 5/35\n",
      "134/134 [==============================] - 1s 5ms/step - loss: 0.1692 - accuracy: 0.9799 - val_loss: 0.3718 - val_accuracy: 0.8245\n",
      "Epoch 6/35\n",
      "134/134 [==============================] - 1s 6ms/step - loss: 0.0810 - accuracy: 0.9909 - val_loss: 0.3607 - val_accuracy: 0.8319\n",
      "Epoch 7/35\n",
      "134/134 [==============================] - 1s 5ms/step - loss: 0.0503 - accuracy: 0.9913 - val_loss: 0.3619 - val_accuracy: 0.8330\n",
      "Epoch 8/35\n",
      "134/134 [==============================] - 1s 6ms/step - loss: 0.0324 - accuracy: 0.9910 - val_loss: 0.3687 - val_accuracy: 0.8319\n",
      "Epoch 9/35\n",
      "134/134 [==============================] - 1s 5ms/step - loss: 0.0187 - accuracy: 0.9951 - val_loss: 0.3813 - val_accuracy: 0.8266\n",
      "Epoch 10/35\n",
      "134/134 [==============================] - 1s 6ms/step - loss: 0.0165 - accuracy: 0.9921 - val_loss: 0.3862 - val_accuracy: 0.8319\n",
      "Epoch 11/35\n",
      "134/134 [==============================] - 1s 6ms/step - loss: 0.0104 - accuracy: 0.9930 - val_loss: 0.3925 - val_accuracy: 0.8319\n",
      "Epoch 12/35\n",
      "134/134 [==============================] - 1s 5ms/step - loss: 0.0127 - accuracy: 0.9923 - val_loss: 0.3986 - val_accuracy: 0.8298\n",
      "Epoch 13/35\n",
      "134/134 [==============================] - 1s 5ms/step - loss: -0.0091 - accuracy: 0.9912 - val_loss: 0.4105 - val_accuracy: 0.8245\n",
      "Epoch 14/35\n",
      "134/134 [==============================] - 1s 5ms/step - loss: 0.0051 - accuracy: 0.9883 - val_loss: 0.4153 - val_accuracy: 0.8234\n",
      "Epoch 15/35\n",
      "134/134 [==============================] - 1s 5ms/step - loss: 0.0058 - accuracy: 0.9923 - val_loss: 0.4203 - val_accuracy: 0.8277\n",
      "Epoch 16/35\n",
      "134/134 [==============================] - 1s 5ms/step - loss: -0.0091 - accuracy: 0.9919 - val_loss: 0.4285 - val_accuracy: 0.8245\n",
      "Epoch 17/35\n",
      "134/134 [==============================] - 1s 5ms/step - loss: 0.0048 - accuracy: 0.9909 - val_loss: 0.4407 - val_accuracy: 0.8191\n",
      "Epoch 18/35\n",
      "134/134 [==============================] - 1s 5ms/step - loss: 0.0040 - accuracy: 0.9911 - val_loss: 0.4375 - val_accuracy: 0.8234\n",
      "Epoch 19/35\n",
      "134/134 [==============================] - 1s 5ms/step - loss: 0.0041 - accuracy: 0.9933 - val_loss: 0.4479 - val_accuracy: 0.8234\n",
      "Epoch 20/35\n",
      "134/134 [==============================] - 1s 6ms/step - loss: 0.0015 - accuracy: 0.9892 - val_loss: 0.4601 - val_accuracy: 0.8181\n",
      "Epoch 21/35\n",
      "134/134 [==============================] - 1s 6ms/step - loss: -2.7740e-04 - accuracy: 0.9904 - val_loss: 0.4782 - val_accuracy: 0.8106\n",
      "Epoch 22/35\n",
      "134/134 [==============================] - 1s 6ms/step - loss: -0.0050 - accuracy: 0.9912 - val_loss: 0.4646 - val_accuracy: 0.8202\n",
      "Epoch 23/35\n",
      "134/134 [==============================] - 1s 5ms/step - loss: -0.0031 - accuracy: 0.9913 - val_loss: 0.4859 - val_accuracy: 0.8085\n",
      "Epoch 24/35\n",
      "134/134 [==============================] - 1s 6ms/step - loss: 0.0041 - accuracy: 0.9932 - val_loss: 0.4985 - val_accuracy: 0.8064\n",
      "Epoch 25/35\n",
      "134/134 [==============================] - 1s 5ms/step - loss: 0.0065 - accuracy: 0.9910 - val_loss: 0.4984 - val_accuracy: 0.8117\n",
      "Epoch 26/35\n",
      "134/134 [==============================] - 1s 6ms/step - loss: -0.0343 - accuracy: 0.9913 - val_loss: 0.5008 - val_accuracy: 0.8128\n",
      "Epoch 27/35\n",
      "134/134 [==============================] - 1s 6ms/step - loss: 0.0012 - accuracy: 0.9919 - val_loss: 0.5044 - val_accuracy: 0.8149\n",
      "Epoch 28/35\n",
      "134/134 [==============================] - 1s 6ms/step - loss: -0.0042 - accuracy: 0.9924 - val_loss: 0.5100 - val_accuracy: 0.8149\n",
      "Epoch 29/35\n",
      "134/134 [==============================] - 1s 6ms/step - loss: -0.0283 - accuracy: 0.9940 - val_loss: 0.5388 - val_accuracy: 0.8021\n",
      "Epoch 30/35\n",
      "134/134 [==============================] - 1s 6ms/step - loss: 0.0027 - accuracy: 0.9900 - val_loss: 0.5628 - val_accuracy: 0.8011\n",
      "Epoch 31/35\n",
      "134/134 [==============================] - 1s 5ms/step - loss: -0.0302 - accuracy: 0.9934 - val_loss: 0.5523 - val_accuracy: 0.8032\n",
      "Epoch 32/35\n",
      "134/134 [==============================] - 1s 5ms/step - loss: -9.7418e-04 - accuracy: 0.9934 - val_loss: 0.5870 - val_accuracy: 0.7926\n",
      "Epoch 33/35\n",
      "134/134 [==============================] - 1s 5ms/step - loss: -0.0167 - accuracy: 0.9908 - val_loss: 0.5621 - val_accuracy: 0.8032\n",
      "Epoch 34/35\n",
      "134/134 [==============================] - 1s 6ms/step - loss: 0.0098 - accuracy: 0.9899 - val_loss: 0.6003 - val_accuracy: 0.7936\n",
      "Epoch 35/35\n",
      "134/134 [==============================] - 1s 5ms/step - loss: -0.0367 - accuracy: 0.9934 - val_loss: 0.5954 - val_accuracy: 0.7989\n"
     ]
    }
   ],
   "source": [
    "history = model.fit(X_train, Y_train,\n",
    "                     epochs=30,\n",
    "                     verbose=1,\n",
    "                     validation_data=(X_test, Y_test),\n",
    "                     batch_size=30,\n",
    "                    callbacks=callbacks)"
   ]
  },
  {
   "cell_type": "code",
   "execution_count": 14,
   "metadata": {
    "colab": {
     "base_uri": "https://localhost:8080/"
    },
    "id": "GKCc-YKZRBH5",
    "outputId": "36c1101a-ae7f-4b29-e935-0bc2edae91ba"
   },
   "outputs": [
    {
     "name": "stdout",
     "output_type": "stream",
     "text": [
      "              precision    recall  f1-score   support\n",
      "\n",
      "         NOT       0.83      0.83      0.83       465\n",
      "         OFF       0.84      0.83      0.83       475\n",
      "\n",
      "    accuracy                           0.83       940\n",
      "   macro avg       0.83      0.83      0.83       940\n",
      "weighted avg       0.83      0.83      0.83       940\n",
      "\n"
     ]
    }
   ],
   "source": [
    "model.load_weights(model_save_path)\n",
    "import keras\n",
    "class_names = df_train.Labels.unique()\n",
    "y_pred = model.predict(X_test)>0.5\n",
    "y_pred = [str(x[0]).replace(\"False\",\"0\").replace(\"True\",\"1\") for x in y_pred]\n",
    "y_pred = [int(x) for x in y_pred]\n",
    "\n",
    "y_pred = le.inverse_transform(y_pred)\n",
    "print(classification_report(df_val_Label,y_pred))"
   ]
  },
  {
   "cell_type": "code",
   "execution_count": 14,
   "metadata": {
    "id": "T8tLCpo3RBOZ"
   },
   "outputs": [],
   "source": []
  },
  {
   "cell_type": "markdown",
   "metadata": {
    "id": "dgdzCoiyeQ1o"
   },
   "source": [
    "###Creating padded sequences"
   ]
  },
  {
   "cell_type": "code",
   "execution_count": 15,
   "metadata": {
    "colab": {
     "base_uri": "https://localhost:8080/"
    },
    "id": "8xgLDOMSRBP3",
    "outputId": "ae67c3a7-127b-468e-dfef-3c17c60ecec2"
   },
   "outputs": [
    {
     "name": "stdout",
     "output_type": "stream",
     "text": [
      " kalimuthu ne ena lusa yaaru edhu panaalum en da religion ah ilukreenga manishana paaru da modhalla \n",
      "[7014, 25, 38, 2235, 249, 1162, 7015, 27, 5, 1163, 8, 7016, 7017, 141, 5, 1042]\n"
     ]
    }
   ],
   "source": [
    "from keras.preprocessing.text import Tokenizer\n",
    "\n",
    "tokenizer = Tokenizer(num_words=10000)\n",
    "tokenizer.fit_on_texts(corpus_train)\n",
    "\n",
    "X_train = tokenizer.texts_to_sequences(corpus_train)\n",
    "X_test = tokenizer.texts_to_sequences(corpus_val)\n",
    "\n",
    "vocab_size = len(tokenizer.word_index) + 1  # Adding 1 because of reserved 0 index\n",
    "\n",
    "print(corpus_train[2])\n",
    "print(X_train[2])"
   ]
  },
  {
   "cell_type": "code",
   "execution_count": 16,
   "metadata": {
    "id": "I64k25U1RBRc"
   },
   "outputs": [],
   "source": [
    "from keras.preprocessing.sequence import pad_sequences\n",
    "\n",
    "maxlen = 120\n",
    "\n",
    "X_train = pad_sequences(X_train, padding='post', maxlen=maxlen)\n",
    "X_test = pad_sequences(X_test, padding='post', maxlen=maxlen)"
   ]
  },
  {
   "cell_type": "code",
   "execution_count": 16,
   "metadata": {
    "id": "LOTVxZXA8rfy"
   },
   "outputs": [],
   "source": []
  },
  {
   "cell_type": "markdown",
   "metadata": {
    "id": "FgNwLW258r2g"
   },
   "source": [
    "## ANN with Embedding matrix"
   ]
  },
  {
   "cell_type": "code",
   "execution_count": 17,
   "metadata": {
    "id": "YI0Q1BjQRBS8"
   },
   "outputs": [],
   "source": [
    "from keras.models import Sequential\n",
    "from keras import layers\n",
    "\n",
    "embedding_dim = 100\n",
    "\n",
    "model = Sequential()\n",
    "model.add(layers.Embedding(input_dim=vocab_size, \n",
    "                           output_dim=embedding_dim, \n",
    "                           input_length=maxlen))\n",
    "model.add(layers.Flatten())\n",
    "model.add(layers.Dense(512, activation='relu'))\n",
    "model.add(layers.Dense(256, activation='relu'))\n",
    "model.add(layers.Dense(128, activation='relu'))\n",
    "model.add(layers.Dense(1, activation='sigmoid'))\n"
   ]
  },
  {
   "cell_type": "code",
   "execution_count": 18,
   "metadata": {
    "colab": {
     "base_uri": "https://localhost:8080/"
    },
    "id": "aefJF1EH7Tw6",
    "outputId": "5b8b412d-7422-4172-9bfb-4e49bed9fbc8"
   },
   "outputs": [
    {
     "name": "stdout",
     "output_type": "stream",
     "text": [
      "Model: \"sequential_1\"\n",
      "_________________________________________________________________\n",
      "Layer (type)                 Output Shape              Param #   \n",
      "=================================================================\n",
      "embedding (Embedding)        (None, 120, 100)          1668500   \n",
      "_________________________________________________________________\n",
      "flatten (Flatten)            (None, 12000)             0         \n",
      "_________________________________________________________________\n",
      "dense_4 (Dense)              (None, 512)               6144512   \n",
      "_________________________________________________________________\n",
      "dense_5 (Dense)              (None, 256)               131328    \n",
      "_________________________________________________________________\n",
      "dense_6 (Dense)              (None, 128)               32896     \n",
      "_________________________________________________________________\n",
      "dense_7 (Dense)              (None, 1)                 129       \n",
      "=================================================================\n",
      "Total params: 7,977,365\n",
      "Trainable params: 7,977,365\n",
      "Non-trainable params: 0\n",
      "_________________________________________________________________\n"
     ]
    }
   ],
   "source": [
    "optimizer = keras.optimizers.Adam(learning_rate=3e-4)\n",
    "model.compile(optimizer=optimizer,\n",
    "              loss='binary_crossentropy',\n",
    "              metrics=['accuracy'])\n",
    "model.summary()"
   ]
  },
  {
   "cell_type": "code",
   "execution_count": 19,
   "metadata": {
    "id": "R0x33qvPwd48"
   },
   "outputs": [],
   "source": [
    "model_save_path='/content/m2'\n",
    "\n",
    "callbacks = [keras.callbacks.ModelCheckpoint(filepath=model_save_path,save_weights_only=True,monitor='val_accuracy',mode='max',save_best_only=True)]"
   ]
  },
  {
   "cell_type": "code",
   "execution_count": 20,
   "metadata": {
    "colab": {
     "base_uri": "https://localhost:8080/"
    },
    "id": "RiDWccEnRBUa",
    "outputId": "fb553b72-ce54-4871-d217-9162361cf1e7"
   },
   "outputs": [
    {
     "name": "stdout",
     "output_type": "stream",
     "text": [
      "Epoch 1/30\n",
      "125/125 [==============================] - 4s 22ms/step - loss: 0.6869 - accuracy: 0.5469 - val_loss: 0.5835 - val_accuracy: 0.6862\n",
      "Epoch 2/30\n",
      "125/125 [==============================] - 2s 19ms/step - loss: 0.3294 - accuracy: 0.8656 - val_loss: 0.4455 - val_accuracy: 0.7936\n",
      "Epoch 3/30\n",
      "125/125 [==============================] - 2s 19ms/step - loss: 0.0840 - accuracy: 0.9708 - val_loss: 0.4179 - val_accuracy: 0.8426\n",
      "Epoch 4/30\n",
      "125/125 [==============================] - 2s 19ms/step - loss: 0.0216 - accuracy: 0.9920 - val_loss: 0.4471 - val_accuracy: 0.8277\n",
      "Epoch 5/30\n",
      "125/125 [==============================] - 2s 18ms/step - loss: 0.0052 - accuracy: 0.9923 - val_loss: 0.4135 - val_accuracy: 0.8521\n",
      "Epoch 6/30\n",
      "125/125 [==============================] - 2s 20ms/step - loss: 0.0028 - accuracy: 0.9935 - val_loss: 0.5056 - val_accuracy: 0.8191\n",
      "Epoch 7/30\n",
      "125/125 [==============================] - 2s 18ms/step - loss: 0.0044 - accuracy: 0.9931 - val_loss: 0.6211 - val_accuracy: 0.8074\n",
      "Epoch 8/30\n",
      "125/125 [==============================] - 2s 19ms/step - loss: -0.0390 - accuracy: 0.9902 - val_loss: 0.5889 - val_accuracy: 0.8394\n",
      "Epoch 9/30\n",
      "125/125 [==============================] - 2s 18ms/step - loss: -0.0423 - accuracy: 0.9930 - val_loss: 0.6771 - val_accuracy: 0.8426\n",
      "Epoch 10/30\n",
      "125/125 [==============================] - 2s 19ms/step - loss: -0.1020 - accuracy: 0.9930 - val_loss: 2.3170 - val_accuracy: 0.7691\n",
      "Epoch 11/30\n",
      "125/125 [==============================] - 2s 18ms/step - loss: -0.2304 - accuracy: 0.9942 - val_loss: 1.2634 - val_accuracy: 0.8330\n",
      "Epoch 12/30\n",
      "125/125 [==============================] - 2s 18ms/step - loss: -0.2982 - accuracy: 0.9944 - val_loss: 2.6575 - val_accuracy: 0.8319\n",
      "Epoch 13/30\n",
      "125/125 [==============================] - 2s 17ms/step - loss: -0.2265 - accuracy: 0.9921 - val_loss: 9.4195 - val_accuracy: 0.7234\n",
      "Epoch 14/30\n",
      "125/125 [==============================] - 2s 18ms/step - loss: -4.5184 - accuracy: 0.9878 - val_loss: 3.3333 - val_accuracy: 0.8160\n",
      "Epoch 15/30\n",
      "125/125 [==============================] - 2s 19ms/step - loss: -1.3544 - accuracy: 0.9948 - val_loss: 10.1180 - val_accuracy: 0.8223\n",
      "Epoch 16/30\n",
      "125/125 [==============================] - 2s 18ms/step - loss: -5.4614 - accuracy: 0.9913 - val_loss: 23.5062 - val_accuracy: 0.7628\n",
      "Epoch 17/30\n",
      "125/125 [==============================] - 2s 18ms/step - loss: -26.2300 - accuracy: 0.9848 - val_loss: 22.1535 - val_accuracy: 0.7606\n",
      "Epoch 18/30\n",
      "125/125 [==============================] - 2s 19ms/step - loss: -4.2676 - accuracy: 0.9918 - val_loss: 32.1118 - val_accuracy: 0.7872\n",
      "Epoch 19/30\n",
      "125/125 [==============================] - 2s 19ms/step - loss: -28.6934 - accuracy: 0.9825 - val_loss: 76.3715 - val_accuracy: 0.7872\n",
      "Epoch 20/30\n",
      "125/125 [==============================] - 2s 19ms/step - loss: -27.8240 - accuracy: 0.9900 - val_loss: 66.6758 - val_accuracy: 0.7979\n",
      "Epoch 21/30\n",
      "125/125 [==============================] - 2s 19ms/step - loss: -52.4910 - accuracy: 0.9854 - val_loss: 186.1671 - val_accuracy: 0.7245\n",
      "Epoch 22/30\n",
      "125/125 [==============================] - 2s 19ms/step - loss: -2.3227 - accuracy: 0.9897 - val_loss: 353.8353 - val_accuracy: 0.6521\n",
      "Epoch 23/30\n",
      "125/125 [==============================] - 2s 19ms/step - loss: -60.9701 - accuracy: 0.9669 - val_loss: 141.3153 - val_accuracy: 0.7979\n",
      "Epoch 24/30\n",
      "125/125 [==============================] - 2s 19ms/step - loss: -72.5990 - accuracy: 0.9860 - val_loss: 147.6096 - val_accuracy: 0.8160\n",
      "Epoch 25/30\n",
      "125/125 [==============================] - 2s 19ms/step - loss: -319.2049 - accuracy: 0.9772 - val_loss: 494.1813 - val_accuracy: 0.7426\n",
      "Epoch 26/30\n",
      "125/125 [==============================] - 2s 19ms/step - loss: -386.7212 - accuracy: 0.9785 - val_loss: 344.4934 - val_accuracy: 0.7979\n",
      "Epoch 27/30\n",
      "125/125 [==============================] - 2s 19ms/step - loss: -316.8627 - accuracy: 0.9677 - val_loss: 276.4223 - val_accuracy: 0.7436\n",
      "Epoch 28/30\n",
      "125/125 [==============================] - 2s 20ms/step - loss: -306.3556 - accuracy: 0.9839 - val_loss: 551.5429 - val_accuracy: 0.8000\n",
      "Epoch 29/30\n",
      "125/125 [==============================] - 2s 19ms/step - loss: -255.6931 - accuracy: 0.9803 - val_loss: 444.4419 - val_accuracy: 0.7777\n",
      "Epoch 30/30\n",
      "125/125 [==============================] - 2s 19ms/step - loss: -1256.7589 - accuracy: 0.9361 - val_loss: 849.9424 - val_accuracy: 0.7606\n"
     ]
    }
   ],
   "source": [
    "history = model.fit(X_train, Y_train,\n",
    "                     epochs=30,\n",
    "                     verbose=1,\n",
    "                     validation_data=(X_test, Y_test),\n",
    "                     batch_size=32,\n",
    "                    callbacks=callbacks)"
   ]
  },
  {
   "cell_type": "code",
   "execution_count": 21,
   "metadata": {
    "colab": {
     "base_uri": "https://localhost:8080/"
    },
    "id": "7lr2Kg6ARBV3",
    "outputId": "c620c255-591a-4537-d9d3-235752d5f562"
   },
   "outputs": [
    {
     "name": "stdout",
     "output_type": "stream",
     "text": [
      "              precision    recall  f1-score   support\n",
      "\n",
      "         NOT       0.85      0.85      0.85       465\n",
      "         OFF       0.85      0.86      0.85       475\n",
      "\n",
      "    accuracy                           0.85       940\n",
      "   macro avg       0.85      0.85      0.85       940\n",
      "weighted avg       0.85      0.85      0.85       940\n",
      "\n"
     ]
    }
   ],
   "source": [
    "model.load_weights(model_save_path)\n",
    "import keras\n",
    "class_names = df_train.Labels.unique()\n",
    "y_pred = model.predict(X_test)>0.5\n",
    "y_pred = [str(x[0]).replace(\"False\",\"0\").replace(\"True\",\"1\") for x in y_pred]\n",
    "y_pred = [int(x) for x in y_pred]\n",
    "\n",
    "y_pred = le.inverse_transform(y_pred)\n",
    "print(classification_report(df_val_Label,y_pred))"
   ]
  },
  {
   "cell_type": "code",
   "execution_count": 21,
   "metadata": {
    "id": "5MWZvmUhlwEO"
   },
   "outputs": [],
   "source": []
  },
  {
   "cell_type": "markdown",
   "metadata": {
    "id": "ass5ZsSZ9UQU"
   },
   "source": [
    "####Reduced dimension to 50"
   ]
  },
  {
   "cell_type": "code",
   "execution_count": 22,
   "metadata": {
    "colab": {
     "base_uri": "https://localhost:8080/"
    },
    "id": "jh7jw4DIRBXj",
    "outputId": "f9007177-529e-4f3f-d9ff-7a822b181a59"
   },
   "outputs": [
    {
     "name": "stdout",
     "output_type": "stream",
     "text": [
      "Model: \"sequential_2\"\n",
      "_________________________________________________________________\n",
      "Layer (type)                 Output Shape              Param #   \n",
      "=================================================================\n",
      "embedding_1 (Embedding)      (None, 120, 50)           834250    \n",
      "_________________________________________________________________\n",
      "global_max_pooling1d (Global (None, 50)                0         \n",
      "_________________________________________________________________\n",
      "dense_8 (Dense)              (None, 10)                510       \n",
      "_________________________________________________________________\n",
      "dense_9 (Dense)              (None, 1)                 11        \n",
      "=================================================================\n",
      "Total params: 834,771\n",
      "Trainable params: 834,771\n",
      "Non-trainable params: 0\n",
      "_________________________________________________________________\n"
     ]
    }
   ],
   "source": [
    "from keras.models import Sequential\n",
    "from keras import layers\n",
    "\n",
    "embedding_dim = 50\n",
    "\n",
    "model = Sequential()\n",
    "model.add(layers.Embedding(input_dim=vocab_size, \n",
    "                           output_dim=embedding_dim, \n",
    "                           input_length=maxlen))\n",
    "model.add(layers.GlobalMaxPool1D())\n",
    "model.add(layers.Dense(10, activation='relu'))\n",
    "model.add(layers.Dense(1, activation='sigmoid'))\n",
    "model.compile(optimizer='adam',\n",
    "              loss='binary_crossentropy',\n",
    "              metrics=['accuracy'])\n",
    "model.summary()"
   ]
  },
  {
   "cell_type": "code",
   "execution_count": 23,
   "metadata": {
    "id": "5Ug9u7mUwiWG"
   },
   "outputs": [],
   "source": [
    "model_save_path='/content/m3'\n",
    "\n",
    "callbacks = [keras.callbacks.ModelCheckpoint(filepath=model_save_path,save_weights_only=True,monitor='val_accuracy',mode='max',save_best_only=True)]"
   ]
  },
  {
   "cell_type": "code",
   "execution_count": 24,
   "metadata": {
    "colab": {
     "base_uri": "https://localhost:8080/"
    },
    "id": "WksLddAGRBZP",
    "outputId": "3235acfe-880f-43d9-b846-ba0f4b0c444b"
   },
   "outputs": [
    {
     "name": "stdout",
     "output_type": "stream",
     "text": [
      "Epoch 1/30\n",
      "125/125 [==============================] - 2s 11ms/step - loss: 0.6847 - accuracy: 0.6272 - val_loss: 0.6227 - val_accuracy: 0.6745\n",
      "Epoch 2/30\n",
      "125/125 [==============================] - 1s 9ms/step - loss: 0.5429 - accuracy: 0.8806 - val_loss: 0.4176 - val_accuracy: 0.8415\n",
      "Epoch 3/30\n",
      "125/125 [==============================] - 1s 9ms/step - loss: 0.2667 - accuracy: 0.9401 - val_loss: 0.3331 - val_accuracy: 0.8553\n",
      "Epoch 4/30\n",
      "125/125 [==============================] - 1s 9ms/step - loss: 0.1285 - accuracy: 0.9654 - val_loss: 0.3048 - val_accuracy: 0.8691\n",
      "Epoch 5/30\n",
      "125/125 [==============================] - 1s 9ms/step - loss: 0.0595 - accuracy: 0.9863 - val_loss: 0.3147 - val_accuracy: 0.8617\n",
      "Epoch 6/30\n",
      "125/125 [==============================] - 1s 9ms/step - loss: 0.0341 - accuracy: 0.9887 - val_loss: 0.3245 - val_accuracy: 0.8617\n",
      "Epoch 7/30\n",
      "125/125 [==============================] - 1s 9ms/step - loss: 0.0143 - accuracy: 0.9923 - val_loss: 0.3295 - val_accuracy: 0.8638\n",
      "Epoch 8/30\n",
      "125/125 [==============================] - 1s 9ms/step - loss: 0.0130 - accuracy: 0.9899 - val_loss: 0.3371 - val_accuracy: 0.8606\n",
      "Epoch 9/30\n",
      "125/125 [==============================] - 1s 9ms/step - loss: 0.0080 - accuracy: 0.9927 - val_loss: 0.3361 - val_accuracy: 0.8606\n",
      "Epoch 10/30\n",
      "125/125 [==============================] - 1s 10ms/step - loss: 0.0127 - accuracy: 0.9919 - val_loss: 0.3724 - val_accuracy: 0.8521\n",
      "Epoch 11/30\n",
      "125/125 [==============================] - 1s 9ms/step - loss: 0.0028 - accuracy: 0.9931 - val_loss: 0.3334 - val_accuracy: 0.8670\n",
      "Epoch 12/30\n",
      "125/125 [==============================] - 1s 9ms/step - loss: -0.0021 - accuracy: 0.9918 - val_loss: 0.3600 - val_accuracy: 0.8638\n",
      "Epoch 13/30\n",
      "125/125 [==============================] - 1s 9ms/step - loss: 0.0033 - accuracy: 0.9924 - val_loss: 0.3899 - val_accuracy: 0.8543\n",
      "Epoch 14/30\n",
      "125/125 [==============================] - 1s 9ms/step - loss: -0.0062 - accuracy: 0.9927 - val_loss: 0.3786 - val_accuracy: 0.8585\n",
      "Epoch 15/30\n",
      "125/125 [==============================] - 1s 9ms/step - loss: -0.0071 - accuracy: 0.9918 - val_loss: 0.3765 - val_accuracy: 0.8638\n",
      "Epoch 16/30\n",
      "125/125 [==============================] - 1s 9ms/step - loss: 0.0042 - accuracy: 0.9903 - val_loss: 0.3810 - val_accuracy: 0.8628\n",
      "Epoch 17/30\n",
      "125/125 [==============================] - 1s 9ms/step - loss: -0.0112 - accuracy: 0.9919 - val_loss: 0.3887 - val_accuracy: 0.8638\n",
      "Epoch 18/30\n",
      "125/125 [==============================] - 1s 9ms/step - loss: -0.0150 - accuracy: 0.9912 - val_loss: 0.4084 - val_accuracy: 0.8606\n",
      "Epoch 19/30\n",
      "125/125 [==============================] - 1s 9ms/step - loss: 0.0043 - accuracy: 0.9920 - val_loss: 0.4304 - val_accuracy: 0.8564\n",
      "Epoch 20/30\n",
      "125/125 [==============================] - 1s 9ms/step - loss: -0.0173 - accuracy: 0.9935 - val_loss: 0.4163 - val_accuracy: 0.8628\n",
      "Epoch 21/30\n",
      "125/125 [==============================] - 1s 10ms/step - loss: -0.0494 - accuracy: 0.9900 - val_loss: 0.4403 - val_accuracy: 0.8585\n",
      "Epoch 22/30\n",
      "125/125 [==============================] - 1s 10ms/step - loss: 0.0044 - accuracy: 0.9930 - val_loss: 0.4834 - val_accuracy: 0.8511\n",
      "Epoch 23/30\n",
      "125/125 [==============================] - 1s 10ms/step - loss: -0.0235 - accuracy: 0.9938 - val_loss: 0.4584 - val_accuracy: 0.8574\n",
      "Epoch 24/30\n",
      "125/125 [==============================] - 1s 10ms/step - loss: -0.0127 - accuracy: 0.9941 - val_loss: 0.5112 - val_accuracy: 0.8457\n",
      "Epoch 25/30\n",
      "125/125 [==============================] - 1s 10ms/step - loss: -0.0074 - accuracy: 0.9876 - val_loss: 0.5200 - val_accuracy: 0.8479\n",
      "Epoch 26/30\n",
      "125/125 [==============================] - 1s 10ms/step - loss: 0.0034 - accuracy: 0.9915 - val_loss: 0.5192 - val_accuracy: 0.8489\n",
      "Epoch 27/30\n",
      "125/125 [==============================] - 1s 10ms/step - loss: -0.0326 - accuracy: 0.9924 - val_loss: 0.5231 - val_accuracy: 0.8521\n",
      "Epoch 28/30\n",
      "125/125 [==============================] - 1s 10ms/step - loss: -0.0445 - accuracy: 0.9936 - val_loss: 0.5442 - val_accuracy: 0.8479\n",
      "Epoch 29/30\n",
      "125/125 [==============================] - 1s 10ms/step - loss: -0.0554 - accuracy: 0.9885 - val_loss: 0.5487 - val_accuracy: 0.8521\n",
      "Epoch 30/30\n",
      "125/125 [==============================] - 1s 10ms/step - loss: 0.0015 - accuracy: 0.9912 - val_loss: 0.5751 - val_accuracy: 0.8457\n"
     ]
    }
   ],
   "source": [
    "history = model.fit(X_train, Y_train,\n",
    "                     epochs=30,\n",
    "                     verbose=1,\n",
    "                     validation_data=(X_test, Y_test),\n",
    "                     batch_size=32,\n",
    "                    callbacks=callbacks)"
   ]
  },
  {
   "cell_type": "code",
   "execution_count": 25,
   "metadata": {
    "colab": {
     "base_uri": "https://localhost:8080/"
    },
    "id": "vy4AmrppRBa-",
    "outputId": "d7b6eaa6-5e65-41b3-f334-c2a4ee365a64"
   },
   "outputs": [
    {
     "name": "stdout",
     "output_type": "stream",
     "text": [
      "              precision    recall  f1-score   support\n",
      "\n",
      "         NOT       0.91      0.82      0.86       465\n",
      "         OFF       0.84      0.92      0.88       475\n",
      "\n",
      "    accuracy                           0.87       940\n",
      "   macro avg       0.87      0.87      0.87       940\n",
      "weighted avg       0.87      0.87      0.87       940\n",
      "\n"
     ]
    }
   ],
   "source": [
    "model.load_weights(model_save_path)\n",
    "import keras\n",
    "class_names = df_train.Labels.unique()\n",
    "y_pred = model.predict(X_test)>0.5\n",
    "y_pred = [str(x[0]).replace(\"False\",\"0\").replace(\"True\",\"1\") for x in y_pred]\n",
    "y_pred = [int(x) for x in y_pred]\n",
    "\n",
    "y_pred = le.inverse_transform(y_pred)\n",
    "print(classification_report(df_val_Label,y_pred))"
   ]
  },
  {
   "cell_type": "code",
   "execution_count": 25,
   "metadata": {
    "id": "x07SV9waRBkt"
   },
   "outputs": [],
   "source": []
  },
  {
   "cell_type": "markdown",
   "metadata": {
    "id": "2ZnufF6Q9elJ"
   },
   "source": [
    "##CNN"
   ]
  },
  {
   "cell_type": "code",
   "execution_count": 26,
   "metadata": {
    "colab": {
     "base_uri": "https://localhost:8080/"
    },
    "id": "MDpPfjDjRBmT",
    "outputId": "f9ba399c-281b-4fd7-e28f-bb10106d226b"
   },
   "outputs": [
    {
     "name": "stdout",
     "output_type": "stream",
     "text": [
      "Model: \"sequential_3\"\n",
      "_________________________________________________________________\n",
      "Layer (type)                 Output Shape              Param #   \n",
      "=================================================================\n",
      "embedding_2 (Embedding)      (None, 120, 100)          1668500   \n",
      "_________________________________________________________________\n",
      "conv1d (Conv1D)              (None, 120, 64)           19264     \n",
      "_________________________________________________________________\n",
      "global_max_pooling1d_1 (Glob (None, 64)                0         \n",
      "_________________________________________________________________\n",
      "dropout (Dropout)            (None, 64)                0         \n",
      "_________________________________________________________________\n",
      "dense_10 (Dense)             (None, 128)               8320      \n",
      "_________________________________________________________________\n",
      "dense_11 (Dense)             (None, 64)                8256      \n",
      "_________________________________________________________________\n",
      "dense_12 (Dense)             (None, 1)                 65        \n",
      "=================================================================\n",
      "Total params: 1,704,405\n",
      "Trainable params: 1,704,405\n",
      "Non-trainable params: 0\n",
      "_________________________________________________________________\n"
     ]
    }
   ],
   "source": [
    "embedding_dim = 100\n",
    "\n",
    "model = Sequential()\n",
    "model.add(layers.Embedding(vocab_size, embedding_dim, input_length=maxlen))\n",
    "\n",
    "model.add(layers.Conv1D(64,kernel_size=3,padding='same',activation='relu',strides=1))\n",
    "model.add(layers.GlobalMaxPooling1D())\n",
    "model.add(layers.Dropout(0.4))\n",
    "model.add(layers.Dense(128, activation='relu'))\n",
    "model.add(layers.Dense(64, activation='relu'))\n",
    "model.add(layers.Dense(1, activation='sigmoid'))\n",
    "\n",
    "optimizer = keras.optimizers.Adam(learning_rate=3e-4)\n",
    "model.compile(optimizer=optimizer,\n",
    "              loss='binary_crossentropy',\n",
    "              metrics=['accuracy'])\n",
    "model.summary()"
   ]
  },
  {
   "cell_type": "code",
   "execution_count": 27,
   "metadata": {
    "id": "7r1wTlb0wl0S"
   },
   "outputs": [],
   "source": [
    "model_save_path='/content/m4'\n",
    "\n",
    "callbacks = [keras.callbacks.ModelCheckpoint(filepath=model_save_path,save_weights_only=True,monitor='val_accuracy',mode='max',save_best_only=True)]"
   ]
  },
  {
   "cell_type": "code",
   "execution_count": 28,
   "metadata": {
    "colab": {
     "base_uri": "https://localhost:8080/"
    },
    "id": "n1jWA4vGRBn2",
    "outputId": "8d8fa2c5-1e6d-426a-a0ed-8197801cadcf"
   },
   "outputs": [
    {
     "name": "stdout",
     "output_type": "stream",
     "text": [
      "Epoch 1/30\n",
      "125/125 [==============================] - 32s 20ms/step - loss: 0.6921 - accuracy: 0.5203 - val_loss: 0.6832 - val_accuracy: 0.6266\n",
      "Epoch 2/30\n",
      "125/125 [==============================] - 2s 16ms/step - loss: 0.6061 - accuracy: 0.7674 - val_loss: 0.3852 - val_accuracy: 0.8415\n",
      "Epoch 3/30\n",
      "125/125 [==============================] - 2s 17ms/step - loss: 0.2539 - accuracy: 0.9057 - val_loss: 0.2793 - val_accuracy: 0.8798\n",
      "Epoch 4/30\n",
      "125/125 [==============================] - 2s 17ms/step - loss: 0.1081 - accuracy: 0.9639 - val_loss: 0.2834 - val_accuracy: 0.8745\n",
      "Epoch 5/30\n",
      "125/125 [==============================] - 2s 16ms/step - loss: 0.0517 - accuracy: 0.9875 - val_loss: 0.3364 - val_accuracy: 0.8543\n",
      "Epoch 6/30\n",
      "125/125 [==============================] - 2s 16ms/step - loss: 0.0285 - accuracy: 0.9922 - val_loss: 0.4017 - val_accuracy: 0.8383\n",
      "Epoch 7/30\n",
      "125/125 [==============================] - 2s 17ms/step - loss: -0.0141 - accuracy: 0.9881 - val_loss: 0.3756 - val_accuracy: 0.8564\n",
      "Epoch 8/30\n",
      "125/125 [==============================] - 2s 16ms/step - loss: 0.0302 - accuracy: 0.9917 - val_loss: 0.3984 - val_accuracy: 0.8574\n",
      "Epoch 9/30\n",
      "125/125 [==============================] - 2s 16ms/step - loss: 0.0210 - accuracy: 0.9910 - val_loss: 0.4105 - val_accuracy: 0.8532\n",
      "Epoch 10/30\n",
      "125/125 [==============================] - 2s 16ms/step - loss: -0.0056 - accuracy: 0.9951 - val_loss: 0.4352 - val_accuracy: 0.8489\n",
      "Epoch 11/30\n",
      "125/125 [==============================] - 2s 17ms/step - loss: 0.0099 - accuracy: 0.9948 - val_loss: 0.5043 - val_accuracy: 0.8351\n",
      "Epoch 12/30\n",
      "125/125 [==============================] - 2s 18ms/step - loss: 0.0073 - accuracy: 0.9912 - val_loss: 0.4731 - val_accuracy: 0.8532\n",
      "Epoch 13/30\n",
      "125/125 [==============================] - 2s 18ms/step - loss: -0.0429 - accuracy: 0.9908 - val_loss: 0.5192 - val_accuracy: 0.8351\n",
      "Epoch 14/30\n",
      "125/125 [==============================] - 2s 18ms/step - loss: -0.0015 - accuracy: 0.9929 - val_loss: 0.5426 - val_accuracy: 0.8362\n",
      "Epoch 15/30\n",
      "125/125 [==============================] - 2s 18ms/step - loss: -0.0051 - accuracy: 0.9898 - val_loss: 0.5470 - val_accuracy: 0.8404\n",
      "Epoch 16/30\n",
      "125/125 [==============================] - 2s 18ms/step - loss: 0.0086 - accuracy: 0.9882 - val_loss: 0.5770 - val_accuracy: 0.8383\n",
      "Epoch 17/30\n",
      "125/125 [==============================] - 2s 18ms/step - loss: 5.7467e-04 - accuracy: 0.9908 - val_loss: 0.7858 - val_accuracy: 0.7989\n",
      "Epoch 18/30\n",
      "125/125 [==============================] - 2s 18ms/step - loss: -0.0096 - accuracy: 0.9911 - val_loss: 0.7343 - val_accuracy: 0.8255\n",
      "Epoch 19/30\n",
      "125/125 [==============================] - 2s 17ms/step - loss: -0.0381 - accuracy: 0.9933 - val_loss: 0.6838 - val_accuracy: 0.8574\n",
      "Epoch 20/30\n",
      "125/125 [==============================] - 2s 18ms/step - loss: -0.0764 - accuracy: 0.9928 - val_loss: 0.7053 - val_accuracy: 0.8457\n",
      "Epoch 21/30\n",
      "125/125 [==============================] - 2s 18ms/step - loss: -0.1193 - accuracy: 0.9911 - val_loss: 0.7567 - val_accuracy: 0.8500\n",
      "Epoch 22/30\n",
      "125/125 [==============================] - 2s 18ms/step - loss: -0.2543 - accuracy: 0.9927 - val_loss: 0.8763 - val_accuracy: 0.8457\n",
      "Epoch 23/30\n",
      "125/125 [==============================] - 2s 18ms/step - loss: -0.1625 - accuracy: 0.9916 - val_loss: 0.8779 - val_accuracy: 0.8457\n",
      "Epoch 24/30\n",
      "125/125 [==============================] - 2s 18ms/step - loss: -0.4250 - accuracy: 0.9915 - val_loss: 0.9569 - val_accuracy: 0.8489\n",
      "Epoch 25/30\n",
      "125/125 [==============================] - 2s 17ms/step - loss: -0.0996 - accuracy: 0.9921 - val_loss: 1.0954 - val_accuracy: 0.8457\n",
      "Epoch 26/30\n",
      "125/125 [==============================] - 2s 17ms/step - loss: -0.1442 - accuracy: 0.9908 - val_loss: 1.1471 - val_accuracy: 0.8404\n",
      "Epoch 27/30\n",
      "125/125 [==============================] - 2s 19ms/step - loss: -0.5333 - accuracy: 0.9927 - val_loss: 1.2444 - val_accuracy: 0.8287\n",
      "Epoch 28/30\n",
      "125/125 [==============================] - 2s 18ms/step - loss: -0.4717 - accuracy: 0.9941 - val_loss: 1.4189 - val_accuracy: 0.8351\n",
      "Epoch 29/30\n",
      "125/125 [==============================] - 2s 19ms/step - loss: -0.0168 - accuracy: 0.9895 - val_loss: 1.5838 - val_accuracy: 0.8277\n",
      "Epoch 30/30\n",
      "125/125 [==============================] - 2s 18ms/step - loss: -0.2344 - accuracy: 0.9919 - val_loss: 1.7378 - val_accuracy: 0.8138\n"
     ]
    }
   ],
   "source": [
    "history = model.fit(X_train, Y_train,\n",
    "                     epochs=30,\n",
    "                     verbose=1,\n",
    "                     validation_data=(X_test, Y_test),\n",
    "                     batch_size=32,\n",
    "                    callbacks=callbacks)"
   ]
  },
  {
   "cell_type": "code",
   "execution_count": 29,
   "metadata": {
    "colab": {
     "base_uri": "https://localhost:8080/"
    },
    "id": "rImyJZbiRBpw",
    "outputId": "dd958a66-a45b-4703-e81f-01b41db171ef"
   },
   "outputs": [
    {
     "name": "stdout",
     "output_type": "stream",
     "text": [
      "              precision    recall  f1-score   support\n",
      "\n",
      "         NOT       0.87      0.89      0.88       465\n",
      "         OFF       0.89      0.87      0.88       475\n",
      "\n",
      "    accuracy                           0.88       940\n",
      "   macro avg       0.88      0.88      0.88       940\n",
      "weighted avg       0.88      0.88      0.88       940\n",
      "\n"
     ]
    }
   ],
   "source": [
    "model.load_weights(model_save_path)\n",
    "import keras\n",
    "class_names = df_train.Labels.unique()\n",
    "y_pred = model.predict(X_test)>0.5\n",
    "y_pred = [str(x[0]).replace(\"False\",\"0\").replace(\"True\",\"1\") for x in y_pred]\n",
    "y_pred = [int(x) for x in y_pred]\n",
    "\n",
    "y_pred = le.inverse_transform(y_pred)\n",
    "print(classification_report(df_val_Label,y_pred))"
   ]
  },
  {
   "cell_type": "code",
   "execution_count": 29,
   "metadata": {
    "id": "VnueWphERBu2"
   },
   "outputs": [],
   "source": []
  },
  {
   "cell_type": "code",
   "execution_count": 30,
   "metadata": {
    "colab": {
     "base_uri": "https://localhost:8080/"
    },
    "id": "tZrOzmRfRBwk",
    "outputId": "fff30091-0d84-4650-9f8e-815d3bc939e9"
   },
   "outputs": [
    {
     "name": "stdout",
     "output_type": "stream",
     "text": [
      "Model: \"sequential_4\"\n",
      "_________________________________________________________________\n",
      "Layer (type)                 Output Shape              Param #   \n",
      "=================================================================\n",
      "embedding_3 (Embedding)      (None, 120, 50)           834250    \n",
      "_________________________________________________________________\n",
      "conv1d_1 (Conv1D)            (None, 120, 64)           9664      \n",
      "_________________________________________________________________\n",
      "global_max_pooling1d_2 (Glob (None, 64)                0         \n",
      "_________________________________________________________________\n",
      "dropout_1 (Dropout)          (None, 64)                0         \n",
      "_________________________________________________________________\n",
      "dense_13 (Dense)             (None, 128)               8320      \n",
      "_________________________________________________________________\n",
      "dense_14 (Dense)             (None, 64)                8256      \n",
      "_________________________________________________________________\n",
      "dense_15 (Dense)             (None, 1)                 65        \n",
      "=================================================================\n",
      "Total params: 860,555\n",
      "Trainable params: 860,555\n",
      "Non-trainable params: 0\n",
      "_________________________________________________________________\n"
     ]
    }
   ],
   "source": [
    "embedding_dim = 50\n",
    "\n",
    "model = Sequential()\n",
    "model.add(layers.Embedding(vocab_size, embedding_dim, input_length=maxlen))\n",
    "\n",
    "model.add(layers.Conv1D(64,kernel_size=3,padding='same',activation='relu',strides=1))\n",
    "model.add(layers.GlobalMaxPooling1D())\n",
    "model.add(layers.Dropout(0.4))\n",
    "model.add(layers.Dense(128, activation='relu'))\n",
    "model.add(layers.Dense(64, activation='relu'))\n",
    "model.add(layers.Dense(1, activation='sigmoid'))\n",
    "\n",
    "optimizer = keras.optimizers.Adam(learning_rate=3e-4)\n",
    "model.compile(optimizer=optimizer,\n",
    "              loss='binary_crossentropy',\n",
    "              metrics=['accuracy'])\n",
    "model.summary()"
   ]
  },
  {
   "cell_type": "code",
   "execution_count": 31,
   "metadata": {
    "id": "WS3LbRtZRByF"
   },
   "outputs": [],
   "source": [
    "model_save_path='/content/m5'\n",
    "\n",
    "callbacks = [keras.callbacks.ModelCheckpoint(filepath=model_save_path,save_weights_only=True,monitor='val_accuracy',mode='max',save_best_only=True)]"
   ]
  },
  {
   "cell_type": "code",
   "execution_count": 32,
   "metadata": {
    "colab": {
     "base_uri": "https://localhost:8080/"
    },
    "id": "CeTVFdMP9uOl",
    "outputId": "6ce0b32b-1a1f-4332-b2d0-e9057047ad39"
   },
   "outputs": [
    {
     "name": "stdout",
     "output_type": "stream",
     "text": [
      "Epoch 1/30\n",
      "125/125 [==============================] - 3s 15ms/step - loss: 0.6919 - accuracy: 0.5256 - val_loss: 0.6729 - val_accuracy: 0.7489\n",
      "Epoch 2/30\n",
      "125/125 [==============================] - 1s 11ms/step - loss: 0.6032 - accuracy: 0.7581 - val_loss: 0.3313 - val_accuracy: 0.8947\n",
      "Epoch 3/30\n",
      "125/125 [==============================] - 1s 11ms/step - loss: 0.2654 - accuracy: 0.9025 - val_loss: 0.2731 - val_accuracy: 0.8798\n",
      "Epoch 4/30\n",
      "125/125 [==============================] - 1s 12ms/step - loss: 0.1397 - accuracy: 0.9578 - val_loss: 0.2750 - val_accuracy: 0.8787\n",
      "Epoch 5/30\n",
      "125/125 [==============================] - 1s 12ms/step - loss: 0.0768 - accuracy: 0.9767 - val_loss: 0.2776 - val_accuracy: 0.8787\n",
      "Epoch 6/30\n",
      "125/125 [==============================] - 1s 11ms/step - loss: 0.0439 - accuracy: 0.9819 - val_loss: 0.3026 - val_accuracy: 0.8755\n",
      "Epoch 7/30\n",
      "125/125 [==============================] - 1s 11ms/step - loss: 0.0209 - accuracy: 0.9883 - val_loss: 0.3231 - val_accuracy: 0.8745\n",
      "Epoch 8/30\n",
      "125/125 [==============================] - 1s 11ms/step - loss: 0.0219 - accuracy: 0.9896 - val_loss: 0.3412 - val_accuracy: 0.8734\n",
      "Epoch 9/30\n",
      "125/125 [==============================] - 1s 11ms/step - loss: 0.0221 - accuracy: 0.9902 - val_loss: 0.3408 - val_accuracy: 0.8819\n",
      "Epoch 10/30\n",
      "125/125 [==============================] - 1s 11ms/step - loss: 0.0174 - accuracy: 0.9879 - val_loss: 0.3808 - val_accuracy: 0.8649\n",
      "Epoch 11/30\n",
      "125/125 [==============================] - 1s 11ms/step - loss: 0.0155 - accuracy: 0.9924 - val_loss: 0.4529 - val_accuracy: 0.8553\n",
      "Epoch 12/30\n",
      "125/125 [==============================] - 1s 10ms/step - loss: 0.0225 - accuracy: 0.9897 - val_loss: 0.4073 - val_accuracy: 0.8713\n",
      "Epoch 13/30\n",
      "125/125 [==============================] - 1s 11ms/step - loss: -0.0052 - accuracy: 0.9922 - val_loss: 0.4292 - val_accuracy: 0.8617\n",
      "Epoch 14/30\n",
      "125/125 [==============================] - 1s 10ms/step - loss: 0.0228 - accuracy: 0.9912 - val_loss: 0.4504 - val_accuracy: 0.8670\n",
      "Epoch 15/30\n",
      "125/125 [==============================] - 1s 10ms/step - loss: -0.0431 - accuracy: 0.9917 - val_loss: 0.4784 - val_accuracy: 0.8723\n",
      "Epoch 16/30\n",
      "125/125 [==============================] - 2s 13ms/step - loss: -0.0323 - accuracy: 0.9914 - val_loss: 0.5029 - val_accuracy: 0.8553\n",
      "Epoch 17/30\n",
      "125/125 [==============================] - 1s 11ms/step - loss: -0.0071 - accuracy: 0.9898 - val_loss: 0.5309 - val_accuracy: 0.8638\n",
      "Epoch 18/30\n",
      "125/125 [==============================] - 1s 11ms/step - loss: -0.0155 - accuracy: 0.9910 - val_loss: 0.5756 - val_accuracy: 0.8447\n",
      "Epoch 19/30\n",
      "125/125 [==============================] - 1s 11ms/step - loss: -0.0771 - accuracy: 0.9940 - val_loss: 0.5761 - val_accuracy: 0.8500\n",
      "Epoch 20/30\n",
      "125/125 [==============================] - 1s 11ms/step - loss: -0.0655 - accuracy: 0.9928 - val_loss: 0.5911 - val_accuracy: 0.8585\n",
      "Epoch 21/30\n",
      "125/125 [==============================] - 1s 11ms/step - loss: -0.2072 - accuracy: 0.9914 - val_loss: 0.6327 - val_accuracy: 0.8606\n",
      "Epoch 22/30\n",
      "125/125 [==============================] - 1s 11ms/step - loss: -0.1757 - accuracy: 0.9919 - val_loss: 0.8226 - val_accuracy: 0.8202\n",
      "Epoch 23/30\n",
      "125/125 [==============================] - 1s 11ms/step - loss: -0.0680 - accuracy: 0.9916 - val_loss: 0.6873 - val_accuracy: 0.8649\n",
      "Epoch 24/30\n",
      "125/125 [==============================] - 1s 12ms/step - loss: -0.3412 - accuracy: 0.9939 - val_loss: 0.7412 - val_accuracy: 0.8660\n",
      "Epoch 25/30\n",
      "125/125 [==============================] - 1s 11ms/step - loss: -0.2920 - accuracy: 0.9898 - val_loss: 0.7706 - val_accuracy: 0.8649\n",
      "Epoch 26/30\n",
      "125/125 [==============================] - 1s 11ms/step - loss: -0.3213 - accuracy: 0.9896 - val_loss: 0.8492 - val_accuracy: 0.8702\n",
      "Epoch 27/30\n",
      "125/125 [==============================] - 1s 11ms/step - loss: -0.0955 - accuracy: 0.9942 - val_loss: 0.9369 - val_accuracy: 0.8564\n",
      "Epoch 28/30\n",
      "125/125 [==============================] - 1s 11ms/step - loss: -0.5051 - accuracy: 0.9905 - val_loss: 1.1195 - val_accuracy: 0.8543\n",
      "Epoch 29/30\n",
      "125/125 [==============================] - 1s 11ms/step - loss: -0.3465 - accuracy: 0.9950 - val_loss: 1.2382 - val_accuracy: 0.8351\n",
      "Epoch 30/30\n",
      "125/125 [==============================] - 1s 11ms/step - loss: -0.9440 - accuracy: 0.9929 - val_loss: 1.3540 - val_accuracy: 0.8404\n"
     ]
    }
   ],
   "source": [
    "history = model.fit(X_train, Y_train,\n",
    "                     epochs=30,\n",
    "                     verbose=1,\n",
    "                     validation_data=(X_test, Y_test),\n",
    "                     batch_size=32,\n",
    "                    callbacks=callbacks)"
   ]
  },
  {
   "cell_type": "code",
   "execution_count": 33,
   "metadata": {
    "colab": {
     "base_uri": "https://localhost:8080/"
    },
    "id": "hHm48KEO9uQt",
    "outputId": "56e76d33-bb64-48b0-e806-5ddd7d64bc5b"
   },
   "outputs": [
    {
     "name": "stdout",
     "output_type": "stream",
     "text": [
      "              precision    recall  f1-score   support\n",
      "\n",
      "         NOT       0.85      0.95      0.90       465\n",
      "         OFF       0.95      0.84      0.89       475\n",
      "\n",
      "    accuracy                           0.89       940\n",
      "   macro avg       0.90      0.90      0.89       940\n",
      "weighted avg       0.90      0.89      0.89       940\n",
      "\n"
     ]
    }
   ],
   "source": [
    "model.load_weights(model_save_path)\n",
    "import keras\n",
    "class_names = df_train.Labels.unique()\n",
    "y_pred = model.predict(X_test)>0.5\n",
    "y_pred = [str(x[0]).replace(\"False\",\"0\").replace(\"True\",\"1\") for x in y_pred]\n",
    "y_pred = [int(x) for x in y_pred]\n",
    "\n",
    "y_pred = le.inverse_transform(y_pred)\n",
    "print(classification_report(df_val_Label,y_pred))"
   ]
  },
  {
   "cell_type": "code",
   "execution_count": 33,
   "metadata": {
    "id": "2cyCggkE9uTE"
   },
   "outputs": [],
   "source": []
  },
  {
   "cell_type": "code",
   "execution_count": 33,
   "metadata": {
    "id": "nh29JIZ29uUz"
   },
   "outputs": [],
   "source": []
  },
  {
   "cell_type": "markdown",
   "metadata": {
    "id": "05n0pNqNddQ_"
   },
   "source": [
    "## BILSTM"
   ]
  },
  {
   "cell_type": "code",
   "execution_count": 34,
   "metadata": {
    "colab": {
     "base_uri": "https://localhost:8080/"
    },
    "id": "HtB-Mu5tRBzc",
    "outputId": "1268c468-76ce-4bd0-ee12-322d90b9e875"
   },
   "outputs": [
    {
     "name": "stdout",
     "output_type": "stream",
     "text": [
      "Model: \"sequential_5\"\n",
      "_________________________________________________________________\n",
      "Layer (type)                 Output Shape              Param #   \n",
      "=================================================================\n",
      "embedding_4 (Embedding)      (None, 120, 100)          1668500   \n",
      "_________________________________________________________________\n",
      "bidirectional (Bidirectional (None, 120, 512)          731136    \n",
      "_________________________________________________________________\n",
      "global_max_pooling1d_3 (Glob (None, 512)               0         \n",
      "_________________________________________________________________\n",
      "batch_normalization (BatchNo (None, 512)               2048      \n",
      "_________________________________________________________________\n",
      "dropout_2 (Dropout)          (None, 512)               0         \n",
      "_________________________________________________________________\n",
      "dense_16 (Dense)             (None, 20)                10260     \n",
      "_________________________________________________________________\n",
      "dropout_3 (Dropout)          (None, 20)                0         \n",
      "_________________________________________________________________\n",
      "dense_17 (Dense)             (None, 2)                 42        \n",
      "_________________________________________________________________\n",
      "dense_18 (Dense)             (None, 1)                 3         \n",
      "=================================================================\n",
      "Total params: 2,411,989\n",
      "Trainable params: 2,410,965\n",
      "Non-trainable params: 1,024\n",
      "_________________________________________________________________\n"
     ]
    }
   ],
   "source": [
    "embedding_dim = 100\n",
    "max_len = 120\n",
    "\n",
    "model = Sequential()\n",
    "\n",
    "model.add(layers.Embedding(vocab_size, embedding_dim, input_length=maxlen))\n",
    "\n",
    "model.add(keras.layers.Bidirectional(keras.layers.LSTM(256, return_sequences=True)))\n",
    "\n",
    "model.add(layers.GlobalMaxPooling1D())\n",
    "model.add(layers.BatchNormalization())\n",
    "model.add(layers.Dropout(0.5))\n",
    "\n",
    "model.add(layers.Dense(20, activation='relu'))\n",
    "model.add(layers.Dropout(0.3))\n",
    "\n",
    "model.add(layers.Dense(2, activation='softmax'))\n",
    "\n",
    "model.add(layers.Dense(1, activation='sigmoid'))\n",
    "\n",
    "optimizer = keras.optimizers.Adam(learning_rate=3e-4)\n",
    "model.compile(optimizer=optimizer,\n",
    "              loss='binary_crossentropy',\n",
    "              metrics=['accuracy'])\n",
    "model.summary()"
   ]
  },
  {
   "cell_type": "code",
   "execution_count": 42,
   "metadata": {
    "id": "5XN39QLmRB1V"
   },
   "outputs": [],
   "source": [
    "model_save_path='/content/m6'\n",
    "\n",
    "callbacks = [keras.callbacks.ModelCheckpoint(filepath=model_save_path,save_weights_only=True,monitor='val_accuracy',mode='max',save_best_only=True)]"
   ]
  },
  {
   "cell_type": "code",
   "execution_count": 43,
   "metadata": {
    "colab": {
     "base_uri": "https://localhost:8080/"
    },
    "id": "HzBDVKfaRB3N",
    "outputId": "7a5a764c-e316-445e-fe18-84244dd8650d"
   },
   "outputs": [
    {
     "name": "stdout",
     "output_type": "stream",
     "text": [
      "Epoch 1/50\n",
      "125/125 [==============================] - 4s 34ms/step - loss: 0.5107 - accuracy: 0.8147 - val_loss: 0.7179 - val_accuracy: 0.4957\n",
      "Epoch 2/50\n",
      "125/125 [==============================] - 4s 34ms/step - loss: 0.4735 - accuracy: 0.8710 - val_loss: 0.7942 - val_accuracy: 0.5543\n",
      "Epoch 3/50\n",
      "125/125 [==============================] - 4s 35ms/step - loss: 0.4643 - accuracy: 0.8955 - val_loss: 0.5583 - val_accuracy: 0.7745\n",
      "Epoch 4/50\n",
      "125/125 [==============================] - 5s 36ms/step - loss: 0.4313 - accuracy: 0.9337 - val_loss: 0.8471 - val_accuracy: 0.5085\n",
      "Epoch 5/50\n",
      "125/125 [==============================] - 4s 35ms/step - loss: 0.4189 - accuracy: 0.9482 - val_loss: 0.7700 - val_accuracy: 0.5787\n",
      "Epoch 6/50\n",
      "125/125 [==============================] - 4s 35ms/step - loss: 0.4051 - accuracy: 0.9640 - val_loss: 0.7149 - val_accuracy: 0.6234\n",
      "Epoch 7/50\n",
      "125/125 [==============================] - 4s 35ms/step - loss: 0.3966 - accuracy: 0.9757 - val_loss: 0.6803 - val_accuracy: 0.6596\n",
      "Epoch 8/50\n",
      "125/125 [==============================] - 4s 35ms/step - loss: 0.3919 - accuracy: 0.9797 - val_loss: 0.6833 - val_accuracy: 0.5511\n",
      "Epoch 9/50\n",
      "125/125 [==============================] - 4s 34ms/step - loss: 0.3872 - accuracy: 0.9835 - val_loss: 0.6193 - val_accuracy: 0.7181\n",
      "Epoch 10/50\n",
      "125/125 [==============================] - 4s 33ms/step - loss: 0.3866 - accuracy: 0.9810 - val_loss: 0.7260 - val_accuracy: 0.4947\n",
      "Epoch 11/50\n",
      "125/125 [==============================] - 4s 33ms/step - loss: 0.3839 - accuracy: 0.9837 - val_loss: 0.7654 - val_accuracy: 0.5894\n",
      "Epoch 12/50\n",
      "125/125 [==============================] - 4s 33ms/step - loss: 0.3800 - accuracy: 0.9855 - val_loss: 0.6054 - val_accuracy: 0.7372\n",
      "Epoch 13/50\n",
      "125/125 [==============================] - 4s 33ms/step - loss: 0.3791 - accuracy: 0.9857 - val_loss: 0.5447 - val_accuracy: 0.7862\n",
      "Epoch 14/50\n",
      "125/125 [==============================] - 4s 33ms/step - loss: 0.3768 - accuracy: 0.9867 - val_loss: 0.6762 - val_accuracy: 0.6713\n",
      "Epoch 15/50\n",
      "125/125 [==============================] - 4s 33ms/step - loss: 0.3738 - accuracy: 0.9887 - val_loss: 0.5620 - val_accuracy: 0.7787\n",
      "Epoch 16/50\n",
      "125/125 [==============================] - 4s 33ms/step - loss: 0.3728 - accuracy: 0.9882 - val_loss: 0.6738 - val_accuracy: 0.6777\n",
      "Epoch 17/50\n",
      "125/125 [==============================] - 4s 33ms/step - loss: 0.3726 - accuracy: 0.9870 - val_loss: 0.5321 - val_accuracy: 0.7979\n",
      "Epoch 18/50\n",
      "125/125 [==============================] - 4s 33ms/step - loss: 0.3702 - accuracy: 0.9880 - val_loss: 0.5766 - val_accuracy: 0.7660\n",
      "Epoch 19/50\n",
      "125/125 [==============================] - 4s 35ms/step - loss: 0.3682 - accuracy: 0.9890 - val_loss: 0.5828 - val_accuracy: 0.7606\n",
      "Epoch 20/50\n",
      "125/125 [==============================] - 4s 35ms/step - loss: 0.3672 - accuracy: 0.9890 - val_loss: 0.5862 - val_accuracy: 0.7574\n",
      "Epoch 21/50\n",
      "125/125 [==============================] - 4s 35ms/step - loss: 0.3656 - accuracy: 0.9892 - val_loss: 0.5889 - val_accuracy: 0.7564\n",
      "Epoch 22/50\n",
      "125/125 [==============================] - 4s 35ms/step - loss: 0.3645 - accuracy: 0.9890 - val_loss: 0.5278 - val_accuracy: 0.7979\n",
      "Epoch 23/50\n",
      "125/125 [==============================] - 4s 36ms/step - loss: 0.3631 - accuracy: 0.9892 - val_loss: 0.5862 - val_accuracy: 0.7585\n",
      "Epoch 24/50\n",
      "125/125 [==============================] - 4s 35ms/step - loss: 0.3615 - accuracy: 0.9895 - val_loss: 0.5771 - val_accuracy: 0.7638\n",
      "Epoch 25/50\n",
      "125/125 [==============================] - 4s 33ms/step - loss: 0.3601 - accuracy: 0.9897 - val_loss: 0.5747 - val_accuracy: 0.7649\n",
      "Epoch 26/50\n",
      "125/125 [==============================] - 4s 33ms/step - loss: 0.3589 - accuracy: 0.9897 - val_loss: 0.5778 - val_accuracy: 0.7617\n",
      "Epoch 27/50\n",
      "125/125 [==============================] - 4s 33ms/step - loss: 0.3577 - accuracy: 0.9897 - val_loss: 0.5785 - val_accuracy: 0.7606\n",
      "Epoch 28/50\n",
      "125/125 [==============================] - 4s 33ms/step - loss: 0.3565 - accuracy: 0.9897 - val_loss: 0.5777 - val_accuracy: 0.7617\n",
      "Epoch 29/50\n",
      "125/125 [==============================] - 4s 33ms/step - loss: 0.3553 - accuracy: 0.9897 - val_loss: 0.5776 - val_accuracy: 0.7617\n",
      "Epoch 30/50\n",
      "125/125 [==============================] - 4s 33ms/step - loss: 0.3541 - accuracy: 0.9897 - val_loss: 0.5774 - val_accuracy: 0.7617\n",
      "Epoch 31/50\n",
      "125/125 [==============================] - 4s 33ms/step - loss: 0.3530 - accuracy: 0.9897 - val_loss: 0.5773 - val_accuracy: 0.7606\n",
      "Epoch 32/50\n",
      "125/125 [==============================] - 4s 33ms/step - loss: 0.3518 - accuracy: 0.9897 - val_loss: 0.5782 - val_accuracy: 0.7606\n",
      "Epoch 33/50\n",
      "125/125 [==============================] - 4s 33ms/step - loss: 0.3507 - accuracy: 0.9895 - val_loss: 0.5770 - val_accuracy: 0.7628\n",
      "Epoch 34/50\n",
      "125/125 [==============================] - 4s 34ms/step - loss: 0.3495 - accuracy: 0.9897 - val_loss: 0.5765 - val_accuracy: 0.7628\n",
      "Epoch 35/50\n",
      "125/125 [==============================] - 4s 36ms/step - loss: 0.3483 - accuracy: 0.9897 - val_loss: 0.5763 - val_accuracy: 0.7628\n",
      "Epoch 36/50\n",
      "125/125 [==============================] - 4s 35ms/step - loss: 0.3471 - accuracy: 0.9897 - val_loss: 0.5763 - val_accuracy: 0.7617\n",
      "Epoch 37/50\n",
      "125/125 [==============================] - 4s 35ms/step - loss: 0.3460 - accuracy: 0.9897 - val_loss: 0.5759 - val_accuracy: 0.7628\n",
      "Epoch 38/50\n",
      "125/125 [==============================] - 4s 35ms/step - loss: 0.3449 - accuracy: 0.9897 - val_loss: 0.5755 - val_accuracy: 0.7617\n",
      "Epoch 39/50\n",
      "125/125 [==============================] - 4s 35ms/step - loss: 0.3437 - accuracy: 0.9897 - val_loss: 0.5753 - val_accuracy: 0.7617\n",
      "Epoch 40/50\n",
      "125/125 [==============================] - 4s 34ms/step - loss: 0.3426 - accuracy: 0.9897 - val_loss: 0.5751 - val_accuracy: 0.7617\n",
      "Epoch 41/50\n",
      "125/125 [==============================] - 4s 33ms/step - loss: 0.3415 - accuracy: 0.9897 - val_loss: 0.5754 - val_accuracy: 0.7606\n",
      "Epoch 42/50\n",
      "125/125 [==============================] - 4s 33ms/step - loss: 0.3404 - accuracy: 0.9897 - val_loss: 0.5744 - val_accuracy: 0.7606\n",
      "Epoch 43/50\n",
      "125/125 [==============================] - 4s 33ms/step - loss: 0.3392 - accuracy: 0.9897 - val_loss: 0.5745 - val_accuracy: 0.7585\n",
      "Epoch 44/50\n",
      "125/125 [==============================] - 4s 33ms/step - loss: 0.3381 - accuracy: 0.9897 - val_loss: 0.5725 - val_accuracy: 0.7617\n",
      "Epoch 45/50\n",
      "125/125 [==============================] - 4s 33ms/step - loss: 0.3371 - accuracy: 0.9897 - val_loss: 0.5712 - val_accuracy: 0.7617\n",
      "Epoch 46/50\n",
      "125/125 [==============================] - 4s 33ms/step - loss: 0.3359 - accuracy: 0.9897 - val_loss: 0.5720 - val_accuracy: 0.7628\n",
      "Epoch 47/50\n",
      "125/125 [==============================] - 4s 34ms/step - loss: 0.3349 - accuracy: 0.9897 - val_loss: 0.5729 - val_accuracy: 0.7606\n",
      "Epoch 48/50\n",
      "125/125 [==============================] - 4s 33ms/step - loss: 0.3338 - accuracy: 0.9897 - val_loss: 0.5729 - val_accuracy: 0.7596\n",
      "Epoch 49/50\n",
      "125/125 [==============================] - 4s 34ms/step - loss: 0.3328 - accuracy: 0.9895 - val_loss: 0.5987 - val_accuracy: 0.7404\n",
      "Epoch 50/50\n",
      "125/125 [==============================] - 4s 35ms/step - loss: 0.3316 - accuracy: 0.9897 - val_loss: 0.5831 - val_accuracy: 0.7511\n"
     ]
    }
   ],
   "source": [
    "history = model.fit(X_train, Y_train,\n",
    "                     epochs=50,\n",
    "                     verbose=1,\n",
    "                     validation_data=(X_test, Y_test),\n",
    "                     batch_size=32,\n",
    "                    callbacks = callbacks)"
   ]
  },
  {
   "cell_type": "code",
   "execution_count": 44,
   "metadata": {
    "colab": {
     "base_uri": "https://localhost:8080/"
    },
    "id": "LB9Fx3-KRB44",
    "outputId": "d79cee71-4921-4dda-bb3e-7ac7239cc652"
   },
   "outputs": [
    {
     "name": "stdout",
     "output_type": "stream",
     "text": [
      "              precision    recall  f1-score   support\n",
      "\n",
      "         NOT       0.81      0.78      0.79       465\n",
      "         OFF       0.79      0.82      0.80       475\n",
      "\n",
      "    accuracy                           0.80       940\n",
      "   macro avg       0.80      0.80      0.80       940\n",
      "weighted avg       0.80      0.80      0.80       940\n",
      "\n"
     ]
    }
   ],
   "source": [
    "model.load_weights(model_save_path)\n",
    "\n",
    "class_names = df_train.Labels.unique()\n",
    "y_pred = model.predict(X_test)>0.5\n",
    "y_pred = [str(x[0]).replace(\"False\",\"0\").replace(\"True\",\"1\") for x in y_pred]\n",
    "y_pred = [int(x) for x in y_pred]\n",
    "\n",
    "y_pred = le.inverse_transform(y_pred)\n",
    "print(classification_report(df_val_Label,y_pred))"
   ]
  },
  {
   "cell_type": "code",
   "execution_count": null,
   "metadata": {
    "id": "sB3ghGGyRB74"
   },
   "outputs": [],
   "source": []
  },
  {
   "cell_type": "markdown",
   "metadata": {
    "id": "yl9lugf8-EsK"
   },
   "source": [
    "####Reduced dimension to 50"
   ]
  },
  {
   "cell_type": "code",
   "execution_count": 45,
   "metadata": {
    "colab": {
     "base_uri": "https://localhost:8080/"
    },
    "id": "Gta-wUlFRB9R",
    "outputId": "7c86ee5b-ea2d-45c0-e2df-124d72050ff1"
   },
   "outputs": [
    {
     "name": "stdout",
     "output_type": "stream",
     "text": [
      "Model: \"sequential_6\"\n",
      "_________________________________________________________________\n",
      "Layer (type)                 Output Shape              Param #   \n",
      "=================================================================\n",
      "embedding_5 (Embedding)      (None, 120, 50)           834250    \n",
      "_________________________________________________________________\n",
      "bidirectional_1 (Bidirection (None, 120, 512)          628736    \n",
      "_________________________________________________________________\n",
      "global_max_pooling1d_4 (Glob (None, 512)               0         \n",
      "_________________________________________________________________\n",
      "batch_normalization_1 (Batch (None, 512)               2048      \n",
      "_________________________________________________________________\n",
      "dropout_4 (Dropout)          (None, 512)               0         \n",
      "_________________________________________________________________\n",
      "dense_19 (Dense)             (None, 20)                10260     \n",
      "_________________________________________________________________\n",
      "dropout_5 (Dropout)          (None, 20)                0         \n",
      "_________________________________________________________________\n",
      "dense_20 (Dense)             (None, 2)                 42        \n",
      "_________________________________________________________________\n",
      "dense_21 (Dense)             (None, 1)                 3         \n",
      "=================================================================\n",
      "Total params: 1,475,339\n",
      "Trainable params: 1,474,315\n",
      "Non-trainable params: 1,024\n",
      "_________________________________________________________________\n"
     ]
    }
   ],
   "source": [
    "embedding_dim = 50\n",
    "max_len = 120\n",
    "\n",
    "model = Sequential()\n",
    "\n",
    "model.add(layers.Embedding(vocab_size, embedding_dim, input_length=maxlen))\n",
    "\n",
    "model.add(keras.layers.Bidirectional(keras.layers.LSTM(256, return_sequences=True)))\n",
    "\n",
    "model.add(layers.GlobalMaxPooling1D())\n",
    "model.add(layers.BatchNormalization())\n",
    "model.add(layers.Dropout(0.5))\n",
    "\n",
    "model.add(layers.Dense(20, activation='relu'))\n",
    "model.add(layers.Dropout(0.3))\n",
    "\n",
    "model.add(layers.Dense(2, activation='softmax'))\n",
    "\n",
    "model.add(layers.Dense(1, activation='sigmoid'))\n",
    "\n",
    "optimizer = keras.optimizers.Adam(learning_rate=3e-4)\n",
    "model.compile(optimizer=optimizer,\n",
    "              loss='binary_crossentropy',\n",
    "              metrics=['accuracy'])\n",
    "model.summary()"
   ]
  },
  {
   "cell_type": "code",
   "execution_count": 46,
   "metadata": {
    "id": "PbwCwzQtRB-y"
   },
   "outputs": [],
   "source": [
    "model_save_path='/content/m7'\n",
    "\n",
    "callbacks = [keras.callbacks.ModelCheckpoint(filepath=model_save_path,save_weights_only=True,monitor='val_accuracy',mode='max',save_best_only=True)]"
   ]
  },
  {
   "cell_type": "code",
   "execution_count": 47,
   "metadata": {
    "colab": {
     "base_uri": "https://localhost:8080/"
    },
    "id": "RWbBexG_Zlb1",
    "outputId": "19405c90-74a6-40c5-dc21-cfa72c0be535"
   },
   "outputs": [
    {
     "name": "stdout",
     "output_type": "stream",
     "text": [
      "Epoch 1/100\n",
      "125/125 [==============================] - 8s 34ms/step - loss: 0.6956 - accuracy: 0.4893 - val_loss: 0.6677 - val_accuracy: 0.5053\n",
      "Epoch 2/100\n",
      "125/125 [==============================] - 3s 26ms/step - loss: 0.6299 - accuracy: 0.6670 - val_loss: 0.6927 - val_accuracy: 0.4989\n",
      "Epoch 3/100\n",
      "125/125 [==============================] - 3s 26ms/step - loss: 0.5928 - accuracy: 0.8824 - val_loss: 0.6268 - val_accuracy: 0.8287\n",
      "Epoch 4/100\n",
      "125/125 [==============================] - 3s 27ms/step - loss: 0.5642 - accuracy: 0.9199 - val_loss: 0.5951 - val_accuracy: 0.8117\n",
      "Epoch 5/100\n",
      "125/125 [==============================] - 3s 26ms/step - loss: 0.5422 - accuracy: 0.9440 - val_loss: 0.5861 - val_accuracy: 0.8032\n",
      "Epoch 6/100\n",
      "125/125 [==============================] - 3s 25ms/step - loss: 0.5215 - accuracy: 0.9601 - val_loss: 0.5844 - val_accuracy: 0.7904\n",
      "Epoch 7/100\n",
      "125/125 [==============================] - 3s 25ms/step - loss: 0.5041 - accuracy: 0.9619 - val_loss: 0.6935 - val_accuracy: 0.5766\n",
      "Epoch 8/100\n",
      "125/125 [==============================] - 3s 26ms/step - loss: 0.4902 - accuracy: 0.9617 - val_loss: 0.7401 - val_accuracy: 0.5096\n",
      "Epoch 9/100\n",
      "125/125 [==============================] - 3s 26ms/step - loss: 0.4722 - accuracy: 0.9717 - val_loss: 0.6297 - val_accuracy: 0.6872\n",
      "Epoch 10/100\n",
      "125/125 [==============================] - 3s 26ms/step - loss: 0.4621 - accuracy: 0.9625 - val_loss: 0.5619 - val_accuracy: 0.7830\n",
      "Epoch 11/100\n",
      "125/125 [==============================] - 3s 26ms/step - loss: 0.4447 - accuracy: 0.9720 - val_loss: 0.5655 - val_accuracy: 0.7723\n",
      "Epoch 12/100\n",
      "125/125 [==============================] - 3s 26ms/step - loss: 0.4315 - accuracy: 0.9795 - val_loss: 0.5723 - val_accuracy: 0.7585\n",
      "Epoch 13/100\n",
      "125/125 [==============================] - 4s 28ms/step - loss: 0.4242 - accuracy: 0.9709 - val_loss: 0.6824 - val_accuracy: 0.6085\n",
      "Epoch 14/100\n",
      "125/125 [==============================] - 4s 28ms/step - loss: 0.4091 - accuracy: 0.9783 - val_loss: 0.5889 - val_accuracy: 0.7372\n",
      "Epoch 15/100\n",
      "125/125 [==============================] - 3s 28ms/step - loss: 0.3961 - accuracy: 0.9813 - val_loss: 0.5292 - val_accuracy: 0.7979\n",
      "Epoch 16/100\n",
      "125/125 [==============================] - 3s 28ms/step - loss: 0.3886 - accuracy: 0.9774 - val_loss: 0.5511 - val_accuracy: 0.7734\n",
      "Epoch 17/100\n",
      "125/125 [==============================] - 4s 28ms/step - loss: 0.3795 - accuracy: 0.9778 - val_loss: 0.5373 - val_accuracy: 0.7862\n",
      "Epoch 18/100\n",
      "125/125 [==============================] - 4s 28ms/step - loss: 0.3712 - accuracy: 0.9756 - val_loss: 0.5292 - val_accuracy: 0.7883\n",
      "Epoch 19/100\n",
      "125/125 [==============================] - 3s 28ms/step - loss: 0.3561 - accuracy: 0.9839 - val_loss: 0.5173 - val_accuracy: 0.8043\n",
      "Epoch 20/100\n",
      "125/125 [==============================] - 3s 27ms/step - loss: 0.3580 - accuracy: 0.9726 - val_loss: 0.5407 - val_accuracy: 0.7681\n",
      "Epoch 21/100\n",
      "125/125 [==============================] - 3s 26ms/step - loss: 0.3476 - accuracy: 0.9752 - val_loss: 0.5703 - val_accuracy: 0.7372\n",
      "Epoch 22/100\n",
      "125/125 [==============================] - 3s 26ms/step - loss: 0.3445 - accuracy: 0.9680 - val_loss: 0.4966 - val_accuracy: 0.8106\n",
      "Epoch 23/100\n",
      "125/125 [==============================] - 3s 25ms/step - loss: 0.3288 - accuracy: 0.9759 - val_loss: 0.4923 - val_accuracy: 0.8160\n",
      "Epoch 24/100\n",
      "125/125 [==============================] - 3s 26ms/step - loss: 0.3212 - accuracy: 0.9789 - val_loss: 0.4818 - val_accuracy: 0.8213\n",
      "Epoch 25/100\n",
      "125/125 [==============================] - 3s 25ms/step - loss: 0.3109 - accuracy: 0.9779 - val_loss: 0.4864 - val_accuracy: 0.8117\n",
      "Epoch 26/100\n",
      "125/125 [==============================] - 3s 26ms/step - loss: 0.3101 - accuracy: 0.9730 - val_loss: 0.5122 - val_accuracy: 0.7894\n",
      "Epoch 27/100\n",
      "125/125 [==============================] - 3s 25ms/step - loss: 0.3052 - accuracy: 0.9730 - val_loss: 0.5114 - val_accuracy: 0.7851\n",
      "Epoch 28/100\n",
      "125/125 [==============================] - 3s 25ms/step - loss: 0.2945 - accuracy: 0.9767 - val_loss: 0.4710 - val_accuracy: 0.8181\n",
      "Epoch 29/100\n",
      "125/125 [==============================] - 3s 25ms/step - loss: 0.2913 - accuracy: 0.9728 - val_loss: 0.4666 - val_accuracy: 0.8234\n",
      "Epoch 30/100\n",
      "125/125 [==============================] - 3s 25ms/step - loss: 0.2782 - accuracy: 0.9791 - val_loss: 0.5579 - val_accuracy: 0.7511\n",
      "Epoch 31/100\n",
      "125/125 [==============================] - 3s 25ms/step - loss: 0.2700 - accuracy: 0.9783 - val_loss: 0.4875 - val_accuracy: 0.8085\n",
      "Epoch 32/100\n",
      "125/125 [==============================] - 3s 25ms/step - loss: 0.2613 - accuracy: 0.9833 - val_loss: 0.5120 - val_accuracy: 0.7872\n",
      "Epoch 33/100\n",
      "125/125 [==============================] - 4s 28ms/step - loss: 0.2548 - accuracy: 0.9833 - val_loss: 0.5193 - val_accuracy: 0.7787\n",
      "Epoch 34/100\n",
      "125/125 [==============================] - 4s 28ms/step - loss: 0.2535 - accuracy: 0.9812 - val_loss: 0.4937 - val_accuracy: 0.7979\n",
      "Epoch 35/100\n",
      "125/125 [==============================] - 4s 28ms/step - loss: 0.2486 - accuracy: 0.9805 - val_loss: 0.5484 - val_accuracy: 0.7585\n",
      "Epoch 36/100\n",
      "125/125 [==============================] - 3s 28ms/step - loss: 0.2414 - accuracy: 0.9794 - val_loss: 0.5149 - val_accuracy: 0.7830\n",
      "Epoch 37/100\n",
      "125/125 [==============================] - 3s 28ms/step - loss: 0.2338 - accuracy: 0.9817 - val_loss: 0.5054 - val_accuracy: 0.7915\n",
      "Epoch 38/100\n",
      "125/125 [==============================] - 3s 28ms/step - loss: 0.2336 - accuracy: 0.9805 - val_loss: 0.6115 - val_accuracy: 0.7202\n",
      "Epoch 39/100\n",
      "125/125 [==============================] - 3s 28ms/step - loss: 0.2209 - accuracy: 0.9852 - val_loss: 0.7750 - val_accuracy: 0.6043\n",
      "Epoch 40/100\n",
      "125/125 [==============================] - 3s 27ms/step - loss: 0.2153 - accuracy: 0.9855 - val_loss: 0.5326 - val_accuracy: 0.7734\n",
      "Epoch 41/100\n",
      "125/125 [==============================] - 3s 26ms/step - loss: 0.2119 - accuracy: 0.9849 - val_loss: 0.6369 - val_accuracy: 0.7064\n",
      "Epoch 42/100\n",
      "125/125 [==============================] - 3s 25ms/step - loss: 0.2134 - accuracy: 0.9811 - val_loss: 0.5344 - val_accuracy: 0.7723\n",
      "Epoch 43/100\n",
      "125/125 [==============================] - 3s 25ms/step - loss: 0.2031 - accuracy: 0.9850 - val_loss: 0.4694 - val_accuracy: 0.8128\n",
      "Epoch 44/100\n",
      "125/125 [==============================] - 3s 26ms/step - loss: 0.1987 - accuracy: 0.9839 - val_loss: 0.5433 - val_accuracy: 0.7745\n",
      "Epoch 45/100\n",
      "125/125 [==============================] - 3s 25ms/step - loss: 0.1935 - accuracy: 0.9833 - val_loss: 0.4965 - val_accuracy: 0.7957\n",
      "Epoch 46/100\n",
      "125/125 [==============================] - 3s 25ms/step - loss: 0.1930 - accuracy: 0.9821 - val_loss: 0.5245 - val_accuracy: 0.7830\n",
      "Epoch 47/100\n",
      "125/125 [==============================] - 3s 25ms/step - loss: 0.1869 - accuracy: 0.9857 - val_loss: 0.4323 - val_accuracy: 0.8383\n",
      "Epoch 48/100\n",
      "125/125 [==============================] - 3s 25ms/step - loss: 0.1890 - accuracy: 0.9792 - val_loss: 0.4728 - val_accuracy: 0.8138\n",
      "Epoch 49/100\n",
      "125/125 [==============================] - 3s 25ms/step - loss: 0.1823 - accuracy: 0.9821 - val_loss: 0.5512 - val_accuracy: 0.7681\n",
      "Epoch 50/100\n",
      "125/125 [==============================] - 3s 25ms/step - loss: 0.1721 - accuracy: 0.9864 - val_loss: 0.5388 - val_accuracy: 0.7809\n",
      "Epoch 51/100\n",
      "125/125 [==============================] - 3s 25ms/step - loss: 0.1702 - accuracy: 0.9854 - val_loss: 0.4915 - val_accuracy: 0.8064\n",
      "Epoch 52/100\n",
      "125/125 [==============================] - 3s 25ms/step - loss: 0.1634 - accuracy: 0.9862 - val_loss: 0.5844 - val_accuracy: 0.7564\n",
      "Epoch 53/100\n",
      "125/125 [==============================] - 3s 27ms/step - loss: 0.1614 - accuracy: 0.9855 - val_loss: 0.4809 - val_accuracy: 0.8149\n",
      "Epoch 54/100\n",
      "125/125 [==============================] - 3s 28ms/step - loss: 0.1610 - accuracy: 0.9851 - val_loss: 0.4568 - val_accuracy: 0.8266\n",
      "Epoch 55/100\n",
      "125/125 [==============================] - 3s 27ms/step - loss: 0.1651 - accuracy: 0.9816 - val_loss: 0.5879 - val_accuracy: 0.7628\n",
      "Epoch 56/100\n",
      "125/125 [==============================] - 3s 28ms/step - loss: 0.1561 - accuracy: 0.9839 - val_loss: 0.4990 - val_accuracy: 0.8096\n",
      "Epoch 57/100\n",
      "125/125 [==============================] - 3s 28ms/step - loss: 0.1519 - accuracy: 0.9844 - val_loss: 0.5805 - val_accuracy: 0.7660\n",
      "Epoch 58/100\n",
      "125/125 [==============================] - 3s 28ms/step - loss: 0.1461 - accuracy: 0.9854 - val_loss: 0.5816 - val_accuracy: 0.7649\n",
      "Epoch 59/100\n",
      "125/125 [==============================] - 3s 28ms/step - loss: 0.1504 - accuracy: 0.9818 - val_loss: 0.5279 - val_accuracy: 0.7947\n",
      "Epoch 60/100\n",
      "125/125 [==============================] - 3s 26ms/step - loss: 0.1360 - accuracy: 0.9865 - val_loss: 0.5196 - val_accuracy: 0.8000\n",
      "Epoch 61/100\n",
      "125/125 [==============================] - 3s 26ms/step - loss: 0.1342 - accuracy: 0.9894 - val_loss: 0.4951 - val_accuracy: 0.8106\n",
      "Epoch 62/100\n",
      "125/125 [==============================] - 3s 27ms/step - loss: 0.1291 - accuracy: 0.9860 - val_loss: 0.5608 - val_accuracy: 0.7830\n",
      "Epoch 63/100\n",
      "125/125 [==============================] - 4s 29ms/step - loss: 0.1313 - accuracy: 0.9850 - val_loss: 0.4805 - val_accuracy: 0.8223\n",
      "Epoch 64/100\n",
      "125/125 [==============================] - 3s 28ms/step - loss: 0.1235 - accuracy: 0.9885 - val_loss: 0.4804 - val_accuracy: 0.8245\n",
      "Epoch 65/100\n",
      "125/125 [==============================] - 4s 28ms/step - loss: 0.1239 - accuracy: 0.9893 - val_loss: 0.4899 - val_accuracy: 0.8223\n",
      "Epoch 66/100\n",
      "125/125 [==============================] - 3s 28ms/step - loss: 0.1263 - accuracy: 0.9855 - val_loss: 0.4829 - val_accuracy: 0.8234\n",
      "Epoch 67/100\n",
      "125/125 [==============================] - 3s 27ms/step - loss: 0.1228 - accuracy: 0.9869 - val_loss: 0.5457 - val_accuracy: 0.7936\n",
      "Epoch 68/100\n",
      "125/125 [==============================] - 3s 28ms/step - loss: 0.1131 - accuracy: 0.9896 - val_loss: 0.4633 - val_accuracy: 0.8340\n",
      "Epoch 69/100\n",
      "125/125 [==============================] - 3s 27ms/step - loss: 0.1163 - accuracy: 0.9881 - val_loss: 0.4473 - val_accuracy: 0.8436\n",
      "Epoch 70/100\n",
      "125/125 [==============================] - 3s 26ms/step - loss: 0.1216 - accuracy: 0.9853 - val_loss: 0.5227 - val_accuracy: 0.8053\n",
      "Epoch 71/100\n",
      "125/125 [==============================] - 3s 25ms/step - loss: 0.1101 - accuracy: 0.9894 - val_loss: 0.6159 - val_accuracy: 0.7702\n",
      "Epoch 72/100\n",
      "125/125 [==============================] - 3s 26ms/step - loss: 0.1114 - accuracy: 0.9849 - val_loss: 0.4516 - val_accuracy: 0.8447\n",
      "Epoch 73/100\n",
      "125/125 [==============================] - 3s 26ms/step - loss: 0.1178 - accuracy: 0.9783 - val_loss: 0.4569 - val_accuracy: 0.8383\n",
      "Epoch 74/100\n",
      "125/125 [==============================] - 3s 26ms/step - loss: 0.1067 - accuracy: 0.9889 - val_loss: 0.4752 - val_accuracy: 0.8340\n",
      "Epoch 75/100\n",
      "125/125 [==============================] - 3s 25ms/step - loss: 0.1102 - accuracy: 0.9856 - val_loss: 0.5762 - val_accuracy: 0.7957\n",
      "Epoch 76/100\n",
      "125/125 [==============================] - 3s 25ms/step - loss: 0.0983 - accuracy: 0.9897 - val_loss: 0.4970 - val_accuracy: 0.8277\n",
      "Epoch 77/100\n",
      "125/125 [==============================] - 3s 25ms/step - loss: 0.1041 - accuracy: 0.9863 - val_loss: 0.7641 - val_accuracy: 0.7106\n",
      "Epoch 78/100\n",
      "125/125 [==============================] - 3s 25ms/step - loss: 0.1074 - accuracy: 0.9861 - val_loss: 0.4614 - val_accuracy: 0.8447\n",
      "Epoch 79/100\n",
      "125/125 [==============================] - 3s 26ms/step - loss: 0.0884 - accuracy: 0.9920 - val_loss: 0.5541 - val_accuracy: 0.8021\n",
      "Epoch 80/100\n",
      "125/125 [==============================] - 3s 25ms/step - loss: 0.0896 - accuracy: 0.9914 - val_loss: 0.4844 - val_accuracy: 0.8362\n",
      "Epoch 81/100\n",
      "125/125 [==============================] - 3s 25ms/step - loss: 0.1072 - accuracy: 0.9816 - val_loss: 0.4687 - val_accuracy: 0.8383\n",
      "Epoch 82/100\n",
      "125/125 [==============================] - 3s 27ms/step - loss: 0.0911 - accuracy: 0.9901 - val_loss: 0.5913 - val_accuracy: 0.7979\n",
      "Epoch 83/100\n",
      "125/125 [==============================] - 4s 28ms/step - loss: 0.0892 - accuracy: 0.9889 - val_loss: 0.5357 - val_accuracy: 0.8160\n",
      "Epoch 84/100\n",
      "125/125 [==============================] - 4s 28ms/step - loss: 0.0904 - accuracy: 0.9883 - val_loss: 0.5225 - val_accuracy: 0.8213\n",
      "Epoch 85/100\n",
      "125/125 [==============================] - 3s 28ms/step - loss: 0.0830 - accuracy: 0.9910 - val_loss: 0.5174 - val_accuracy: 0.8245\n",
      "Epoch 86/100\n",
      "125/125 [==============================] - 4s 28ms/step - loss: 0.0830 - accuracy: 0.9893 - val_loss: 0.5106 - val_accuracy: 0.8362\n",
      "Epoch 87/100\n",
      "125/125 [==============================] - 4s 28ms/step - loss: 0.0768 - accuracy: 0.9920 - val_loss: 0.5317 - val_accuracy: 0.8266\n",
      "Epoch 88/100\n",
      "125/125 [==============================] - 4s 28ms/step - loss: 0.0820 - accuracy: 0.9905 - val_loss: 0.5742 - val_accuracy: 0.8117\n",
      "Epoch 89/100\n",
      "125/125 [==============================] - 4s 28ms/step - loss: 0.0807 - accuracy: 0.9897 - val_loss: 0.6876 - val_accuracy: 0.7713\n",
      "Epoch 90/100\n",
      "125/125 [==============================] - 3s 26ms/step - loss: 0.0807 - accuracy: 0.9892 - val_loss: 0.7083 - val_accuracy: 0.7660\n",
      "Epoch 91/100\n",
      "125/125 [==============================] - 3s 25ms/step - loss: 0.0857 - accuracy: 0.9870 - val_loss: 0.6250 - val_accuracy: 0.7936\n",
      "Epoch 92/100\n",
      "125/125 [==============================] - 3s 25ms/step - loss: 0.0868 - accuracy: 0.9854 - val_loss: 0.5309 - val_accuracy: 0.8330\n",
      "Epoch 93/100\n",
      "125/125 [==============================] - 3s 25ms/step - loss: 0.0787 - accuracy: 0.9898 - val_loss: 0.5633 - val_accuracy: 0.8213\n",
      "Epoch 94/100\n",
      "125/125 [==============================] - 3s 26ms/step - loss: 0.0888 - accuracy: 0.9848 - val_loss: 0.5811 - val_accuracy: 0.8181\n",
      "Epoch 95/100\n",
      "125/125 [==============================] - 3s 25ms/step - loss: 0.0781 - accuracy: 0.9880 - val_loss: 0.8201 - val_accuracy: 0.7404\n",
      "Epoch 96/100\n",
      "125/125 [==============================] - 3s 25ms/step - loss: 0.0747 - accuracy: 0.9897 - val_loss: 0.5957 - val_accuracy: 0.8117\n",
      "Epoch 97/100\n",
      "125/125 [==============================] - 3s 25ms/step - loss: 0.0660 - accuracy: 0.9908 - val_loss: 1.6027 - val_accuracy: 0.5053\n",
      "Epoch 98/100\n",
      "125/125 [==============================] - 3s 25ms/step - loss: 0.0784 - accuracy: 0.9849 - val_loss: 1.0159 - val_accuracy: 0.6606\n",
      "Epoch 99/100\n",
      "125/125 [==============================] - 3s 25ms/step - loss: 0.0759 - accuracy: 0.9874 - val_loss: 1.1247 - val_accuracy: 0.6351\n",
      "Epoch 100/100\n",
      "125/125 [==============================] - 3s 25ms/step - loss: 0.0644 - accuracy: 0.9924 - val_loss: 0.5690 - val_accuracy: 0.8181\n"
     ]
    }
   ],
   "source": [
    "history = model.fit(X_train, Y_train,\n",
    "                     epochs=100,\n",
    "                     verbose=1,\n",
    "                     validation_data=(X_test, Y_test),\n",
    "                     batch_size=32,\n",
    "                    callbacks=callbacks)"
   ]
  },
  {
   "cell_type": "code",
   "execution_count": null,
   "metadata": {
    "id": "gjUMSav7RCAl"
   },
   "outputs": [],
   "source": []
  },
  {
   "cell_type": "code",
   "execution_count": 48,
   "metadata": {
    "colab": {
     "base_uri": "https://localhost:8080/"
    },
    "id": "mJXnQb34RCCQ",
    "outputId": "1724abf3-77bf-4af6-b8a6-edc13506a034"
   },
   "outputs": [
    {
     "name": "stdout",
     "output_type": "stream",
     "text": [
      "              precision    recall  f1-score   support\n",
      "\n",
      "         NOT       0.79      0.93      0.86       465\n",
      "         OFF       0.92      0.76      0.83       475\n",
      "\n",
      "    accuracy                           0.84       940\n",
      "   macro avg       0.85      0.85      0.84       940\n",
      "weighted avg       0.86      0.84      0.84       940\n",
      "\n"
     ]
    }
   ],
   "source": [
    "model.load_weights(model_save_path)\n",
    "import keras\n",
    "class_names = df_train.Labels.unique()\n",
    "y_pred = model.predict(X_test)>0.5\n",
    "y_pred = [str(x[0]).replace(\"False\",\"0\").replace(\"True\",\"1\") for x in y_pred]\n",
    "y_pred = [int(x) for x in y_pred]\n",
    "\n",
    "y_pred = le.inverse_transform(y_pred)\n",
    "print(classification_report(df_val_Label,y_pred))"
   ]
  }
 ],
 "metadata": {
  "accelerator": "GPU",
  "colab": {
   "collapsed_sections": [],
   "name": "Hate Speech Detection DL.ipynb",
   "provenance": []
  },
  "kernelspec": {
   "display_name": "Python 3",
   "language": "python",
   "name": "python3"
  },
  "language_info": {
   "codemirror_mode": {
    "name": "ipython",
    "version": 3
   },
   "file_extension": ".py",
   "mimetype": "text/x-python",
   "name": "python",
   "nbconvert_exporter": "python",
   "pygments_lexer": "ipython3",
   "version": "3.8.8"
  }
 },
 "nbformat": 4,
 "nbformat_minor": 1
}
