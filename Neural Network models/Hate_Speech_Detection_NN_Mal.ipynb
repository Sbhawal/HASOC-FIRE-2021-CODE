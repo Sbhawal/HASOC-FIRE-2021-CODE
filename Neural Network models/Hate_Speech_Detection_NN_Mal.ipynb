{
 "cells": [
  {
   "cell_type": "markdown",
   "metadata": {
    "id": "llVd3GH_7gzw"
   },
   "source": [
    "## Installing demoji"
   ]
  },
  {
   "cell_type": "code",
   "execution_count": 1,
   "metadata": {
    "colab": {
     "base_uri": "https://localhost:8080/"
    },
    "id": "UZ2KyOwg7frB",
    "outputId": "da51c729-89c5-4f3e-b782-a6ba1edc288d"
   },
   "outputs": [
    {
     "name": "stdout",
     "output_type": "stream",
     "text": [
      "Requirement already satisfied: demoji in /usr/local/lib/python3.7/dist-packages (1.0.0)\n"
     ]
    }
   ],
   "source": [
    "!pip install demoji"
   ]
  },
  {
   "cell_type": "markdown",
   "metadata": {
    "id": "_ekXH12g7koR"
   },
   "source": [
    "## Imports"
   ]
  },
  {
   "cell_type": "code",
   "execution_count": 2,
   "metadata": {
    "id": "pUNxky4J7fv2"
   },
   "outputs": [],
   "source": [
    "import pandas as pd\n",
    "import numpy as np\n",
    "\n",
    "import keras\n",
    "\n",
    "from sklearn.metrics import confusion_matrix\n",
    "from sklearn import metrics\n",
    "\n",
    "from sklearn.linear_model import LogisticRegression\n",
    "from sklearn.metrics import confusion_matrix,classification_report\n",
    "\n",
    "\n",
    "from sklearn.metrics import accuracy_score\n",
    "from sklearn.metrics import precision_score\n",
    "from sklearn.metrics import f1_score\n",
    "from sklearn.metrics import recall_score\n",
    "\n",
    "from sklearn.model_selection import train_test_split\n",
    "# X_train, X_test, y_train, y_test = train_test_split(x, y, test_size=0.2)"
   ]
  },
  {
   "cell_type": "markdown",
   "metadata": {
    "id": "lzkLOWk37pyl"
   },
   "source": [
    "## Loading Datasets"
   ]
  },
  {
   "cell_type": "code",
   "execution_count": 3,
   "metadata": {
    "id": "p2Ibkfi-RAmt"
   },
   "outputs": [],
   "source": [
    "df_train = pd.read_excel('/content/drive/MyDrive/Datasets/Malayalam__hasoc_train.xlsx',names=[\"ID\",\"Tweets\",\"Labels\"])\n",
    "df_train.dropna(inplace=True)\n",
    "df_train.reset_index(drop=True, inplace=True)\n",
    "df_val = pd.read_csv(\"/content/drive/MyDrive/Datasets/malayalam_hasoc_dev.tsv\", sep=\"\\t\",names=[\"ID\",\"Tweets\",\"Labels\"])\n",
    "df_val.dropna(inplace=True)\n",
    "df_val.reset_index(drop=True, inplace=True)"
   ]
  },
  {
   "cell_type": "code",
   "execution_count": 4,
   "metadata": {
    "id": "MqYyf_0VRAxt"
   },
   "outputs": [],
   "source": [
    "df_train_Tweet = pd.DataFrame(df_train.Tweets)\n",
    "df_val_Tweet = pd.DataFrame(df_val.Tweets)\n",
    "df_train_Label = pd.DataFrame(df_train.Labels)\n",
    "df_val_Label = pd.DataFrame(df_val.Labels)\n"
   ]
  },
  {
   "cell_type": "markdown",
   "metadata": {
    "id": "xN5elRlk7vHl"
   },
   "source": [
    "## Preprocessing"
   ]
  },
  {
   "cell_type": "code",
   "execution_count": 5,
   "metadata": {
    "id": "AvjLH2h7RA2r"
   },
   "outputs": [],
   "source": [
    "import re, string\n",
    "regex = re.compile('[%s]' % re.escape(string.punctuation))\n",
    "import demoji\n",
    "\n",
    "def preprocessing(document):\n",
    "        document = demoji.replace_with_desc(document).replace(\":\",\" \").replace(\"-\",\" \")\n",
    "        document = regex.sub(' ', document)\n",
    "        document = re.sub(r'[0-9]', '', document)\n",
    "        document = re.sub(r'\\s+[a-zA-Z]\\s+', ' ', document)             # remove all single characters\n",
    "        document = re.sub(r'\\s+', ' ', document, flags=re.I)            # Substituting multiple spaces with single space\n",
    "        return document\n",
    "    \n"
   ]
  },
  {
   "cell_type": "code",
   "execution_count": 6,
   "metadata": {
    "id": "AI1DpadeRA5y"
   },
   "outputs": [],
   "source": [
    "corpus_train = df_train_Tweet.Tweets.apply(preprocessing)\n",
    "corpus_val = df_val_Tweet.Tweets.apply(preprocessing)"
   ]
  },
  {
   "cell_type": "markdown",
   "metadata": {
    "id": "snkw8dOE78OU"
   },
   "source": [
    "## TF-IDF Vectorization"
   ]
  },
  {
   "cell_type": "code",
   "execution_count": 7,
   "metadata": {
    "colab": {
     "base_uri": "https://localhost:8080/"
    },
    "id": "1UTNr2EKRA7U",
    "outputId": "4d5af106-0dd4-4ed5-b75d-79661f12f700"
   },
   "outputs": [
    {
     "data": {
      "text/plain": [
       "(3999, 15000)"
      ]
     },
     "execution_count": 7,
     "metadata": {
      "tags": []
     },
     "output_type": "execute_result"
    }
   ],
   "source": [
    "from sklearn.feature_extraction.text import TfidfVectorizer\n",
    "cv = TfidfVectorizer(ngram_range=(1,5))\n",
    "cv = TfidfVectorizer(max_features=15000)\n",
    "X_train = cv.fit_transform(corpus_train).toarray()\n",
    "X_test = cv.transform(corpus_val).toarray()\n",
    "X_train.shape"
   ]
  },
  {
   "cell_type": "code",
   "execution_count": 8,
   "metadata": {
    "id": "secKHXePRA83"
   },
   "outputs": [],
   "source": [
    "# Feature Scaling\n",
    "from sklearn.preprocessing import StandardScaler,MinMaxScaler\n",
    "sc = MinMaxScaler()\n",
    "X_train = sc.fit_transform(X_train)\n",
    "X_test = sc.transform(X_test)"
   ]
  },
  {
   "cell_type": "markdown",
   "metadata": {
    "id": "jOLFo92T8E2H"
   },
   "source": [
    "## Label Encoding"
   ]
  },
  {
   "cell_type": "code",
   "execution_count": 9,
   "metadata": {
    "id": "TGgbNDJ1RA_3"
   },
   "outputs": [],
   "source": [
    "Y_train = np.ravel(df_train_Label)\n",
    "Y_test = np.ravel(df_val_Label)\n",
    "\n",
    "from sklearn import preprocessing\n",
    "le = preprocessing.LabelEncoder()\n",
    "le.fit(Y_train)\n",
    "Y_train = le.transform(Y_train)\n",
    "Y_test = le.transform(Y_test)"
   ]
  },
  {
   "cell_type": "markdown",
   "metadata": {
    "id": "3T2ka5AM8JAR"
   },
   "source": [
    "#Model Creation and Validation"
   ]
  },
  {
   "cell_type": "markdown",
   "metadata": {
    "id": "-z2cAVXGZsem"
   },
   "source": [
    "## SIMPLE ANN"
   ]
  },
  {
   "cell_type": "code",
   "execution_count": 10,
   "metadata": {
    "id": "ZXU7w1lXRBDL"
   },
   "outputs": [],
   "source": [
    "from keras.models import Sequential\n",
    "from keras import layers\n",
    "\n",
    "input_dim = X_train.shape[1]  # Number of features\n",
    "\n",
    "model = Sequential()\n",
    "model.add(layers.Dense(512, input_dim=input_dim, activation='relu'))\n",
    "model.add(layers.Dense(256, input_dim=input_dim, activation='relu'))\n",
    "model.add(layers.Dense(128, input_dim=input_dim, activation='relu'))\n",
    "model.add(layers.Dense(1, activation='sigmoid'))"
   ]
  },
  {
   "cell_type": "code",
   "execution_count": 11,
   "metadata": {
    "colab": {
     "base_uri": "https://localhost:8080/"
    },
    "id": "EPF3Ona1RBE3",
    "outputId": "d8da2cfa-f4b1-46c5-ee5d-445f60006510"
   },
   "outputs": [
    {
     "name": "stdout",
     "output_type": "stream",
     "text": [
      "Model: \"sequential\"\n",
      "_________________________________________________________________\n",
      "Layer (type)                 Output Shape              Param #   \n",
      "=================================================================\n",
      "dense (Dense)                (None, 512)               7680512   \n",
      "_________________________________________________________________\n",
      "dense_1 (Dense)              (None, 256)               131328    \n",
      "_________________________________________________________________\n",
      "dense_2 (Dense)              (None, 128)               32896     \n",
      "_________________________________________________________________\n",
      "dense_3 (Dense)              (None, 1)                 129       \n",
      "=================================================================\n",
      "Total params: 7,844,865\n",
      "Trainable params: 7,844,865\n",
      "Non-trainable params: 0\n",
      "_________________________________________________________________\n"
     ]
    }
   ],
   "source": [
    "optimizer = keras.optimizers.Adam(learning_rate=3e-5)\n",
    "model.compile(optimizer=optimizer,\n",
    "              loss='binary_crossentropy',\n",
    "              metrics=['accuracy'])\n",
    "model.summary()"
   ]
  },
  {
   "cell_type": "code",
   "execution_count": 12,
   "metadata": {
    "id": "imIQ7RNljwyY"
   },
   "outputs": [],
   "source": [
    "model_save_path='/content/m1'\n",
    "\n",
    "callbacks = [keras.callbacks.ModelCheckpoint(filepath=model_save_path,save_weights_only=True,monitor='val_accuracy',mode='max',save_best_only=True)]"
   ]
  },
  {
   "cell_type": "code",
   "execution_count": 13,
   "metadata": {
    "colab": {
     "base_uri": "https://localhost:8080/"
    },
    "id": "dUd1G1cmRBGd",
    "outputId": "d346a242-8103-408a-b01a-0d2a1e3cf195"
   },
   "outputs": [
    {
     "name": "stdout",
     "output_type": "stream",
     "text": [
      "Epoch 1/30\n",
      "134/134 [==============================] - 13s 9ms/step - loss: 0.6930 - accuracy: 0.5082 - val_loss: 0.6923 - val_accuracy: 0.5615\n",
      "Epoch 2/30\n",
      "134/134 [==============================] - 1s 6ms/step - loss: 0.6862 - accuracy: 0.7814 - val_loss: 0.6898 - val_accuracy: 0.6309\n",
      "Epoch 3/30\n",
      "134/134 [==============================] - 1s 5ms/step - loss: 0.6717 - accuracy: 0.9172 - val_loss: 0.6799 - val_accuracy: 0.6824\n",
      "Epoch 4/30\n",
      "134/134 [==============================] - 1s 6ms/step - loss: 0.6245 - accuracy: 0.9533 - val_loss: 0.6431 - val_accuracy: 0.6898\n",
      "Epoch 5/30\n",
      "134/134 [==============================] - 1s 5ms/step - loss: 0.4736 - accuracy: 0.9711 - val_loss: 0.5873 - val_accuracy: 0.7045\n",
      "Epoch 6/30\n",
      "134/134 [==============================] - 1s 5ms/step - loss: 0.2490 - accuracy: 0.9843 - val_loss: 0.5895 - val_accuracy: 0.7045\n",
      "Epoch 7/30\n",
      "134/134 [==============================] - 1s 5ms/step - loss: 0.1104 - accuracy: 0.9943 - val_loss: 0.6276 - val_accuracy: 0.7066\n",
      "Epoch 8/30\n",
      "134/134 [==============================] - 1s 5ms/step - loss: 0.0562 - accuracy: 0.9982 - val_loss: 0.6711 - val_accuracy: 0.7014\n",
      "Epoch 9/30\n",
      "134/134 [==============================] - 1s 5ms/step - loss: 0.0304 - accuracy: 0.9990 - val_loss: 0.7133 - val_accuracy: 0.6972\n",
      "Epoch 10/30\n",
      "134/134 [==============================] - 1s 6ms/step - loss: 0.0187 - accuracy: 0.9996 - val_loss: 0.7482 - val_accuracy: 0.7014\n",
      "Epoch 11/30\n",
      "134/134 [==============================] - 1s 5ms/step - loss: 0.0132 - accuracy: 0.9995 - val_loss: 0.7828 - val_accuracy: 0.6982\n",
      "Epoch 12/30\n",
      "134/134 [==============================] - 1s 5ms/step - loss: 0.0084 - accuracy: 0.9998 - val_loss: 0.8147 - val_accuracy: 0.6982\n",
      "Epoch 13/30\n",
      "134/134 [==============================] - 1s 6ms/step - loss: 0.0069 - accuracy: 0.9992 - val_loss: 0.8415 - val_accuracy: 0.6982\n",
      "Epoch 14/30\n",
      "134/134 [==============================] - 1s 6ms/step - loss: 0.0055 - accuracy: 0.9992 - val_loss: 0.8644 - val_accuracy: 0.6982\n",
      "Epoch 15/30\n",
      "134/134 [==============================] - 1s 5ms/step - loss: 0.0039 - accuracy: 0.9998 - val_loss: 0.8858 - val_accuracy: 0.6951\n",
      "Epoch 16/30\n",
      "134/134 [==============================] - 1s 6ms/step - loss: 0.0037 - accuracy: 0.9997 - val_loss: 0.9048 - val_accuracy: 0.6930\n",
      "Epoch 17/30\n",
      "134/134 [==============================] - 1s 5ms/step - loss: 0.0030 - accuracy: 0.9993 - val_loss: 0.9275 - val_accuracy: 0.6961\n",
      "Epoch 18/30\n",
      "134/134 [==============================] - 1s 5ms/step - loss: 0.0024 - accuracy: 0.9999 - val_loss: 0.9435 - val_accuracy: 0.6951\n",
      "Epoch 19/30\n",
      "134/134 [==============================] - 1s 5ms/step - loss: 0.0020 - accuracy: 0.9996 - val_loss: 0.9578 - val_accuracy: 0.6930\n",
      "Epoch 20/30\n",
      "134/134 [==============================] - 1s 6ms/step - loss: 0.0021 - accuracy: 0.9992 - val_loss: 0.9787 - val_accuracy: 0.7003\n",
      "Epoch 21/30\n",
      "134/134 [==============================] - 1s 5ms/step - loss: 0.0014 - accuracy: 0.9999 - val_loss: 0.9877 - val_accuracy: 0.6919\n",
      "Epoch 22/30\n",
      "134/134 [==============================] - 1s 6ms/step - loss: 0.0012 - accuracy: 0.9999 - val_loss: 1.0012 - val_accuracy: 0.6909\n",
      "Epoch 23/30\n",
      "134/134 [==============================] - 1s 6ms/step - loss: 0.0018 - accuracy: 0.9992 - val_loss: 1.0180 - val_accuracy: 0.6972\n",
      "Epoch 24/30\n",
      "134/134 [==============================] - 1s 6ms/step - loss: 0.0015 - accuracy: 0.9993 - val_loss: 1.0295 - val_accuracy: 0.6951\n",
      "Epoch 25/30\n",
      "134/134 [==============================] - 1s 5ms/step - loss: 0.0010 - accuracy: 0.9998 - val_loss: 1.0379 - val_accuracy: 0.6835\n",
      "Epoch 26/30\n",
      "134/134 [==============================] - 1s 5ms/step - loss: 0.0011 - accuracy: 0.9995 - val_loss: 1.0550 - val_accuracy: 0.6961\n",
      "Epoch 27/30\n",
      "134/134 [==============================] - 1s 5ms/step - loss: 8.7478e-04 - accuracy: 0.9998 - val_loss: 1.0630 - val_accuracy: 0.6887\n",
      "Epoch 28/30\n",
      "134/134 [==============================] - 1s 5ms/step - loss: 0.0011 - accuracy: 0.9993 - val_loss: 1.0737 - val_accuracy: 0.6835\n",
      "Epoch 29/30\n",
      "134/134 [==============================] - 1s 6ms/step - loss: 0.0012 - accuracy: 0.9999 - val_loss: 1.0928 - val_accuracy: 0.6982\n",
      "Epoch 30/30\n",
      "134/134 [==============================] - 1s 5ms/step - loss: 0.0018 - accuracy: 0.9991 - val_loss: 1.1006 - val_accuracy: 0.6972\n"
     ]
    }
   ],
   "source": [
    "history = model.fit(X_train, Y_train,\n",
    "                     epochs=30,\n",
    "                     verbose=1,\n",
    "                     validation_data=(X_test, Y_test),\n",
    "                     batch_size=30,\n",
    "                    callbacks=callbacks)"
   ]
  },
  {
   "cell_type": "code",
   "execution_count": 14,
   "metadata": {
    "colab": {
     "base_uri": "https://localhost:8080/"
    },
    "id": "GKCc-YKZRBH5",
    "outputId": "4835d7e6-a253-40e2-c5f0-4f2c619f7992"
   },
   "outputs": [
    {
     "name": "stdout",
     "output_type": "stream",
     "text": [
      "              precision    recall  f1-score   support\n",
      "\n",
      "         NOT       0.69      0.75      0.72       473\n",
      "         OFF       0.73      0.67      0.70       478\n",
      "\n",
      "    accuracy                           0.71       951\n",
      "   macro avg       0.71      0.71      0.71       951\n",
      "weighted avg       0.71      0.71      0.71       951\n",
      "\n"
     ]
    }
   ],
   "source": [
    "model.load_weights(model_save_path)\n",
    "import keras\n",
    "class_names = df_train.Labels.unique()\n",
    "y_pred = model.predict(X_test)>0.5\n",
    "y_pred = [str(x[0]).replace(\"False\",\"0\").replace(\"True\",\"1\") for x in y_pred]\n",
    "y_pred = [int(x) for x in y_pred]\n",
    "\n",
    "y_pred = le.inverse_transform(y_pred)\n",
    "print(classification_report(df_val_Label,y_pred))"
   ]
  },
  {
   "cell_type": "code",
   "execution_count": 14,
   "metadata": {
    "id": "T8tLCpo3RBOZ"
   },
   "outputs": [],
   "source": []
  },
  {
   "cell_type": "markdown",
   "metadata": {
    "id": "dgdzCoiyeQ1o"
   },
   "source": [
    "###Creating padded sequences"
   ]
  },
  {
   "cell_type": "code",
   "execution_count": 15,
   "metadata": {
    "colab": {
     "base_uri": "https://localhost:8080/"
    },
    "id": "8xgLDOMSRBP3",
    "outputId": "ed85c537-37a9-48af-e087-76ac8fe326dd"
   },
   "outputs": [
    {
     "name": "stdout",
     "output_type": "stream",
     "text": [
      "fukru nem tiktok oolakale vilich charcha nadathiyenekka bedham aanh\n",
      "[985, 2416, 1238, 1641, 787, 257, 4302, 2417, 4303]\n"
     ]
    }
   ],
   "source": [
    "from keras.preprocessing.text import Tokenizer\n",
    "\n",
    "tokenizer = Tokenizer(num_words=10000)\n",
    "tokenizer.fit_on_texts(corpus_train)\n",
    "\n",
    "X_train = tokenizer.texts_to_sequences(corpus_train)\n",
    "X_test = tokenizer.texts_to_sequences(corpus_val)\n",
    "\n",
    "vocab_size = len(tokenizer.word_index) + 1  # Adding 1 because of reserved 0 index\n",
    "\n",
    "print(corpus_train[2])\n",
    "print(X_train[2])"
   ]
  },
  {
   "cell_type": "code",
   "execution_count": 16,
   "metadata": {
    "id": "I64k25U1RBRc"
   },
   "outputs": [],
   "source": [
    "from keras.preprocessing.sequence import pad_sequences\n",
    "\n",
    "maxlen = 120\n",
    "\n",
    "X_train = pad_sequences(X_train, padding='post', maxlen=maxlen)\n",
    "X_test = pad_sequences(X_test, padding='post', maxlen=maxlen)"
   ]
  },
  {
   "cell_type": "code",
   "execution_count": 16,
   "metadata": {
    "id": "LOTVxZXA8rfy"
   },
   "outputs": [],
   "source": []
  },
  {
   "cell_type": "markdown",
   "metadata": {
    "id": "FgNwLW258r2g"
   },
   "source": [
    "## ANN with Embedding matrix"
   ]
  },
  {
   "cell_type": "code",
   "execution_count": 17,
   "metadata": {
    "id": "YI0Q1BjQRBS8"
   },
   "outputs": [],
   "source": [
    "from keras.models import Sequential\n",
    "from keras import layers\n",
    "\n",
    "embedding_dim = 100\n",
    "\n",
    "model = Sequential()\n",
    "model.add(layers.Embedding(input_dim=vocab_size, \n",
    "                           output_dim=embedding_dim, \n",
    "                           input_length=maxlen))\n",
    "model.add(layers.Flatten())\n",
    "model.add(layers.Dense(512, activation='relu'))\n",
    "model.add(layers.Dense(256, activation='relu'))\n",
    "model.add(layers.Dense(128, activation='relu'))\n",
    "model.add(layers.Dense(1, activation='sigmoid'))\n"
   ]
  },
  {
   "cell_type": "code",
   "execution_count": 18,
   "metadata": {
    "colab": {
     "base_uri": "https://localhost:8080/"
    },
    "id": "aefJF1EH7Tw6",
    "outputId": "58669400-c940-45f1-90b5-ea3b691972a5"
   },
   "outputs": [
    {
     "name": "stdout",
     "output_type": "stream",
     "text": [
      "Model: \"sequential_1\"\n",
      "_________________________________________________________________\n",
      "Layer (type)                 Output Shape              Param #   \n",
      "=================================================================\n",
      "embedding (Embedding)        (None, 120, 100)          1916700   \n",
      "_________________________________________________________________\n",
      "flatten (Flatten)            (None, 12000)             0         \n",
      "_________________________________________________________________\n",
      "dense_4 (Dense)              (None, 512)               6144512   \n",
      "_________________________________________________________________\n",
      "dense_5 (Dense)              (None, 256)               131328    \n",
      "_________________________________________________________________\n",
      "dense_6 (Dense)              (None, 128)               32896     \n",
      "_________________________________________________________________\n",
      "dense_7 (Dense)              (None, 1)                 129       \n",
      "=================================================================\n",
      "Total params: 8,225,565\n",
      "Trainable params: 8,225,565\n",
      "Non-trainable params: 0\n",
      "_________________________________________________________________\n"
     ]
    }
   ],
   "source": [
    "optimizer = keras.optimizers.Adam(learning_rate=3e-4)\n",
    "model.compile(optimizer=optimizer,\n",
    "              loss='binary_crossentropy',\n",
    "              metrics=['accuracy'])\n",
    "model.summary()"
   ]
  },
  {
   "cell_type": "code",
   "execution_count": 19,
   "metadata": {
    "id": "R0x33qvPwd48"
   },
   "outputs": [],
   "source": [
    "model_save_path='/content/m2'\n",
    "\n",
    "callbacks = [keras.callbacks.ModelCheckpoint(filepath=model_save_path,save_weights_only=True,monitor='val_accuracy',mode='max',save_best_only=True)]"
   ]
  },
  {
   "cell_type": "code",
   "execution_count": 20,
   "metadata": {
    "colab": {
     "base_uri": "https://localhost:8080/"
    },
    "id": "RiDWccEnRBUa",
    "outputId": "6a22d484-17f3-41f5-a876-7656b6697231"
   },
   "outputs": [
    {
     "name": "stdout",
     "output_type": "stream",
     "text": [
      "Epoch 1/30\n",
      "125/125 [==============================] - 4s 22ms/step - loss: 0.6967 - accuracy: 0.5028 - val_loss: 0.6976 - val_accuracy: 0.5026\n",
      "Epoch 2/30\n",
      "125/125 [==============================] - 2s 20ms/step - loss: 0.6925 - accuracy: 0.5195 - val_loss: 0.6928 - val_accuracy: 0.5026\n",
      "Epoch 3/30\n",
      "125/125 [==============================] - 2s 20ms/step - loss: 0.5441 - accuracy: 0.7625 - val_loss: 0.6786 - val_accuracy: 0.6856\n",
      "Epoch 4/30\n",
      "125/125 [==============================] - 2s 19ms/step - loss: 0.1164 - accuracy: 0.9602 - val_loss: 0.8548 - val_accuracy: 0.6751\n",
      "Epoch 5/30\n",
      "125/125 [==============================] - 2s 19ms/step - loss: 0.0534 - accuracy: 0.9752 - val_loss: 1.0281 - val_accuracy: 0.6635\n",
      "Epoch 6/30\n",
      "125/125 [==============================] - 2s 20ms/step - loss: 0.0219 - accuracy: 0.9899 - val_loss: 1.1723 - val_accuracy: 0.6635\n",
      "Epoch 7/30\n",
      "125/125 [==============================] - 3s 21ms/step - loss: 0.0167 - accuracy: 0.9945 - val_loss: 1.1565 - val_accuracy: 0.6614\n",
      "Epoch 8/30\n",
      "125/125 [==============================] - 3s 20ms/step - loss: 0.0200 - accuracy: 0.9918 - val_loss: 1.2624 - val_accuracy: 0.6614\n",
      "Epoch 9/30\n",
      "125/125 [==============================] - 3s 21ms/step - loss: 0.0130 - accuracy: 0.9931 - val_loss: 1.3245 - val_accuracy: 0.6677\n",
      "Epoch 10/30\n",
      "125/125 [==============================] - 3s 20ms/step - loss: 0.0106 - accuracy: 0.9944 - val_loss: 1.3531 - val_accuracy: 0.6667\n",
      "Epoch 11/30\n",
      "125/125 [==============================] - 2s 20ms/step - loss: 0.0131 - accuracy: 0.9944 - val_loss: 1.4772 - val_accuracy: 0.6688\n",
      "Epoch 12/30\n",
      "125/125 [==============================] - 2s 20ms/step - loss: 0.0131 - accuracy: 0.9950 - val_loss: 1.2675 - val_accuracy: 0.6656\n",
      "Epoch 13/30\n",
      "125/125 [==============================] - 2s 20ms/step - loss: 0.0084 - accuracy: 0.9954 - val_loss: 1.6544 - val_accuracy: 0.6614\n",
      "Epoch 14/30\n",
      "125/125 [==============================] - 2s 20ms/step - loss: 0.0070 - accuracy: 0.9969 - val_loss: 1.6347 - val_accuracy: 0.6236\n",
      "Epoch 15/30\n",
      "125/125 [==============================] - 3s 20ms/step - loss: 0.0129 - accuracy: 0.9955 - val_loss: 1.4975 - val_accuracy: 0.6646\n",
      "Epoch 16/30\n",
      "125/125 [==============================] - 2s 20ms/step - loss: 0.0074 - accuracy: 0.9946 - val_loss: 1.4160 - val_accuracy: 0.6635\n",
      "Epoch 17/30\n",
      "125/125 [==============================] - 2s 20ms/step - loss: 0.0105 - accuracy: 0.9952 - val_loss: 1.6405 - val_accuracy: 0.6572\n",
      "Epoch 18/30\n",
      "125/125 [==============================] - 2s 19ms/step - loss: 0.0063 - accuracy: 0.9957 - val_loss: 1.5912 - val_accuracy: 0.6562\n",
      "Epoch 19/30\n",
      "125/125 [==============================] - 2s 19ms/step - loss: 0.0086 - accuracy: 0.9944 - val_loss: 1.5135 - val_accuracy: 0.6562\n",
      "Epoch 20/30\n",
      "125/125 [==============================] - 2s 20ms/step - loss: 0.0076 - accuracy: 0.9960 - val_loss: 1.7803 - val_accuracy: 0.6572\n",
      "Epoch 21/30\n",
      "125/125 [==============================] - 2s 19ms/step - loss: 0.0086 - accuracy: 0.9940 - val_loss: 1.4114 - val_accuracy: 0.6551\n",
      "Epoch 22/30\n",
      "125/125 [==============================] - 2s 20ms/step - loss: 0.0088 - accuracy: 0.9956 - val_loss: 1.7030 - val_accuracy: 0.6551\n",
      "Epoch 23/30\n",
      "125/125 [==============================] - 2s 19ms/step - loss: 0.0083 - accuracy: 0.9961 - val_loss: 1.6606 - val_accuracy: 0.6572\n",
      "Epoch 24/30\n",
      "125/125 [==============================] - 2s 19ms/step - loss: 0.0079 - accuracy: 0.9951 - val_loss: 1.6901 - val_accuracy: 0.6583\n",
      "Epoch 25/30\n",
      "125/125 [==============================] - 2s 19ms/step - loss: 0.0084 - accuracy: 0.9937 - val_loss: 1.7486 - val_accuracy: 0.6562\n",
      "Epoch 26/30\n",
      "125/125 [==============================] - 2s 19ms/step - loss: 0.0102 - accuracy: 0.9929 - val_loss: 1.8136 - val_accuracy: 0.6583\n",
      "Epoch 27/30\n",
      "125/125 [==============================] - 2s 19ms/step - loss: 0.0076 - accuracy: 0.9957 - val_loss: 1.8838 - val_accuracy: 0.6572\n",
      "Epoch 28/30\n",
      "125/125 [==============================] - 2s 20ms/step - loss: 0.0069 - accuracy: 0.9942 - val_loss: 1.8174 - val_accuracy: 0.6593\n",
      "Epoch 29/30\n",
      "125/125 [==============================] - 2s 19ms/step - loss: 0.0095 - accuracy: 0.9944 - val_loss: 1.8629 - val_accuracy: 0.6551\n",
      "Epoch 30/30\n",
      "125/125 [==============================] - 2s 19ms/step - loss: 0.0079 - accuracy: 0.9947 - val_loss: 1.7491 - val_accuracy: 0.6540\n"
     ]
    }
   ],
   "source": [
    "history = model.fit(X_train, Y_train,\n",
    "                     epochs=30,\n",
    "                     verbose=1,\n",
    "                     validation_data=(X_test, Y_test),\n",
    "                     batch_size=32,\n",
    "                    callbacks=callbacks)"
   ]
  },
  {
   "cell_type": "code",
   "execution_count": 21,
   "metadata": {
    "colab": {
     "base_uri": "https://localhost:8080/"
    },
    "id": "7lr2Kg6ARBV3",
    "outputId": "8645046d-df28-46b8-bc66-abd8396cf73e"
   },
   "outputs": [
    {
     "name": "stdout",
     "output_type": "stream",
     "text": [
      "              precision    recall  f1-score   support\n",
      "\n",
      "         NOT       0.66      0.77      0.71       473\n",
      "         OFF       0.72      0.60      0.66       478\n",
      "\n",
      "    accuracy                           0.69       951\n",
      "   macro avg       0.69      0.69      0.68       951\n",
      "weighted avg       0.69      0.69      0.68       951\n",
      "\n"
     ]
    }
   ],
   "source": [
    "model.load_weights(model_save_path)\n",
    "import keras\n",
    "class_names = df_train.Labels.unique()\n",
    "y_pred = model.predict(X_test)>0.5\n",
    "y_pred = [str(x[0]).replace(\"False\",\"0\").replace(\"True\",\"1\") for x in y_pred]\n",
    "y_pred = [int(x) for x in y_pred]\n",
    "\n",
    "y_pred = le.inverse_transform(y_pred)\n",
    "print(classification_report(df_val_Label,y_pred))"
   ]
  },
  {
   "cell_type": "code",
   "execution_count": 21,
   "metadata": {
    "id": "5MWZvmUhlwEO"
   },
   "outputs": [],
   "source": []
  },
  {
   "cell_type": "markdown",
   "metadata": {
    "id": "ass5ZsSZ9UQU"
   },
   "source": [
    "####Reduced dimension to 50"
   ]
  },
  {
   "cell_type": "code",
   "execution_count": 22,
   "metadata": {
    "colab": {
     "base_uri": "https://localhost:8080/"
    },
    "id": "jh7jw4DIRBXj",
    "outputId": "b4323c13-e7db-4e53-d20c-21fa527467a7"
   },
   "outputs": [
    {
     "name": "stdout",
     "output_type": "stream",
     "text": [
      "Model: \"sequential_2\"\n",
      "_________________________________________________________________\n",
      "Layer (type)                 Output Shape              Param #   \n",
      "=================================================================\n",
      "embedding_1 (Embedding)      (None, 120, 50)           958350    \n",
      "_________________________________________________________________\n",
      "global_max_pooling1d (Global (None, 50)                0         \n",
      "_________________________________________________________________\n",
      "dense_8 (Dense)              (None, 10)                510       \n",
      "_________________________________________________________________\n",
      "dense_9 (Dense)              (None, 1)                 11        \n",
      "=================================================================\n",
      "Total params: 958,871\n",
      "Trainable params: 958,871\n",
      "Non-trainable params: 0\n",
      "_________________________________________________________________\n"
     ]
    }
   ],
   "source": [
    "from keras.models import Sequential\n",
    "from keras import layers\n",
    "\n",
    "embedding_dim = 50\n",
    "\n",
    "model = Sequential()\n",
    "model.add(layers.Embedding(input_dim=vocab_size, \n",
    "                           output_dim=embedding_dim, \n",
    "                           input_length=maxlen))\n",
    "model.add(layers.GlobalMaxPool1D())\n",
    "model.add(layers.Dense(10, activation='relu'))\n",
    "model.add(layers.Dense(1, activation='sigmoid'))\n",
    "model.compile(optimizer='adam',\n",
    "              loss='binary_crossentropy',\n",
    "              metrics=['accuracy'])\n",
    "model.summary()"
   ]
  },
  {
   "cell_type": "code",
   "execution_count": 23,
   "metadata": {
    "id": "5Ug9u7mUwiWG"
   },
   "outputs": [],
   "source": [
    "model_save_path='/content/m3'\n",
    "\n",
    "callbacks = [keras.callbacks.ModelCheckpoint(filepath=model_save_path,save_weights_only=True,monitor='val_accuracy',mode='max',save_best_only=True)]"
   ]
  },
  {
   "cell_type": "code",
   "execution_count": 24,
   "metadata": {
    "colab": {
     "base_uri": "https://localhost:8080/"
    },
    "id": "WksLddAGRBZP",
    "outputId": "3a950425-e61c-4d7a-cb60-632a66c95903"
   },
   "outputs": [
    {
     "name": "stdout",
     "output_type": "stream",
     "text": [
      "Epoch 1/30\n",
      "125/125 [==============================] - 2s 13ms/step - loss: 0.6924 - accuracy: 0.5169 - val_loss: 0.6833 - val_accuracy: 0.6088\n",
      "Epoch 2/30\n",
      "125/125 [==============================] - 1s 11ms/step - loss: 0.6555 - accuracy: 0.7823 - val_loss: 0.6118 - val_accuracy: 0.7161\n",
      "Epoch 3/30\n",
      "125/125 [==============================] - 1s 12ms/step - loss: 0.4652 - accuracy: 0.8978 - val_loss: 0.5523 - val_accuracy: 0.7382\n",
      "Epoch 4/30\n",
      "125/125 [==============================] - 2s 12ms/step - loss: 0.2472 - accuracy: 0.9360 - val_loss: 0.5811 - val_accuracy: 0.7266\n",
      "Epoch 5/30\n",
      "125/125 [==============================] - 1s 12ms/step - loss: 0.1300 - accuracy: 0.9686 - val_loss: 0.6274 - val_accuracy: 0.7213\n",
      "Epoch 6/30\n",
      "125/125 [==============================] - 1s 12ms/step - loss: 0.0649 - accuracy: 0.9877 - val_loss: 0.6788 - val_accuracy: 0.7108\n",
      "Epoch 7/30\n",
      "125/125 [==============================] - 1s 12ms/step - loss: 0.0394 - accuracy: 0.9922 - val_loss: 0.7224 - val_accuracy: 0.7014\n",
      "Epoch 8/30\n",
      "125/125 [==============================] - 1s 12ms/step - loss: 0.0242 - accuracy: 0.9949 - val_loss: 0.7657 - val_accuracy: 0.7003\n",
      "Epoch 9/30\n",
      "125/125 [==============================] - 2s 12ms/step - loss: 0.0200 - accuracy: 0.9937 - val_loss: 0.8012 - val_accuracy: 0.6993\n",
      "Epoch 10/30\n",
      "125/125 [==============================] - 1s 12ms/step - loss: 0.0179 - accuracy: 0.9934 - val_loss: 0.8290 - val_accuracy: 0.6951\n",
      "Epoch 11/30\n",
      "125/125 [==============================] - 2s 12ms/step - loss: 0.0145 - accuracy: 0.9943 - val_loss: 0.8558 - val_accuracy: 0.6951\n",
      "Epoch 12/30\n",
      "125/125 [==============================] - 1s 12ms/step - loss: 0.0099 - accuracy: 0.9966 - val_loss: 0.8759 - val_accuracy: 0.6961\n",
      "Epoch 13/30\n",
      "125/125 [==============================] - 1s 12ms/step - loss: 0.0120 - accuracy: 0.9956 - val_loss: 0.9001 - val_accuracy: 0.6982\n",
      "Epoch 14/30\n",
      "125/125 [==============================] - 1s 12ms/step - loss: 0.0115 - accuracy: 0.9944 - val_loss: 0.9128 - val_accuracy: 0.6972\n",
      "Epoch 15/30\n",
      "125/125 [==============================] - 2s 12ms/step - loss: 0.0112 - accuracy: 0.9950 - val_loss: 0.9324 - val_accuracy: 0.6930\n",
      "Epoch 16/30\n",
      "125/125 [==============================] - 2s 12ms/step - loss: 0.0102 - accuracy: 0.9940 - val_loss: 0.9476 - val_accuracy: 0.6961\n",
      "Epoch 17/30\n",
      "125/125 [==============================] - 1s 11ms/step - loss: 0.0099 - accuracy: 0.9953 - val_loss: 0.9710 - val_accuracy: 0.6909\n",
      "Epoch 18/30\n",
      "125/125 [==============================] - 1s 12ms/step - loss: 0.0106 - accuracy: 0.9950 - val_loss: 0.9835 - val_accuracy: 0.6940\n",
      "Epoch 19/30\n",
      "125/125 [==============================] - 1s 12ms/step - loss: 0.0115 - accuracy: 0.9938 - val_loss: 0.9946 - val_accuracy: 0.6993\n",
      "Epoch 20/30\n",
      "125/125 [==============================] - 1s 11ms/step - loss: 0.0091 - accuracy: 0.9961 - val_loss: 1.0033 - val_accuracy: 0.6930\n",
      "Epoch 21/30\n",
      "125/125 [==============================] - 1s 11ms/step - loss: 0.0081 - accuracy: 0.9948 - val_loss: 1.0156 - val_accuracy: 0.6961\n",
      "Epoch 22/30\n",
      "125/125 [==============================] - 1s 11ms/step - loss: 0.0107 - accuracy: 0.9932 - val_loss: 1.0261 - val_accuracy: 0.6951\n",
      "Epoch 23/30\n",
      "125/125 [==============================] - 1s 12ms/step - loss: 0.0097 - accuracy: 0.9935 - val_loss: 1.0402 - val_accuracy: 0.6930\n",
      "Epoch 24/30\n",
      "125/125 [==============================] - 1s 12ms/step - loss: 0.0074 - accuracy: 0.9960 - val_loss: 1.0476 - val_accuracy: 0.6940\n",
      "Epoch 25/30\n",
      "125/125 [==============================] - 1s 11ms/step - loss: 0.0066 - accuracy: 0.9953 - val_loss: 1.0625 - val_accuracy: 0.6951\n",
      "Epoch 26/30\n",
      "125/125 [==============================] - 1s 11ms/step - loss: 0.0069 - accuracy: 0.9966 - val_loss: 1.0742 - val_accuracy: 0.6909\n",
      "Epoch 27/30\n",
      "125/125 [==============================] - 1s 11ms/step - loss: 0.0084 - accuracy: 0.9959 - val_loss: 1.0810 - val_accuracy: 0.6909\n",
      "Epoch 28/30\n",
      "125/125 [==============================] - 1s 11ms/step - loss: 0.0096 - accuracy: 0.9948 - val_loss: 1.0852 - val_accuracy: 0.6940\n",
      "Epoch 29/30\n",
      "125/125 [==============================] - 1s 11ms/step - loss: 0.0070 - accuracy: 0.9953 - val_loss: 1.0987 - val_accuracy: 0.6887\n",
      "Epoch 30/30\n",
      "125/125 [==============================] - 1s 11ms/step - loss: 0.0077 - accuracy: 0.9959 - val_loss: 1.1037 - val_accuracy: 0.6951\n"
     ]
    }
   ],
   "source": [
    "history = model.fit(X_train, Y_train,\n",
    "                     epochs=30,\n",
    "                     verbose=1,\n",
    "                     validation_data=(X_test, Y_test),\n",
    "                     batch_size=32,\n",
    "                    callbacks=callbacks)"
   ]
  },
  {
   "cell_type": "code",
   "execution_count": 25,
   "metadata": {
    "colab": {
     "base_uri": "https://localhost:8080/"
    },
    "id": "vy4AmrppRBa-",
    "outputId": "a7038a54-0cb6-4675-9799-d6e3379449ba"
   },
   "outputs": [
    {
     "name": "stdout",
     "output_type": "stream",
     "text": [
      "              precision    recall  f1-score   support\n",
      "\n",
      "         NOT       0.70      0.82      0.76       473\n",
      "         OFF       0.79      0.65      0.72       478\n",
      "\n",
      "    accuracy                           0.74       951\n",
      "   macro avg       0.75      0.74      0.74       951\n",
      "weighted avg       0.75      0.74      0.74       951\n",
      "\n"
     ]
    }
   ],
   "source": [
    "model.load_weights(model_save_path)\n",
    "import keras\n",
    "class_names = df_train.Labels.unique()\n",
    "y_pred = model.predict(X_test)>0.5\n",
    "y_pred = [str(x[0]).replace(\"False\",\"0\").replace(\"True\",\"1\") for x in y_pred]\n",
    "y_pred = [int(x) for x in y_pred]\n",
    "\n",
    "y_pred = le.inverse_transform(y_pred)\n",
    "print(classification_report(df_val_Label,y_pred))"
   ]
  },
  {
   "cell_type": "code",
   "execution_count": 25,
   "metadata": {
    "id": "x07SV9waRBkt"
   },
   "outputs": [],
   "source": []
  },
  {
   "cell_type": "markdown",
   "metadata": {
    "id": "2ZnufF6Q9elJ"
   },
   "source": [
    "##CNN"
   ]
  },
  {
   "cell_type": "code",
   "execution_count": 26,
   "metadata": {
    "colab": {
     "base_uri": "https://localhost:8080/"
    },
    "id": "MDpPfjDjRBmT",
    "outputId": "2f73085b-8359-4fdf-bee2-76f9c7689331"
   },
   "outputs": [
    {
     "name": "stdout",
     "output_type": "stream",
     "text": [
      "Model: \"sequential_3\"\n",
      "_________________________________________________________________\n",
      "Layer (type)                 Output Shape              Param #   \n",
      "=================================================================\n",
      "embedding_2 (Embedding)      (None, 120, 100)          1916700   \n",
      "_________________________________________________________________\n",
      "conv1d (Conv1D)              (None, 120, 64)           19264     \n",
      "_________________________________________________________________\n",
      "global_max_pooling1d_1 (Glob (None, 64)                0         \n",
      "_________________________________________________________________\n",
      "dropout (Dropout)            (None, 64)                0         \n",
      "_________________________________________________________________\n",
      "dense_10 (Dense)             (None, 128)               8320      \n",
      "_________________________________________________________________\n",
      "dense_11 (Dense)             (None, 64)                8256      \n",
      "_________________________________________________________________\n",
      "dense_12 (Dense)             (None, 1)                 65        \n",
      "=================================================================\n",
      "Total params: 1,952,605\n",
      "Trainable params: 1,952,605\n",
      "Non-trainable params: 0\n",
      "_________________________________________________________________\n"
     ]
    }
   ],
   "source": [
    "embedding_dim = 100\n",
    "\n",
    "model = Sequential()\n",
    "model.add(layers.Embedding(vocab_size, embedding_dim, input_length=maxlen))\n",
    "\n",
    "model.add(layers.Conv1D(64,kernel_size=3,padding='same',activation='relu',strides=1))\n",
    "model.add(layers.GlobalMaxPooling1D())\n",
    "model.add(layers.Dropout(0.4))\n",
    "model.add(layers.Dense(128, activation='relu'))\n",
    "model.add(layers.Dense(64, activation='relu'))\n",
    "model.add(layers.Dense(1, activation='sigmoid'))\n",
    "\n",
    "optimizer = keras.optimizers.Adam(learning_rate=3e-4)\n",
    "model.compile(optimizer=optimizer,\n",
    "              loss='binary_crossentropy',\n",
    "              metrics=['accuracy'])\n",
    "model.summary()"
   ]
  },
  {
   "cell_type": "code",
   "execution_count": 27,
   "metadata": {
    "id": "7r1wTlb0wl0S"
   },
   "outputs": [],
   "source": [
    "model_save_path='/content/m4'\n",
    "\n",
    "callbacks = [keras.callbacks.ModelCheckpoint(filepath=model_save_path,save_weights_only=True,monitor='val_accuracy',mode='max',save_best_only=True)]"
   ]
  },
  {
   "cell_type": "code",
   "execution_count": 28,
   "metadata": {
    "colab": {
     "base_uri": "https://localhost:8080/"
    },
    "id": "n1jWA4vGRBn2",
    "outputId": "949d1c45-a44a-4bb7-8f04-0ec132f45807"
   },
   "outputs": [
    {
     "name": "stdout",
     "output_type": "stream",
     "text": [
      "Epoch 1/30\n",
      "125/125 [==============================] - 6s 25ms/step - loss: 0.6927 - accuracy: 0.5095 - val_loss: 0.6917 - val_accuracy: 0.4984\n",
      "Epoch 2/30\n",
      "125/125 [==============================] - 2s 19ms/step - loss: 0.6847 - accuracy: 0.5926 - val_loss: 0.6590 - val_accuracy: 0.6635\n",
      "Epoch 3/30\n",
      "125/125 [==============================] - 2s 19ms/step - loss: 0.5432 - accuracy: 0.8186 - val_loss: 0.5813 - val_accuracy: 0.6993\n",
      "Epoch 4/30\n",
      "125/125 [==============================] - 2s 19ms/step - loss: 0.2248 - accuracy: 0.9202 - val_loss: 0.6849 - val_accuracy: 0.6951\n",
      "Epoch 5/30\n",
      "125/125 [==============================] - 2s 19ms/step - loss: 0.1033 - accuracy: 0.9621 - val_loss: 0.8216 - val_accuracy: 0.6919\n",
      "Epoch 6/30\n",
      "125/125 [==============================] - 2s 18ms/step - loss: 0.0569 - accuracy: 0.9848 - val_loss: 0.9235 - val_accuracy: 0.6919\n",
      "Epoch 7/30\n",
      "125/125 [==============================] - 2s 18ms/step - loss: 0.0376 - accuracy: 0.9875 - val_loss: 1.0362 - val_accuracy: 0.6930\n",
      "Epoch 8/30\n",
      "125/125 [==============================] - 2s 18ms/step - loss: 0.0322 - accuracy: 0.9879 - val_loss: 1.1745 - val_accuracy: 0.6866\n",
      "Epoch 9/30\n",
      "125/125 [==============================] - 2s 18ms/step - loss: 0.0248 - accuracy: 0.9914 - val_loss: 1.2489 - val_accuracy: 0.6845\n",
      "Epoch 10/30\n",
      "125/125 [==============================] - 2s 18ms/step - loss: 0.0211 - accuracy: 0.9911 - val_loss: 1.3403 - val_accuracy: 0.6751\n",
      "Epoch 11/30\n",
      "125/125 [==============================] - 2s 19ms/step - loss: 0.0175 - accuracy: 0.9937 - val_loss: 1.4126 - val_accuracy: 0.6656\n",
      "Epoch 12/30\n",
      "125/125 [==============================] - 2s 19ms/step - loss: 0.0195 - accuracy: 0.9929 - val_loss: 1.5216 - val_accuracy: 0.6646\n",
      "Epoch 13/30\n",
      "125/125 [==============================] - 2s 18ms/step - loss: 0.0158 - accuracy: 0.9938 - val_loss: 1.5459 - val_accuracy: 0.6709\n",
      "Epoch 14/30\n",
      "125/125 [==============================] - 2s 18ms/step - loss: 0.0141 - accuracy: 0.9913 - val_loss: 1.6114 - val_accuracy: 0.6646\n",
      "Epoch 15/30\n",
      "125/125 [==============================] - 2s 18ms/step - loss: 0.0131 - accuracy: 0.9915 - val_loss: 1.6662 - val_accuracy: 0.6667\n",
      "Epoch 16/30\n",
      "125/125 [==============================] - 2s 18ms/step - loss: 0.0096 - accuracy: 0.9965 - val_loss: 1.7249 - val_accuracy: 0.6688\n",
      "Epoch 17/30\n",
      "125/125 [==============================] - 2s 18ms/step - loss: 0.0129 - accuracy: 0.9938 - val_loss: 1.7516 - val_accuracy: 0.6677\n",
      "Epoch 18/30\n",
      "125/125 [==============================] - 2s 18ms/step - loss: 0.0116 - accuracy: 0.9962 - val_loss: 1.8161 - val_accuracy: 0.6677\n",
      "Epoch 19/30\n",
      "125/125 [==============================] - 2s 18ms/step - loss: 0.0128 - accuracy: 0.9937 - val_loss: 1.8158 - val_accuracy: 0.6698\n",
      "Epoch 20/30\n",
      "125/125 [==============================] - 2s 19ms/step - loss: 0.0135 - accuracy: 0.9938 - val_loss: 1.8469 - val_accuracy: 0.6698\n",
      "Epoch 21/30\n",
      "125/125 [==============================] - 2s 19ms/step - loss: 0.0109 - accuracy: 0.9953 - val_loss: 1.8391 - val_accuracy: 0.6709\n",
      "Epoch 22/30\n",
      "125/125 [==============================] - 2s 19ms/step - loss: 0.0093 - accuracy: 0.9959 - val_loss: 1.9034 - val_accuracy: 0.6677\n",
      "Epoch 23/30\n",
      "125/125 [==============================] - 2s 19ms/step - loss: 0.0140 - accuracy: 0.9932 - val_loss: 1.9154 - val_accuracy: 0.6677\n",
      "Epoch 24/30\n",
      "125/125 [==============================] - 2s 19ms/step - loss: 0.0087 - accuracy: 0.9954 - val_loss: 1.9302 - val_accuracy: 0.6646\n",
      "Epoch 25/30\n",
      "125/125 [==============================] - 2s 19ms/step - loss: 0.0087 - accuracy: 0.9970 - val_loss: 2.0049 - val_accuracy: 0.6635\n",
      "Epoch 26/30\n",
      "125/125 [==============================] - 2s 19ms/step - loss: 0.0117 - accuracy: 0.9953 - val_loss: 1.9763 - val_accuracy: 0.6761\n",
      "Epoch 27/30\n",
      "125/125 [==============================] - 2s 19ms/step - loss: 0.0086 - accuracy: 0.9968 - val_loss: 1.9711 - val_accuracy: 0.6740\n",
      "Epoch 28/30\n",
      "125/125 [==============================] - 2s 20ms/step - loss: 0.0088 - accuracy: 0.9933 - val_loss: 2.0480 - val_accuracy: 0.6698\n",
      "Epoch 29/30\n",
      "125/125 [==============================] - 2s 19ms/step - loss: 0.0116 - accuracy: 0.9937 - val_loss: 2.0711 - val_accuracy: 0.6688\n",
      "Epoch 30/30\n",
      "125/125 [==============================] - 2s 19ms/step - loss: 0.0087 - accuracy: 0.9953 - val_loss: 2.1244 - val_accuracy: 0.6635\n"
     ]
    }
   ],
   "source": [
    "history = model.fit(X_train, Y_train,\n",
    "                     epochs=30,\n",
    "                     verbose=1,\n",
    "                     validation_data=(X_test, Y_test),\n",
    "                     batch_size=32,\n",
    "                    callbacks=callbacks)"
   ]
  },
  {
   "cell_type": "code",
   "execution_count": 29,
   "metadata": {
    "colab": {
     "base_uri": "https://localhost:8080/"
    },
    "id": "rImyJZbiRBpw",
    "outputId": "74235efb-1881-4e86-a915-472e7707f458"
   },
   "outputs": [
    {
     "name": "stdout",
     "output_type": "stream",
     "text": [
      "              precision    recall  f1-score   support\n",
      "\n",
      "         NOT       0.68      0.75      0.71       473\n",
      "         OFF       0.73      0.64      0.68       478\n",
      "\n",
      "    accuracy                           0.70       951\n",
      "   macro avg       0.70      0.70      0.70       951\n",
      "weighted avg       0.70      0.70      0.70       951\n",
      "\n"
     ]
    }
   ],
   "source": [
    "model.load_weights(model_save_path)\n",
    "import keras\n",
    "class_names = df_train.Labels.unique()\n",
    "y_pred = model.predict(X_test)>0.5\n",
    "y_pred = [str(x[0]).replace(\"False\",\"0\").replace(\"True\",\"1\") for x in y_pred]\n",
    "y_pred = [int(x) for x in y_pred]\n",
    "\n",
    "y_pred = le.inverse_transform(y_pred)\n",
    "print(classification_report(df_val_Label,y_pred))"
   ]
  },
  {
   "cell_type": "code",
   "execution_count": 29,
   "metadata": {
    "id": "VnueWphERBu2"
   },
   "outputs": [],
   "source": []
  },
  {
   "cell_type": "code",
   "execution_count": 30,
   "metadata": {
    "colab": {
     "base_uri": "https://localhost:8080/"
    },
    "id": "tZrOzmRfRBwk",
    "outputId": "ffe0ebc2-f447-4445-c246-62865d2f7b08"
   },
   "outputs": [
    {
     "name": "stdout",
     "output_type": "stream",
     "text": [
      "Model: \"sequential_4\"\n",
      "_________________________________________________________________\n",
      "Layer (type)                 Output Shape              Param #   \n",
      "=================================================================\n",
      "embedding_3 (Embedding)      (None, 120, 50)           958350    \n",
      "_________________________________________________________________\n",
      "conv1d_1 (Conv1D)            (None, 120, 64)           9664      \n",
      "_________________________________________________________________\n",
      "global_max_pooling1d_2 (Glob (None, 64)                0         \n",
      "_________________________________________________________________\n",
      "dropout_1 (Dropout)          (None, 64)                0         \n",
      "_________________________________________________________________\n",
      "dense_13 (Dense)             (None, 128)               8320      \n",
      "_________________________________________________________________\n",
      "dense_14 (Dense)             (None, 64)                8256      \n",
      "_________________________________________________________________\n",
      "dense_15 (Dense)             (None, 1)                 65        \n",
      "=================================================================\n",
      "Total params: 984,655\n",
      "Trainable params: 984,655\n",
      "Non-trainable params: 0\n",
      "_________________________________________________________________\n"
     ]
    }
   ],
   "source": [
    "embedding_dim = 50\n",
    "\n",
    "model = Sequential()\n",
    "model.add(layers.Embedding(vocab_size, embedding_dim, input_length=maxlen))\n",
    "\n",
    "model.add(layers.Conv1D(64,kernel_size=3,padding='same',activation='relu',strides=1))\n",
    "model.add(layers.GlobalMaxPooling1D())\n",
    "model.add(layers.Dropout(0.4))\n",
    "model.add(layers.Dense(128, activation='relu'))\n",
    "model.add(layers.Dense(64, activation='relu'))\n",
    "model.add(layers.Dense(1, activation='sigmoid'))\n",
    "\n",
    "optimizer = keras.optimizers.Adam(learning_rate=3e-4)\n",
    "model.compile(optimizer=optimizer,\n",
    "              loss='binary_crossentropy',\n",
    "              metrics=['accuracy'])\n",
    "model.summary()"
   ]
  },
  {
   "cell_type": "code",
   "execution_count": 31,
   "metadata": {
    "id": "WS3LbRtZRByF"
   },
   "outputs": [],
   "source": [
    "model_save_path='/content/m5'\n",
    "\n",
    "callbacks = [keras.callbacks.ModelCheckpoint(filepath=model_save_path,save_weights_only=True,monitor='val_accuracy',mode='max',save_best_only=True)]"
   ]
  },
  {
   "cell_type": "code",
   "execution_count": 32,
   "metadata": {
    "colab": {
     "base_uri": "https://localhost:8080/"
    },
    "id": "CeTVFdMP9uOl",
    "outputId": "ee42bcc5-649d-4d62-c593-1e5a43a76b22"
   },
   "outputs": [
    {
     "name": "stdout",
     "output_type": "stream",
     "text": [
      "Epoch 1/30\n",
      "125/125 [==============================] - 3s 14ms/step - loss: 0.6930 - accuracy: 0.5129 - val_loss: 0.6925 - val_accuracy: 0.4984\n",
      "Epoch 2/30\n",
      "125/125 [==============================] - 1s 10ms/step - loss: 0.6845 - accuracy: 0.5683 - val_loss: 0.6688 - val_accuracy: 0.6193\n",
      "Epoch 3/30\n",
      "125/125 [==============================] - 1s 11ms/step - loss: 0.5848 - accuracy: 0.7730 - val_loss: 0.5802 - val_accuracy: 0.7171\n",
      "Epoch 4/30\n",
      "125/125 [==============================] - 1s 11ms/step - loss: 0.2771 - accuracy: 0.8994 - val_loss: 0.6301 - val_accuracy: 0.6877\n",
      "Epoch 5/30\n",
      "125/125 [==============================] - 1s 11ms/step - loss: 0.1436 - accuracy: 0.9511 - val_loss: 0.7541 - val_accuracy: 0.6793\n",
      "Epoch 6/30\n",
      "125/125 [==============================] - 1s 11ms/step - loss: 0.0872 - accuracy: 0.9701 - val_loss: 0.8924 - val_accuracy: 0.6919\n",
      "Epoch 7/30\n",
      "125/125 [==============================] - 1s 11ms/step - loss: 0.0556 - accuracy: 0.9774 - val_loss: 1.0119 - val_accuracy: 0.6845\n",
      "Epoch 8/30\n",
      "125/125 [==============================] - 1s 12ms/step - loss: 0.0404 - accuracy: 0.9851 - val_loss: 1.1176 - val_accuracy: 0.6856\n",
      "Epoch 9/30\n",
      "125/125 [==============================] - 1s 12ms/step - loss: 0.0311 - accuracy: 0.9906 - val_loss: 1.1925 - val_accuracy: 0.6898\n",
      "Epoch 10/30\n",
      "125/125 [==============================] - 2s 12ms/step - loss: 0.0324 - accuracy: 0.9866 - val_loss: 1.2878 - val_accuracy: 0.6845\n",
      "Epoch 11/30\n",
      "125/125 [==============================] - 1s 11ms/step - loss: 0.0211 - accuracy: 0.9904 - val_loss: 1.3461 - val_accuracy: 0.6856\n",
      "Epoch 12/30\n",
      "125/125 [==============================] - 1s 12ms/step - loss: 0.0195 - accuracy: 0.9909 - val_loss: 1.4483 - val_accuracy: 0.6772\n",
      "Epoch 13/30\n",
      "125/125 [==============================] - 1s 11ms/step - loss: 0.0191 - accuracy: 0.9914 - val_loss: 1.4835 - val_accuracy: 0.6656\n",
      "Epoch 14/30\n",
      "125/125 [==============================] - 1s 11ms/step - loss: 0.0196 - accuracy: 0.9907 - val_loss: 1.5681 - val_accuracy: 0.6719\n",
      "Epoch 15/30\n",
      "125/125 [==============================] - 1s 12ms/step - loss: 0.0145 - accuracy: 0.9935 - val_loss: 1.6388 - val_accuracy: 0.6740\n",
      "Epoch 16/30\n",
      "125/125 [==============================] - 1s 12ms/step - loss: 0.0126 - accuracy: 0.9934 - val_loss: 1.6566 - val_accuracy: 0.6772\n",
      "Epoch 17/30\n",
      "125/125 [==============================] - 1s 11ms/step - loss: 0.0150 - accuracy: 0.9947 - val_loss: 1.7282 - val_accuracy: 0.6698\n",
      "Epoch 18/30\n",
      "125/125 [==============================] - 1s 11ms/step - loss: 0.0124 - accuracy: 0.9947 - val_loss: 1.7448 - val_accuracy: 0.6677\n",
      "Epoch 19/30\n",
      "125/125 [==============================] - 1s 12ms/step - loss: 0.0101 - accuracy: 0.9946 - val_loss: 1.8224 - val_accuracy: 0.6677\n",
      "Epoch 20/30\n",
      "125/125 [==============================] - 1s 11ms/step - loss: 0.0115 - accuracy: 0.9935 - val_loss: 1.8381 - val_accuracy: 0.6730\n",
      "Epoch 21/30\n",
      "125/125 [==============================] - 1s 12ms/step - loss: 0.0137 - accuracy: 0.9943 - val_loss: 1.8567 - val_accuracy: 0.6803\n",
      "Epoch 22/30\n",
      "125/125 [==============================] - 1s 11ms/step - loss: 0.0125 - accuracy: 0.9948 - val_loss: 1.8860 - val_accuracy: 0.6709\n",
      "Epoch 23/30\n",
      "125/125 [==============================] - 1s 11ms/step - loss: 0.0113 - accuracy: 0.9940 - val_loss: 1.9554 - val_accuracy: 0.6677\n",
      "Epoch 24/30\n",
      "125/125 [==============================] - 1s 11ms/step - loss: 0.0130 - accuracy: 0.9938 - val_loss: 1.9700 - val_accuracy: 0.6709\n",
      "Epoch 25/30\n",
      "125/125 [==============================] - 1s 10ms/step - loss: 0.0122 - accuracy: 0.9940 - val_loss: 2.0511 - val_accuracy: 0.6667\n",
      "Epoch 26/30\n",
      "125/125 [==============================] - 1s 11ms/step - loss: 0.0091 - accuracy: 0.9966 - val_loss: 2.0473 - val_accuracy: 0.6688\n",
      "Epoch 27/30\n",
      "125/125 [==============================] - 1s 11ms/step - loss: 0.0108 - accuracy: 0.9943 - val_loss: 2.0805 - val_accuracy: 0.6667\n",
      "Epoch 28/30\n",
      "125/125 [==============================] - 1s 11ms/step - loss: 0.0123 - accuracy: 0.9945 - val_loss: 2.0555 - val_accuracy: 0.6782\n",
      "Epoch 29/30\n",
      "125/125 [==============================] - 1s 11ms/step - loss: 0.0131 - accuracy: 0.9957 - val_loss: 2.1111 - val_accuracy: 0.6698\n",
      "Epoch 30/30\n",
      "125/125 [==============================] - 1s 11ms/step - loss: 0.0147 - accuracy: 0.9907 - val_loss: 2.1366 - val_accuracy: 0.6656\n"
     ]
    }
   ],
   "source": [
    "history = model.fit(X_train, Y_train,\n",
    "                     epochs=30,\n",
    "                     verbose=1,\n",
    "                     validation_data=(X_test, Y_test),\n",
    "                     batch_size=32,\n",
    "                    callbacks=callbacks)"
   ]
  },
  {
   "cell_type": "code",
   "execution_count": 33,
   "metadata": {
    "colab": {
     "base_uri": "https://localhost:8080/"
    },
    "id": "hHm48KEO9uQt",
    "outputId": "d3c66f5f-0d01-46cd-ad27-8c50fa7ae7ce"
   },
   "outputs": [
    {
     "name": "stdout",
     "output_type": "stream",
     "text": [
      "              precision    recall  f1-score   support\n",
      "\n",
      "         NOT       0.68      0.83      0.74       473\n",
      "         OFF       0.78      0.61      0.68       478\n",
      "\n",
      "    accuracy                           0.72       951\n",
      "   macro avg       0.73      0.72      0.71       951\n",
      "weighted avg       0.73      0.72      0.71       951\n",
      "\n"
     ]
    }
   ],
   "source": [
    "model.load_weights(model_save_path)\n",
    "import keras\n",
    "class_names = df_train.Labels.unique()\n",
    "y_pred = model.predict(X_test)>0.5\n",
    "y_pred = [str(x[0]).replace(\"False\",\"0\").replace(\"True\",\"1\") for x in y_pred]\n",
    "y_pred = [int(x) for x in y_pred]\n",
    "\n",
    "y_pred = le.inverse_transform(y_pred)\n",
    "print(classification_report(df_val_Label,y_pred))"
   ]
  },
  {
   "cell_type": "markdown",
   "metadata": {
    "id": "05n0pNqNddQ_"
   },
   "source": [
    "## BILSTM"
   ]
  },
  {
   "cell_type": "code",
   "execution_count": 34,
   "metadata": {
    "colab": {
     "base_uri": "https://localhost:8080/"
    },
    "id": "HtB-Mu5tRBzc",
    "outputId": "3d136096-1538-44ff-d212-081cd4f4e4fe"
   },
   "outputs": [
    {
     "name": "stdout",
     "output_type": "stream",
     "text": [
      "Model: \"sequential_5\"\n",
      "_________________________________________________________________\n",
      "Layer (type)                 Output Shape              Param #   \n",
      "=================================================================\n",
      "embedding_4 (Embedding)      (None, 120, 100)          1916700   \n",
      "_________________________________________________________________\n",
      "bidirectional (Bidirectional (None, 120, 512)          731136    \n",
      "_________________________________________________________________\n",
      "global_max_pooling1d_3 (Glob (None, 512)               0         \n",
      "_________________________________________________________________\n",
      "batch_normalization (BatchNo (None, 512)               2048      \n",
      "_________________________________________________________________\n",
      "dropout_2 (Dropout)          (None, 512)               0         \n",
      "_________________________________________________________________\n",
      "dense_16 (Dense)             (None, 20)                10260     \n",
      "_________________________________________________________________\n",
      "dropout_3 (Dropout)          (None, 20)                0         \n",
      "_________________________________________________________________\n",
      "dense_17 (Dense)             (None, 2)                 42        \n",
      "_________________________________________________________________\n",
      "dense_18 (Dense)             (None, 1)                 3         \n",
      "=================================================================\n",
      "Total params: 2,660,189\n",
      "Trainable params: 2,659,165\n",
      "Non-trainable params: 1,024\n",
      "_________________________________________________________________\n"
     ]
    }
   ],
   "source": [
    "embedding_dim = 100\n",
    "max_len = 120\n",
    "\n",
    "model = Sequential()\n",
    "\n",
    "model.add(layers.Embedding(vocab_size, embedding_dim, input_length=maxlen))\n",
    "\n",
    "model.add(keras.layers.Bidirectional(keras.layers.LSTM(256, return_sequences=True)))\n",
    "\n",
    "model.add(layers.GlobalMaxPooling1D())\n",
    "model.add(layers.BatchNormalization())\n",
    "model.add(layers.Dropout(0.5))\n",
    "\n",
    "model.add(layers.Dense(20, activation='relu'))\n",
    "model.add(layers.Dropout(0.3))\n",
    "\n",
    "model.add(layers.Dense(2, activation='softmax'))\n",
    "\n",
    "model.add(layers.Dense(1, activation='sigmoid'))\n",
    "\n",
    "optimizer = keras.optimizers.Adam(learning_rate=3e-4)\n",
    "model.compile(optimizer=optimizer,\n",
    "              loss='binary_crossentropy',\n",
    "              metrics=['accuracy'])\n",
    "model.summary()"
   ]
  },
  {
   "cell_type": "code",
   "execution_count": 35,
   "metadata": {
    "id": "5XN39QLmRB1V"
   },
   "outputs": [],
   "source": [
    "model_save_path='/content/m6'\n",
    "\n",
    "callbacks = [keras.callbacks.ModelCheckpoint(filepath=model_save_path,save_weights_only=True,monitor='val_accuracy',mode='max',save_best_only=True)]"
   ]
  },
  {
   "cell_type": "code",
   "execution_count": 36,
   "metadata": {
    "colab": {
     "base_uri": "https://localhost:8080/"
    },
    "id": "HzBDVKfaRB3N",
    "outputId": "8f525ea9-b3d9-41a8-9d6a-32fa731042b3"
   },
   "outputs": [
    {
     "name": "stdout",
     "output_type": "stream",
     "text": [
      "Epoch 1/50\n",
      "125/125 [==============================] - 16s 44ms/step - loss: 0.7771 - accuracy: 0.4862 - val_loss: 0.7464 - val_accuracy: 0.5026\n",
      "Epoch 2/50\n",
      "125/125 [==============================] - 4s 34ms/step - loss: 0.7394 - accuracy: 0.4921 - val_loss: 0.7272 - val_accuracy: 0.5026\n",
      "Epoch 3/50\n",
      "125/125 [==============================] - 4s 36ms/step - loss: 0.7108 - accuracy: 0.4814 - val_loss: 0.7110 - val_accuracy: 0.5026\n",
      "Epoch 4/50\n",
      "125/125 [==============================] - 4s 34ms/step - loss: 0.6818 - accuracy: 0.4876 - val_loss: 0.6902 - val_accuracy: 0.5026\n",
      "Epoch 5/50\n",
      "125/125 [==============================] - 4s 34ms/step - loss: 0.6579 - accuracy: 0.4967 - val_loss: 0.6915 - val_accuracy: 0.5026\n",
      "Epoch 6/50\n",
      "125/125 [==============================] - 4s 35ms/step - loss: 0.6484 - accuracy: 0.4728 - val_loss: 0.6698 - val_accuracy: 0.5026\n",
      "Epoch 7/50\n",
      "125/125 [==============================] - 4s 35ms/step - loss: 0.6215 - accuracy: 0.4883 - val_loss: 0.6689 - val_accuracy: 0.5026\n",
      "Epoch 8/50\n",
      "125/125 [==============================] - 5s 37ms/step - loss: 0.6056 - accuracy: 0.4813 - val_loss: 0.7926 - val_accuracy: 0.5026\n",
      "Epoch 9/50\n",
      "125/125 [==============================] - 4s 36ms/step - loss: 0.5897 - accuracy: 0.4822 - val_loss: 0.6633 - val_accuracy: 0.5026\n",
      "Epoch 10/50\n",
      "125/125 [==============================] - 5s 37ms/step - loss: 0.5741 - accuracy: 0.4834 - val_loss: 0.6379 - val_accuracy: 0.5026\n",
      "Epoch 11/50\n",
      "125/125 [==============================] - 5s 38ms/step - loss: 0.5495 - accuracy: 0.8291 - val_loss: 0.8019 - val_accuracy: 0.5026\n",
      "Epoch 12/50\n",
      "125/125 [==============================] - 5s 38ms/step - loss: 0.5454 - accuracy: 0.8856 - val_loss: 0.8033 - val_accuracy: 0.5026\n",
      "Epoch 13/50\n",
      "125/125 [==============================] - 5s 38ms/step - loss: 0.5348 - accuracy: 0.8932 - val_loss: 0.6643 - val_accuracy: 0.6530\n",
      "Epoch 14/50\n",
      "125/125 [==============================] - 5s 39ms/step - loss: 0.5194 - accuracy: 0.8961 - val_loss: 0.6242 - val_accuracy: 0.6772\n",
      "Epoch 15/50\n",
      "125/125 [==============================] - 5s 38ms/step - loss: 0.5088 - accuracy: 0.8993 - val_loss: 0.6746 - val_accuracy: 0.6456\n",
      "Epoch 16/50\n",
      "125/125 [==============================] - 5s 37ms/step - loss: 0.4977 - accuracy: 0.8979 - val_loss: 0.6558 - val_accuracy: 0.5952\n",
      "Epoch 17/50\n",
      "125/125 [==============================] - 4s 36ms/step - loss: 0.4837 - accuracy: 0.9042 - val_loss: 0.6635 - val_accuracy: 0.6404\n",
      "Epoch 18/50\n",
      "125/125 [==============================] - 4s 34ms/step - loss: 0.4681 - accuracy: 0.9142 - val_loss: 0.6271 - val_accuracy: 0.6646\n",
      "Epoch 19/50\n",
      "125/125 [==============================] - 4s 35ms/step - loss: 0.4659 - accuracy: 0.9048 - val_loss: 0.7005 - val_accuracy: 0.6162\n",
      "Epoch 20/50\n",
      "125/125 [==============================] - 4s 34ms/step - loss: 0.4475 - accuracy: 0.9148 - val_loss: 0.6320 - val_accuracy: 0.6646\n",
      "Epoch 21/50\n",
      "125/125 [==============================] - 4s 35ms/step - loss: 0.4518 - accuracy: 0.9008 - val_loss: 0.6531 - val_accuracy: 0.6109\n",
      "Epoch 22/50\n",
      "125/125 [==============================] - 4s 34ms/step - loss: 0.4298 - accuracy: 0.9217 - val_loss: 0.6387 - val_accuracy: 0.6404\n",
      "Epoch 23/50\n",
      "125/125 [==============================] - 4s 34ms/step - loss: 0.4239 - accuracy: 0.9190 - val_loss: 0.8135 - val_accuracy: 0.5184\n",
      "Epoch 24/50\n",
      "125/125 [==============================] - 4s 35ms/step - loss: 0.4144 - accuracy: 0.9209 - val_loss: 0.6244 - val_accuracy: 0.6719\n",
      "Epoch 25/50\n",
      "125/125 [==============================] - 5s 37ms/step - loss: 0.4069 - accuracy: 0.9169 - val_loss: 0.6293 - val_accuracy: 0.6572\n",
      "Epoch 26/50\n",
      "125/125 [==============================] - 5s 37ms/step - loss: 0.3982 - accuracy: 0.9224 - val_loss: 0.6901 - val_accuracy: 0.6393\n",
      "Epoch 27/50\n",
      "125/125 [==============================] - 5s 37ms/step - loss: 0.3935 - accuracy: 0.9200 - val_loss: 0.6977 - val_accuracy: 0.6309\n",
      "Epoch 28/50\n",
      "125/125 [==============================] - 5s 37ms/step - loss: 0.3814 - accuracy: 0.9280 - val_loss: 0.6400 - val_accuracy: 0.6761\n",
      "Epoch 29/50\n",
      "125/125 [==============================] - 5s 37ms/step - loss: 0.3759 - accuracy: 0.9243 - val_loss: 0.6529 - val_accuracy: 0.6667\n",
      "Epoch 30/50\n",
      "125/125 [==============================] - 5s 36ms/step - loss: 0.3676 - accuracy: 0.9274 - val_loss: 0.6497 - val_accuracy: 0.6614\n",
      "Epoch 31/50\n",
      "125/125 [==============================] - 4s 35ms/step - loss: 0.3603 - accuracy: 0.9287 - val_loss: 0.6639 - val_accuracy: 0.6509\n",
      "Epoch 32/50\n",
      "125/125 [==============================] - 4s 35ms/step - loss: 0.3497 - accuracy: 0.9333 - val_loss: 0.6771 - val_accuracy: 0.6383\n",
      "Epoch 33/50\n",
      "125/125 [==============================] - 4s 35ms/step - loss: 0.3478 - accuracy: 0.9304 - val_loss: 0.6602 - val_accuracy: 0.6488\n",
      "Epoch 34/50\n",
      "125/125 [==============================] - 4s 35ms/step - loss: 0.3332 - accuracy: 0.9400 - val_loss: 0.7064 - val_accuracy: 0.6351\n",
      "Epoch 35/50\n",
      "125/125 [==============================] - 4s 35ms/step - loss: 0.3291 - accuracy: 0.9396 - val_loss: 0.6770 - val_accuracy: 0.6467\n",
      "Epoch 36/50\n",
      "125/125 [==============================] - 4s 35ms/step - loss: 0.3320 - accuracy: 0.9336 - val_loss: 0.6769 - val_accuracy: 0.6456\n",
      "Epoch 37/50\n",
      "125/125 [==============================] - 4s 35ms/step - loss: 0.3262 - accuracy: 0.9325 - val_loss: 0.9464 - val_accuracy: 0.5026\n",
      "Epoch 38/50\n",
      "125/125 [==============================] - 4s 34ms/step - loss: 0.3258 - accuracy: 0.9303 - val_loss: 0.7467 - val_accuracy: 0.6225\n",
      "Epoch 39/50\n",
      "125/125 [==============================] - 4s 34ms/step - loss: 0.3144 - accuracy: 0.9350 - val_loss: 0.6885 - val_accuracy: 0.6551\n",
      "Epoch 40/50\n",
      "125/125 [==============================] - 5s 37ms/step - loss: 0.3022 - accuracy: 0.9415 - val_loss: 0.7652 - val_accuracy: 0.6141\n",
      "Epoch 41/50\n",
      "125/125 [==============================] - 5s 37ms/step - loss: 0.3012 - accuracy: 0.9406 - val_loss: 0.7126 - val_accuracy: 0.6257\n",
      "Epoch 42/50\n",
      "125/125 [==============================] - 5s 37ms/step - loss: 0.2969 - accuracy: 0.9418 - val_loss: 0.6867 - val_accuracy: 0.6614\n",
      "Epoch 43/50\n",
      "125/125 [==============================] - 5s 37ms/step - loss: 0.2843 - accuracy: 0.9478 - val_loss: 0.6981 - val_accuracy: 0.6446\n",
      "Epoch 44/50\n",
      "125/125 [==============================] - 5s 37ms/step - loss: 0.2748 - accuracy: 0.9493 - val_loss: 0.8121 - val_accuracy: 0.5973\n",
      "Epoch 45/50\n",
      "125/125 [==============================] - 5s 37ms/step - loss: 0.2765 - accuracy: 0.9457 - val_loss: 0.7254 - val_accuracy: 0.6498\n",
      "Epoch 46/50\n",
      "125/125 [==============================] - 4s 35ms/step - loss: 0.2753 - accuracy: 0.9463 - val_loss: 0.7054 - val_accuracy: 0.6635\n",
      "Epoch 47/50\n",
      "125/125 [==============================] - 4s 35ms/step - loss: 0.2682 - accuracy: 0.9472 - val_loss: 0.8016 - val_accuracy: 0.5878\n",
      "Epoch 48/50\n",
      "125/125 [==============================] - 4s 35ms/step - loss: 0.2586 - accuracy: 0.9502 - val_loss: 0.8101 - val_accuracy: 0.5878\n",
      "Epoch 49/50\n",
      "125/125 [==============================] - 4s 34ms/step - loss: 0.2766 - accuracy: 0.9369 - val_loss: 0.9027 - val_accuracy: 0.5268\n",
      "Epoch 50/50\n",
      "125/125 [==============================] - 4s 34ms/step - loss: 0.2563 - accuracy: 0.9493 - val_loss: 0.7742 - val_accuracy: 0.6225\n"
     ]
    }
   ],
   "source": [
    "history = model.fit(X_train, Y_train,\n",
    "                     epochs=50,\n",
    "                     verbose=1,\n",
    "                     validation_data=(X_test, Y_test),\n",
    "                     batch_size=32,\n",
    "                    callbacks = callbacks)"
   ]
  },
  {
   "cell_type": "code",
   "execution_count": 37,
   "metadata": {
    "colab": {
     "base_uri": "https://localhost:8080/"
    },
    "id": "LB9Fx3-KRB44",
    "outputId": "9c014790-435c-44d2-f180-7ce668fa595c"
   },
   "outputs": [
    {
     "name": "stdout",
     "output_type": "stream",
     "text": [
      "              precision    recall  f1-score   support\n",
      "\n",
      "         NOT       0.63      0.83      0.72       473\n",
      "         OFF       0.76      0.53      0.62       478\n",
      "\n",
      "    accuracy                           0.68       951\n",
      "   macro avg       0.69      0.68      0.67       951\n",
      "weighted avg       0.70      0.68      0.67       951\n",
      "\n"
     ]
    }
   ],
   "source": [
    "model.load_weights(model_save_path)\n",
    "\n",
    "class_names = df_train.Labels.unique()\n",
    "y_pred = model.predict(X_test)>0.5\n",
    "y_pred = [str(x[0]).replace(\"False\",\"0\").replace(\"True\",\"1\") for x in y_pred]\n",
    "y_pred = [int(x) for x in y_pred]\n",
    "\n",
    "y_pred = le.inverse_transform(y_pred)\n",
    "print(classification_report(df_val_Label,y_pred))"
   ]
  },
  {
   "cell_type": "code",
   "execution_count": 37,
   "metadata": {
    "id": "sB3ghGGyRB74"
   },
   "outputs": [],
   "source": []
  },
  {
   "cell_type": "markdown",
   "metadata": {
    "id": "yl9lugf8-EsK"
   },
   "source": [
    "####Reduced dimension to 50"
   ]
  },
  {
   "cell_type": "code",
   "execution_count": 38,
   "metadata": {
    "colab": {
     "base_uri": "https://localhost:8080/"
    },
    "id": "Gta-wUlFRB9R",
    "outputId": "71ac98e9-b8fe-4073-af51-f63d123dae4f"
   },
   "outputs": [
    {
     "name": "stdout",
     "output_type": "stream",
     "text": [
      "Model: \"sequential_6\"\n",
      "_________________________________________________________________\n",
      "Layer (type)                 Output Shape              Param #   \n",
      "=================================================================\n",
      "embedding_5 (Embedding)      (None, 120, 50)           958350    \n",
      "_________________________________________________________________\n",
      "bidirectional_1 (Bidirection (None, 120, 512)          628736    \n",
      "_________________________________________________________________\n",
      "global_max_pooling1d_4 (Glob (None, 512)               0         \n",
      "_________________________________________________________________\n",
      "batch_normalization_1 (Batch (None, 512)               2048      \n",
      "_________________________________________________________________\n",
      "dropout_4 (Dropout)          (None, 512)               0         \n",
      "_________________________________________________________________\n",
      "dense_19 (Dense)             (None, 20)                10260     \n",
      "_________________________________________________________________\n",
      "dropout_5 (Dropout)          (None, 20)                0         \n",
      "_________________________________________________________________\n",
      "dense_20 (Dense)             (None, 2)                 42        \n",
      "_________________________________________________________________\n",
      "dense_21 (Dense)             (None, 1)                 3         \n",
      "=================================================================\n",
      "Total params: 1,599,439\n",
      "Trainable params: 1,598,415\n",
      "Non-trainable params: 1,024\n",
      "_________________________________________________________________\n"
     ]
    }
   ],
   "source": [
    "embedding_dim = 50\n",
    "max_len = 120\n",
    "\n",
    "model = Sequential()\n",
    "\n",
    "model.add(layers.Embedding(vocab_size, embedding_dim, input_length=maxlen))\n",
    "\n",
    "model.add(keras.layers.Bidirectional(keras.layers.LSTM(256, return_sequences=True)))\n",
    "\n",
    "model.add(layers.GlobalMaxPooling1D())\n",
    "model.add(layers.BatchNormalization())\n",
    "model.add(layers.Dropout(0.5))\n",
    "\n",
    "model.add(layers.Dense(20, activation='relu'))\n",
    "model.add(layers.Dropout(0.3))\n",
    "\n",
    "model.add(layers.Dense(2, activation='softmax'))\n",
    "\n",
    "model.add(layers.Dense(1, activation='sigmoid'))\n",
    "\n",
    "optimizer = keras.optimizers.Adam(learning_rate=3e-4)\n",
    "model.compile(optimizer=optimizer,\n",
    "              loss='binary_crossentropy',\n",
    "              metrics=['accuracy'])\n",
    "model.summary()"
   ]
  },
  {
   "cell_type": "code",
   "execution_count": 39,
   "metadata": {
    "id": "PbwCwzQtRB-y"
   },
   "outputs": [],
   "source": [
    "model_save_path='/content/m7'\n",
    "\n",
    "callbacks = [keras.callbacks.ModelCheckpoint(filepath=model_save_path,save_weights_only=True,monitor='val_accuracy',mode='max',save_best_only=True)]"
   ]
  },
  {
   "cell_type": "code",
   "execution_count": 40,
   "metadata": {
    "colab": {
     "base_uri": "https://localhost:8080/"
    },
    "id": "RWbBexG_Zlb1",
    "outputId": "1864e35b-5b73-4d17-8528-faced232ab0d"
   },
   "outputs": [
    {
     "name": "stdout",
     "output_type": "stream",
     "text": [
      "Epoch 1/100\n",
      "125/125 [==============================] - 8s 34ms/step - loss: 0.7905 - accuracy: 0.4823 - val_loss: 0.7470 - val_accuracy: 0.5026\n",
      "Epoch 2/100\n",
      "125/125 [==============================] - 3s 25ms/step - loss: 0.7449 - accuracy: 0.4820 - val_loss: 0.7294 - val_accuracy: 0.5026\n",
      "Epoch 3/100\n",
      "125/125 [==============================] - 3s 25ms/step - loss: 0.7302 - accuracy: 0.4931 - val_loss: 0.7514 - val_accuracy: 0.5026\n",
      "Epoch 4/100\n",
      "125/125 [==============================] - 3s 27ms/step - loss: 0.7073 - accuracy: 0.4794 - val_loss: 0.8168 - val_accuracy: 0.5026\n",
      "Epoch 5/100\n",
      "125/125 [==============================] - 4s 28ms/step - loss: 0.6632 - accuracy: 0.4920 - val_loss: 0.6868 - val_accuracy: 0.5026\n",
      "Epoch 6/100\n",
      "125/125 [==============================] - 4s 28ms/step - loss: 0.6221 - accuracy: 0.4907 - val_loss: 0.6660 - val_accuracy: 0.5026\n",
      "Epoch 7/100\n",
      "125/125 [==============================] - 4s 28ms/step - loss: 0.5990 - accuracy: 0.4868 - val_loss: 0.6774 - val_accuracy: 0.5026\n",
      "Epoch 8/100\n",
      "125/125 [==============================] - 4s 28ms/step - loss: 0.5800 - accuracy: 0.4927 - val_loss: 0.6898 - val_accuracy: 0.5026\n",
      "Epoch 9/100\n",
      "125/125 [==============================] - 4s 28ms/step - loss: 0.5614 - accuracy: 0.4901 - val_loss: 0.6644 - val_accuracy: 0.5026\n",
      "Epoch 10/100\n",
      "125/125 [==============================] - 4s 28ms/step - loss: 0.5457 - accuracy: 0.5501 - val_loss: 0.7776 - val_accuracy: 0.5521\n",
      "Epoch 11/100\n",
      "125/125 [==============================] - 4s 28ms/step - loss: 0.5298 - accuracy: 0.8976 - val_loss: 0.6348 - val_accuracy: 0.6803\n",
      "Epoch 12/100\n",
      "125/125 [==============================] - 3s 26ms/step - loss: 0.5093 - accuracy: 0.9079 - val_loss: 0.6844 - val_accuracy: 0.5279\n",
      "Epoch 13/100\n",
      "125/125 [==============================] - 3s 26ms/step - loss: 0.5017 - accuracy: 0.9043 - val_loss: 0.6669 - val_accuracy: 0.5689\n",
      "Epoch 14/100\n",
      "125/125 [==============================] - 4s 28ms/step - loss: 0.4838 - accuracy: 0.9123 - val_loss: 0.6234 - val_accuracy: 0.6614\n",
      "Epoch 15/100\n",
      "125/125 [==============================] - 4s 28ms/step - loss: 0.4686 - accuracy: 0.9091 - val_loss: 0.6407 - val_accuracy: 0.6583\n",
      "Epoch 16/100\n",
      "125/125 [==============================] - 4s 28ms/step - loss: 0.4580 - accuracy: 0.9156 - val_loss: 0.6449 - val_accuracy: 0.6540\n",
      "Epoch 17/100\n",
      "125/125 [==============================] - 3s 28ms/step - loss: 0.4425 - accuracy: 0.9280 - val_loss: 0.6460 - val_accuracy: 0.6488\n",
      "Epoch 18/100\n",
      "125/125 [==============================] - 4s 28ms/step - loss: 0.4314 - accuracy: 0.9271 - val_loss: 0.6738 - val_accuracy: 0.6530\n",
      "Epoch 19/100\n",
      "125/125 [==============================] - 4s 28ms/step - loss: 0.4258 - accuracy: 0.9207 - val_loss: 0.6329 - val_accuracy: 0.6362\n",
      "Epoch 20/100\n",
      "125/125 [==============================] - 4s 28ms/step - loss: 0.4096 - accuracy: 0.9323 - val_loss: 0.6453 - val_accuracy: 0.6688\n",
      "Epoch 21/100\n",
      "125/125 [==============================] - 3s 27ms/step - loss: 0.4074 - accuracy: 0.9246 - val_loss: 0.6763 - val_accuracy: 0.6593\n",
      "Epoch 22/100\n",
      "125/125 [==============================] - 3s 26ms/step - loss: 0.4003 - accuracy: 0.9301 - val_loss: 0.7000 - val_accuracy: 0.6330\n",
      "Epoch 23/100\n",
      "125/125 [==============================] - 3s 26ms/step - loss: 0.3840 - accuracy: 0.9317 - val_loss: 0.6563 - val_accuracy: 0.6540\n",
      "Epoch 24/100\n",
      "125/125 [==============================] - 3s 26ms/step - loss: 0.3682 - accuracy: 0.9432 - val_loss: 0.6448 - val_accuracy: 0.6509\n",
      "Epoch 25/100\n",
      "125/125 [==============================] - 3s 26ms/step - loss: 0.3672 - accuracy: 0.9319 - val_loss: 0.6596 - val_accuracy: 0.6572\n",
      "Epoch 26/100\n",
      "125/125 [==============================] - 3s 25ms/step - loss: 0.3599 - accuracy: 0.9362 - val_loss: 0.6499 - val_accuracy: 0.6509\n",
      "Epoch 27/100\n",
      "125/125 [==============================] - 3s 25ms/step - loss: 0.3468 - accuracy: 0.9419 - val_loss: 0.6423 - val_accuracy: 0.6614\n",
      "Epoch 28/100\n",
      "125/125 [==============================] - 3s 25ms/step - loss: 0.3360 - accuracy: 0.9463 - val_loss: 0.6606 - val_accuracy: 0.6372\n",
      "Epoch 29/100\n",
      "125/125 [==============================] - 3s 26ms/step - loss: 0.3299 - accuracy: 0.9462 - val_loss: 0.6641 - val_accuracy: 0.6625\n",
      "Epoch 30/100\n",
      "125/125 [==============================] - 3s 26ms/step - loss: 0.3223 - accuracy: 0.9476 - val_loss: 0.9472 - val_accuracy: 0.5026\n",
      "Epoch 31/100\n",
      "125/125 [==============================] - 3s 26ms/step - loss: 0.3173 - accuracy: 0.9481 - val_loss: 0.7591 - val_accuracy: 0.6067\n",
      "Epoch 32/100\n",
      "125/125 [==============================] - 3s 26ms/step - loss: 0.3137 - accuracy: 0.9490 - val_loss: 0.7017 - val_accuracy: 0.6509\n",
      "Epoch 33/100\n",
      "125/125 [==============================] - 3s 26ms/step - loss: 0.3004 - accuracy: 0.9519 - val_loss: 0.8429 - val_accuracy: 0.4974\n",
      "Epoch 34/100\n",
      "125/125 [==============================] - 4s 28ms/step - loss: 0.3025 - accuracy: 0.9476 - val_loss: 0.7322 - val_accuracy: 0.5973\n",
      "Epoch 35/100\n",
      "125/125 [==============================] - 4s 29ms/step - loss: 0.3036 - accuracy: 0.9425 - val_loss: 0.6904 - val_accuracy: 0.6562\n",
      "Epoch 36/100\n",
      "125/125 [==============================] - 4s 28ms/step - loss: 0.2914 - accuracy: 0.9495 - val_loss: 0.8730 - val_accuracy: 0.5626\n",
      "Epoch 37/100\n",
      "125/125 [==============================] - 4s 28ms/step - loss: 0.2793 - accuracy: 0.9533 - val_loss: 0.7781 - val_accuracy: 0.6183\n",
      "Epoch 38/100\n",
      "125/125 [==============================] - 4s 28ms/step - loss: 0.2780 - accuracy: 0.9523 - val_loss: 0.9082 - val_accuracy: 0.5489\n",
      "Epoch 39/100\n",
      "125/125 [==============================] - 4s 29ms/step - loss: 0.2683 - accuracy: 0.9542 - val_loss: 0.7979 - val_accuracy: 0.6109\n",
      "Epoch 40/100\n",
      "125/125 [==============================] - 4s 28ms/step - loss: 0.2730 - accuracy: 0.9480 - val_loss: 0.8712 - val_accuracy: 0.5258\n",
      "Epoch 41/100\n",
      "125/125 [==============================] - 3s 26ms/step - loss: 0.2710 - accuracy: 0.9483 - val_loss: 0.7504 - val_accuracy: 0.6372\n",
      "Epoch 42/100\n",
      "125/125 [==============================] - 3s 26ms/step - loss: 0.2568 - accuracy: 0.9549 - val_loss: 0.7491 - val_accuracy: 0.6414\n",
      "Epoch 43/100\n",
      "125/125 [==============================] - 3s 26ms/step - loss: 0.2627 - accuracy: 0.9483 - val_loss: 0.7422 - val_accuracy: 0.6330\n",
      "Epoch 44/100\n",
      "125/125 [==============================] - 3s 26ms/step - loss: 0.2505 - accuracy: 0.9558 - val_loss: 0.7450 - val_accuracy: 0.6320\n",
      "Epoch 45/100\n",
      "125/125 [==============================] - 3s 26ms/step - loss: 0.2430 - accuracy: 0.9574 - val_loss: 0.9673 - val_accuracy: 0.5478\n",
      "Epoch 46/100\n",
      "125/125 [==============================] - 3s 26ms/step - loss: 0.2466 - accuracy: 0.9524 - val_loss: 0.7339 - val_accuracy: 0.6425\n",
      "Epoch 47/100\n",
      "125/125 [==============================] - 3s 25ms/step - loss: 0.2530 - accuracy: 0.9478 - val_loss: 0.7764 - val_accuracy: 0.6488\n",
      "Epoch 48/100\n",
      "125/125 [==============================] - 3s 26ms/step - loss: 0.2286 - accuracy: 0.9584 - val_loss: 0.8011 - val_accuracy: 0.5899\n",
      "Epoch 49/100\n",
      "125/125 [==============================] - 3s 26ms/step - loss: 0.2267 - accuracy: 0.9593 - val_loss: 0.7862 - val_accuracy: 0.6414\n",
      "Epoch 50/100\n",
      "125/125 [==============================] - 3s 26ms/step - loss: 0.2304 - accuracy: 0.9540 - val_loss: 0.7646 - val_accuracy: 0.6425\n",
      "Epoch 51/100\n",
      "125/125 [==============================] - 3s 26ms/step - loss: 0.2200 - accuracy: 0.9583 - val_loss: 0.8487 - val_accuracy: 0.6193\n",
      "Epoch 52/100\n",
      "125/125 [==============================] - 3s 26ms/step - loss: 0.2084 - accuracy: 0.9643 - val_loss: 0.6828 - val_accuracy: 0.6246\n",
      "Epoch 53/100\n",
      "125/125 [==============================] - 3s 27ms/step - loss: 0.2195 - accuracy: 0.9558 - val_loss: 0.9526 - val_accuracy: 0.5405\n",
      "Epoch 54/100\n",
      "125/125 [==============================] - 4s 29ms/step - loss: 0.1981 - accuracy: 0.9673 - val_loss: 1.1583 - val_accuracy: 0.5026\n",
      "Epoch 55/100\n",
      "125/125 [==============================] - 4s 28ms/step - loss: 0.2041 - accuracy: 0.9634 - val_loss: 0.8162 - val_accuracy: 0.6519\n",
      "Epoch 56/100\n",
      "125/125 [==============================] - 4s 28ms/step - loss: 0.1943 - accuracy: 0.9669 - val_loss: 0.8356 - val_accuracy: 0.6383\n",
      "Epoch 57/100\n",
      "125/125 [==============================] - 4s 28ms/step - loss: 0.1846 - accuracy: 0.9707 - val_loss: 0.8298 - val_accuracy: 0.6362\n",
      "Epoch 58/100\n",
      "125/125 [==============================] - 4s 28ms/step - loss: 0.1965 - accuracy: 0.9612 - val_loss: 1.2021 - val_accuracy: 0.5026\n",
      "Epoch 59/100\n",
      "125/125 [==============================] - 4s 28ms/step - loss: 0.1922 - accuracy: 0.9610 - val_loss: 0.7806 - val_accuracy: 0.6467\n",
      "Epoch 60/100\n",
      "125/125 [==============================] - 3s 28ms/step - loss: 0.1792 - accuracy: 0.9686 - val_loss: 0.8669 - val_accuracy: 0.6162\n",
      "Epoch 61/100\n",
      "125/125 [==============================] - 3s 26ms/step - loss: 0.1822 - accuracy: 0.9682 - val_loss: 0.9673 - val_accuracy: 0.5941\n",
      "Epoch 62/100\n",
      "125/125 [==============================] - 3s 26ms/step - loss: 0.1885 - accuracy: 0.9623 - val_loss: 0.8260 - val_accuracy: 0.6299\n",
      "Epoch 63/100\n",
      "125/125 [==============================] - 3s 26ms/step - loss: 0.1884 - accuracy: 0.9623 - val_loss: 1.2546 - val_accuracy: 0.5026\n",
      "Epoch 64/100\n",
      "125/125 [==============================] - 3s 26ms/step - loss: 0.1926 - accuracy: 0.9562 - val_loss: 0.8265 - val_accuracy: 0.6193\n",
      "Epoch 65/100\n",
      "125/125 [==============================] - 3s 26ms/step - loss: 0.1825 - accuracy: 0.9610 - val_loss: 0.8347 - val_accuracy: 0.6435\n",
      "Epoch 66/100\n",
      "125/125 [==============================] - 3s 26ms/step - loss: 0.1830 - accuracy: 0.9613 - val_loss: 0.8474 - val_accuracy: 0.6498\n",
      "Epoch 67/100\n",
      "125/125 [==============================] - 3s 26ms/step - loss: 0.1705 - accuracy: 0.9674 - val_loss: 0.8877 - val_accuracy: 0.6414\n",
      "Epoch 68/100\n",
      "125/125 [==============================] - 3s 26ms/step - loss: 0.1712 - accuracy: 0.9664 - val_loss: 0.8535 - val_accuracy: 0.6383\n",
      "Epoch 69/100\n",
      "125/125 [==============================] - 3s 26ms/step - loss: 0.1774 - accuracy: 0.9632 - val_loss: 0.8708 - val_accuracy: 0.6330\n",
      "Epoch 70/100\n",
      "125/125 [==============================] - 3s 26ms/step - loss: 0.1654 - accuracy: 0.9678 - val_loss: 1.0111 - val_accuracy: 0.6162\n",
      "Epoch 71/100\n",
      "125/125 [==============================] - 3s 26ms/step - loss: 0.1654 - accuracy: 0.9660 - val_loss: 0.8982 - val_accuracy: 0.6351\n",
      "Epoch 72/100\n",
      "125/125 [==============================] - 3s 26ms/step - loss: 0.1628 - accuracy: 0.9660 - val_loss: 0.8384 - val_accuracy: 0.6393\n",
      "Epoch 73/100\n",
      "125/125 [==============================] - 4s 28ms/step - loss: 0.1504 - accuracy: 0.9716 - val_loss: 0.9203 - val_accuracy: 0.6393\n",
      "Epoch 74/100\n",
      "125/125 [==============================] - 4s 29ms/step - loss: 0.1519 - accuracy: 0.9709 - val_loss: 0.9079 - val_accuracy: 0.6372\n",
      "Epoch 75/100\n",
      "125/125 [==============================] - 4s 29ms/step - loss: 0.1551 - accuracy: 0.9680 - val_loss: 0.8832 - val_accuracy: 0.6393\n",
      "Epoch 76/100\n",
      "125/125 [==============================] - 4s 29ms/step - loss: 0.1496 - accuracy: 0.9678 - val_loss: 0.8590 - val_accuracy: 0.6299\n",
      "Epoch 77/100\n",
      "125/125 [==============================] - 4s 29ms/step - loss: 0.1614 - accuracy: 0.9636 - val_loss: 0.9457 - val_accuracy: 0.6351\n",
      "Epoch 78/100\n",
      "125/125 [==============================] - 4s 29ms/step - loss: 0.1455 - accuracy: 0.9708 - val_loss: 0.8954 - val_accuracy: 0.6435\n",
      "Epoch 79/100\n",
      "125/125 [==============================] - 4s 29ms/step - loss: 0.1509 - accuracy: 0.9677 - val_loss: 0.9313 - val_accuracy: 0.6351\n",
      "Epoch 80/100\n",
      "125/125 [==============================] - 3s 27ms/step - loss: 0.1531 - accuracy: 0.9654 - val_loss: 0.9222 - val_accuracy: 0.6215\n",
      "Epoch 81/100\n",
      "125/125 [==============================] - 3s 25ms/step - loss: 0.1436 - accuracy: 0.9675 - val_loss: 1.0544 - val_accuracy: 0.5920\n",
      "Epoch 82/100\n",
      "125/125 [==============================] - 3s 26ms/step - loss: 0.1387 - accuracy: 0.9709 - val_loss: 1.0833 - val_accuracy: 0.5825\n",
      "Epoch 83/100\n",
      "125/125 [==============================] - 3s 26ms/step - loss: 0.1409 - accuracy: 0.9702 - val_loss: 0.9131 - val_accuracy: 0.6351\n",
      "Epoch 84/100\n",
      "125/125 [==============================] - 3s 27ms/step - loss: 0.1465 - accuracy: 0.9667 - val_loss: 1.0205 - val_accuracy: 0.6193\n",
      "Epoch 85/100\n",
      "125/125 [==============================] - 3s 26ms/step - loss: 0.1231 - accuracy: 0.9788 - val_loss: 1.0467 - val_accuracy: 0.6193\n",
      "Epoch 86/100\n",
      "125/125 [==============================] - 3s 26ms/step - loss: 0.1303 - accuracy: 0.9731 - val_loss: 1.0300 - val_accuracy: 0.6351\n",
      "Epoch 87/100\n",
      "125/125 [==============================] - 3s 26ms/step - loss: 0.1324 - accuracy: 0.9713 - val_loss: 1.3416 - val_accuracy: 0.4974\n",
      "Epoch 88/100\n",
      "125/125 [==============================] - 3s 26ms/step - loss: 0.1320 - accuracy: 0.9725 - val_loss: 1.0115 - val_accuracy: 0.6246\n",
      "Epoch 89/100\n",
      "125/125 [==============================] - 3s 26ms/step - loss: 0.1318 - accuracy: 0.9721 - val_loss: 1.0107 - val_accuracy: 0.6393\n",
      "Epoch 90/100\n",
      "125/125 [==============================] - 3s 26ms/step - loss: 0.1328 - accuracy: 0.9707 - val_loss: 1.0627 - val_accuracy: 0.6330\n",
      "Epoch 91/100\n",
      "125/125 [==============================] - 3s 26ms/step - loss: 0.1254 - accuracy: 0.9726 - val_loss: 0.9781 - val_accuracy: 0.6288\n",
      "Epoch 92/100\n",
      "125/125 [==============================] - 3s 27ms/step - loss: 0.1236 - accuracy: 0.9742 - val_loss: 1.5775 - val_accuracy: 0.5026\n",
      "Epoch 93/100\n",
      "125/125 [==============================] - 4s 29ms/step - loss: 0.1412 - accuracy: 0.9677 - val_loss: 1.3866 - val_accuracy: 0.4974\n",
      "Epoch 94/100\n",
      "125/125 [==============================] - 4s 29ms/step - loss: 0.1176 - accuracy: 0.9757 - val_loss: 1.0003 - val_accuracy: 0.6393\n",
      "Epoch 95/100\n",
      "125/125 [==============================] - 4s 29ms/step - loss: 0.1174 - accuracy: 0.9761 - val_loss: 1.0722 - val_accuracy: 0.6036\n",
      "Epoch 96/100\n",
      "125/125 [==============================] - 4s 29ms/step - loss: 0.1150 - accuracy: 0.9776 - val_loss: 1.0444 - val_accuracy: 0.6351\n",
      "Epoch 97/100\n",
      "125/125 [==============================] - 4s 29ms/step - loss: 0.1224 - accuracy: 0.9741 - val_loss: 1.0030 - val_accuracy: 0.6341\n",
      "Epoch 98/100\n",
      "125/125 [==============================] - 4s 29ms/step - loss: 0.1114 - accuracy: 0.9772 - val_loss: 1.3600 - val_accuracy: 0.5131\n",
      "Epoch 99/100\n",
      "125/125 [==============================] - 4s 28ms/step - loss: 0.1107 - accuracy: 0.9767 - val_loss: 1.0646 - val_accuracy: 0.6278\n",
      "Epoch 100/100\n",
      "125/125 [==============================] - 3s 26ms/step - loss: 0.1131 - accuracy: 0.9737 - val_loss: 1.6680 - val_accuracy: 0.5037\n"
     ]
    }
   ],
   "source": [
    "history = model.fit(X_train, Y_train,\n",
    "                     epochs=100,\n",
    "                     verbose=1,\n",
    "                     validation_data=(X_test, Y_test),\n",
    "                     batch_size=32,\n",
    "                    callbacks=callbacks)"
   ]
  },
  {
   "cell_type": "code",
   "execution_count": 40,
   "metadata": {
    "id": "gjUMSav7RCAl"
   },
   "outputs": [],
   "source": []
  },
  {
   "cell_type": "code",
   "execution_count": 41,
   "metadata": {
    "colab": {
     "base_uri": "https://localhost:8080/"
    },
    "id": "mJXnQb34RCCQ",
    "outputId": "5b419adc-1684-4249-faba-bc670b9ebe60"
   },
   "outputs": [
    {
     "name": "stdout",
     "output_type": "stream",
     "text": [
      "              precision    recall  f1-score   support\n",
      "\n",
      "         NOT       0.64      0.84      0.72       473\n",
      "         OFF       0.77      0.52      0.62       478\n",
      "\n",
      "    accuracy                           0.68       951\n",
      "   macro avg       0.70      0.68      0.67       951\n",
      "weighted avg       0.70      0.68      0.67       951\n",
      "\n"
     ]
    }
   ],
   "source": [
    "model.load_weights(model_save_path)\n",
    "import keras\n",
    "class_names = df_train.Labels.unique()\n",
    "y_pred = model.predict(X_test)>0.5\n",
    "y_pred = [str(x[0]).replace(\"False\",\"0\").replace(\"True\",\"1\") for x in y_pred]\n",
    "y_pred = [int(x) for x in y_pred]\n",
    "\n",
    "y_pred = le.inverse_transform(y_pred)\n",
    "print(classification_report(df_val_Label,y_pred))"
   ]
  }
 ],
 "metadata": {
  "accelerator": "GPU",
  "colab": {
   "collapsed_sections": [],
   "name": "Hate Speech Detection DL.ipynb",
   "provenance": []
  },
  "kernelspec": {
   "display_name": "Python 3",
   "language": "python",
   "name": "python3"
  },
  "language_info": {
   "codemirror_mode": {
    "name": "ipython",
    "version": 3
   },
   "file_extension": ".py",
   "mimetype": "text/x-python",
   "name": "python",
   "nbconvert_exporter": "python",
   "pygments_lexer": "ipython3",
   "version": "3.8.8"
  }
 },
 "nbformat": 4,
 "nbformat_minor": 1
}
