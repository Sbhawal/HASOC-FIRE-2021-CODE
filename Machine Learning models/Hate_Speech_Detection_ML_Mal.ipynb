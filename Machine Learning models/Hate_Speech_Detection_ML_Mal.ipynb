{
 "cells": [
  {
   "cell_type": "markdown",
   "metadata": {
    "id": "khb-39d0pb6L"
   },
   "source": [
    "## Installing demoji"
   ]
  },
  {
   "cell_type": "code",
   "execution_count": 2,
   "metadata": {
    "id": "JuxZLhfhpfSr"
   },
   "outputs": [],
   "source": [
    "!pip install demoji"
   ]
  },
  {
   "cell_type": "markdown",
   "metadata": {},
   "source": [
    "## Imports"
   ]
  },
  {
   "cell_type": "code",
   "execution_count": null,
   "metadata": {},
   "outputs": [],
   "source": [
    "import pandas as pd\n",
    "import numpy as np\n",
    "\n",
    "from sklearn.metrics import confusion_matrix\n",
    "from sklearn import metrics\n",
    "\n",
    "from sklearn.linear_model import LogisticRegression\n",
    "from sklearn.metrics import confusion_matrix,classification_report\n",
    "\n",
    "\n",
    "from sklearn.metrics import accuracy_score\n",
    "from sklearn.metrics import precision_score\n",
    "from sklearn.metrics import f1_score\n",
    "from sklearn.metrics import recall_score"
   ]
  },
  {
   "cell_type": "markdown",
   "metadata": {},
   "source": [
    "## Loading data"
   ]
  },
  {
   "cell_type": "code",
   "execution_count": 3,
   "metadata": {
    "id": "E-Fcxum9pfak"
   },
   "outputs": [],
   "source": [
    "df_train = pd.read_excel('..........', names=[\"ID\",\"Tweets\",\"Labels\"])\n",
    "df_train.dropna(inplace=True)\n",
    "df_train.reset_index(drop=True, inplace=True)\n",
    "\n",
    "df_val = pd.read_csv('..........', names=[\"ID\",\"Tweets\",\"Labels\"])\n",
    "df_val.dropna(inplace=True)\n",
    "df_val.reset_index(drop=True, inplace=True)"
   ]
  },
  {
   "cell_type": "code",
   "execution_count": 5,
   "metadata": {
    "id": "ItIkiMKCqPdW"
   },
   "outputs": [],
   "source": [
    "df_train_Tweet = pd.DataFrame(df_train.Tweets)\n",
    "df_val_Tweet = pd.DataFrame(df_val.Tweets)\n",
    "df_train_Label = pd.DataFrame(df_train.Labels)\n",
    "df_val_Label = pd.DataFrame(df_val.Labels)\n"
   ]
  },
  {
   "cell_type": "markdown",
   "metadata": {
    "id": "RDhb7MUXrHWH"
   },
   "source": [
    "## Preprocessing"
   ]
  },
  {
   "cell_type": "code",
   "execution_count": 7,
   "metadata": {
    "id": "o8gmghLHpfdP"
   },
   "outputs": [],
   "source": [
    "import re, string\n",
    "regex = re.compile('[%s]' % re.escape(string.punctuation))\n",
    "import demoji\n",
    "\n",
    "def preprocessing(document):\n",
    "        document = demoji.replace_with_desc(document).replace(\":\",\" \").replace(\"-\",\" \")\n",
    "        document = regex.sub(' ', document)\n",
    "        document = re.sub(r'[0-9]', '', document)\n",
    "        document = re.sub(r'\\s+[a-zA-Z]\\s+', ' ', document)             # remove all single characters\n",
    "        document = re.sub(r'\\s+', ' ', document, flags=re.I)            # Substituting multiple spaces with single space\n",
    "        return document"
   ]
  },
  {
   "cell_type": "code",
   "execution_count": 8,
   "metadata": {
    "id": "LR_wZE5rpfd5"
   },
   "outputs": [],
   "source": [
    "corpus_train = df_train_Tweet.Tweets.apply(preprocessing)\n",
    "corpus_val = df_val_Tweet.Tweets.apply(preprocessing)"
   ]
  },
  {
   "cell_type": "markdown",
   "metadata": {
    "id": "hMOG2wozpfeh"
   },
   "source": [
    "## TFIDF Vectorization"
   ]
  },
  {
   "cell_type": "code",
   "execution_count": 9,
   "metadata": {
    "colab": {
     "base_uri": "https://localhost:8080/"
    },
    "id": "_KNPaQ-mpffF",
    "outputId": "185943c9-4005-475f-b37a-16a4c0549775"
   },
   "outputs": [
    {
     "data": {
      "text/plain": [
       "(3999, 15000)"
      ]
     },
     "execution_count": 9,
     "metadata": {
      "tags": []
     },
     "output_type": "execute_result"
    }
   ],
   "source": [
    "from sklearn.feature_extraction.text import TfidfVectorizer\n",
    "cv = TfidfVectorizer(ngram_range=(1,5))\n",
    "cv = TfidfVectorizer(max_features=15000)\n",
    "X_train = cv.fit_transform(corpus_train).toarray()\n",
    "X_test = cv.transform(corpus_val).toarray()\n",
    "X_train.shape"
   ]
  },
  {
   "cell_type": "code",
   "execution_count": 10,
   "metadata": {
    "id": "8vmq4jChpfgf"
   },
   "outputs": [],
   "source": [
    "# Feature Scaling\n",
    "from sklearn.preprocessing import StandardScaler,MinMaxScaler\n",
    "sc = MinMaxScaler()\n",
    "X_train = sc.fit_transform(X_train)\n",
    "X_test = sc.transform(X_test)"
   ]
  },
  {
   "cell_type": "code",
   "execution_count": 10,
   "metadata": {
    "id": "oI2TwIoVpfh4"
   },
   "outputs": [],
   "source": []
  },
  {
   "cell_type": "markdown",
   "metadata": {
    "id": "5zcOrYYtr1em"
   },
   "source": [
    "## LOGISTIC REGRESSION"
   ]
  },
  {
   "cell_type": "code",
   "execution_count": 11,
   "metadata": {
    "colab": {
     "base_uri": "https://localhost:8080/"
    },
    "id": "ZBh_Co9Xr2rd",
    "outputId": "6738ea9c-119e-4d9a-8ebc-84b1865b04ce"
   },
   "outputs": [
    {
     "name": "stderr",
     "output_type": "stream",
     "text": [
      "[Parallel(n_jobs=4)]: Using backend LokyBackend with 4 concurrent workers.\n",
      "[Parallel(n_jobs=4)]: Done   1 out of   1 | elapsed:   17.9s finished\n"
     ]
    },
    {
     "data": {
      "text/plain": [
       "LogisticRegression(C=1, class_weight=None, dual=False, fit_intercept=True,\n",
       "                   intercept_scaling=1, l1_ratio=None, max_iter=250,\n",
       "                   multi_class='multinomial', n_jobs=4, penalty='l2',\n",
       "                   random_state=None, solver='lbfgs', tol=0.0001, verbose=3,\n",
       "                   warm_start=False)"
      ]
     },
     "execution_count": 11,
     "metadata": {
      "tags": []
     },
     "output_type": "execute_result"
    }
   ],
   "source": [
    "from sklearn.linear_model import LogisticRegression\n",
    "\n",
    "classifier = LogisticRegression(multi_class='multinomial', solver='lbfgs',verbose=3,max_iter=250,penalty='l2',C=1,n_jobs=4)\n",
    "classifier.fit(X_train , np.ravel(df_train_Label))"
   ]
  },
  {
   "cell_type": "code",
   "execution_count": 12,
   "metadata": {
    "colab": {
     "base_uri": "https://localhost:8080/"
    },
    "id": "UcdP-Q98pfiu",
    "outputId": "68fa240f-232f-4f33-8de8-ddcf7573d11e"
   },
   "outputs": [
    {
     "data": {
      "text/plain": [
       "0.7024185068349106"
      ]
     },
     "execution_count": 12,
     "metadata": {
      "tags": []
     },
     "output_type": "execute_result"
    }
   ],
   "source": [
    "y_pred = classifier.predict(X_test)\n",
    "\n",
    "from sklearn.metrics import accuracy_score\n",
    "accuracy = accuracy_score(df_val_Label , y_pred)\n",
    "accuracy"
   ]
  },
  {
   "cell_type": "code",
   "execution_count": 13,
   "metadata": {
    "colab": {
     "base_uri": "https://localhost:8080/"
    },
    "id": "pBo8XNA4pfjX",
    "outputId": "45b9ef80-89af-4de1-895a-35a914f8aa31"
   },
   "outputs": [
    {
     "name": "stdout",
     "output_type": "stream",
     "text": [
      "              precision    recall  f1-score   support\n",
      "\n",
      "         NOT       0.68      0.75      0.72       473\n",
      "         OFF       0.73      0.65      0.69       478\n",
      "\n",
      "    accuracy                           0.70       951\n",
      "   macro avg       0.70      0.70      0.70       951\n",
      "weighted avg       0.70      0.70      0.70       951\n",
      "\n"
     ]
    }
   ],
   "source": [
    "print(classification_report(df_val_Label,y_pred))"
   ]
  },
  {
   "cell_type": "code",
   "execution_count": 13,
   "metadata": {
    "id": "SWDv9kkMpfkf"
   },
   "outputs": [],
   "source": []
  },
  {
   "cell_type": "markdown",
   "metadata": {
    "id": "Mp9XNOd7vCOU"
   },
   "source": [
    "## RANDOM FOREST"
   ]
  },
  {
   "cell_type": "code",
   "execution_count": 14,
   "metadata": {
    "colab": {
     "base_uri": "https://localhost:8080/"
    },
    "id": "DJePwRKZpflG",
    "outputId": "c09dfcea-afc3-431a-febb-218539c01378"
   },
   "outputs": [
    {
     "data": {
      "text/plain": [
       "RandomForestClassifier(bootstrap=True, ccp_alpha=0.0, class_weight=None,\n",
       "                       criterion='gini', max_depth=100, max_features='auto',\n",
       "                       max_leaf_nodes=None, max_samples=None,\n",
       "                       min_impurity_decrease=0.0, min_impurity_split=None,\n",
       "                       min_samples_leaf=1, min_samples_split=2,\n",
       "                       min_weight_fraction_leaf=0.0, n_estimators=100,\n",
       "                       n_jobs=None, oob_score=False, random_state=0, verbose=0,\n",
       "                       warm_start=False)"
      ]
     },
     "execution_count": 14,
     "metadata": {
      "tags": []
     },
     "output_type": "execute_result"
    }
   ],
   "source": [
    "# Fitting Random Forest Classification to the Training set\n",
    "from sklearn.ensemble import RandomForestClassifier\n",
    "classifier = RandomForestClassifier(n_estimators = 100, criterion = 'gini', random_state = 0 , max_depth=100)\n",
    "classifier.fit(X_train , np.ravel(df_train_Label))"
   ]
  },
  {
   "cell_type": "code",
   "execution_count": 15,
   "metadata": {
    "colab": {
     "base_uri": "https://localhost:8080/"
    },
    "id": "x5lKW2COpflr",
    "outputId": "0237b8fd-ba43-470e-d00e-45b0feb5bf07"
   },
   "outputs": [
    {
     "data": {
      "text/plain": [
       "0.6792849631966351"
      ]
     },
     "execution_count": 15,
     "metadata": {
      "tags": []
     },
     "output_type": "execute_result"
    }
   ],
   "source": [
    "y_pred = classifier.predict(X_test)\n",
    "\n",
    "from sklearn.metrics import accuracy_score\n",
    "accuracy = accuracy_score(df_val_Label , y_pred)\n",
    "accuracy"
   ]
  },
  {
   "cell_type": "code",
   "execution_count": 16,
   "metadata": {
    "colab": {
     "base_uri": "https://localhost:8080/"
    },
    "id": "zGS7SNDlpfmV",
    "outputId": "77bdb3bb-bf9c-482a-84a4-aa83287d0d07"
   },
   "outputs": [
    {
     "name": "stdout",
     "output_type": "stream",
     "text": [
      "              precision    recall  f1-score   support\n",
      "\n",
      "         NOT       0.63      0.85      0.73       473\n",
      "         OFF       0.78      0.51      0.61       478\n",
      "\n",
      "    accuracy                           0.68       951\n",
      "   macro avg       0.70      0.68      0.67       951\n",
      "weighted avg       0.71      0.68      0.67       951\n",
      "\n"
     ]
    }
   ],
   "source": [
    "print(classification_report(df_val_Label,y_pred))"
   ]
  },
  {
   "cell_type": "code",
   "execution_count": 16,
   "metadata": {
    "id": "p-3SsTIBpfnB"
   },
   "outputs": [],
   "source": []
  },
  {
   "cell_type": "markdown",
   "metadata": {
    "id": "F5lbH-Ytvdck"
   },
   "source": [
    "## NAIVE BAYES"
   ]
  },
  {
   "cell_type": "code",
   "execution_count": 17,
   "metadata": {
    "colab": {
     "base_uri": "https://localhost:8080/"
    },
    "id": "ALj1BBKEpfno",
    "outputId": "27baaf39-c7b3-4828-f70d-a9cf6eac616e"
   },
   "outputs": [
    {
     "data": {
      "text/plain": [
       "MultinomialNB(alpha=1, class_prior=None, fit_prior=True)"
      ]
     },
     "execution_count": 17,
     "metadata": {
      "tags": []
     },
     "output_type": "execute_result"
    }
   ],
   "source": [
    "#Naive bayes classification\n",
    "from sklearn.naive_bayes import MultinomialNB\n",
    "\n",
    "classifier = MultinomialNB(alpha = 1 , fit_prior=True, class_prior=None)\n",
    "classifier.fit(X_train , np.ravel(df_train_Label))"
   ]
  },
  {
   "cell_type": "code",
   "execution_count": 18,
   "metadata": {
    "colab": {
     "base_uri": "https://localhost:8080/"
    },
    "id": "aPBQ9-BipfoT",
    "outputId": "eb25d9a0-22f8-49c5-a8a3-e5a872b78a7a"
   },
   "outputs": [
    {
     "data": {
      "text/plain": [
       "0.6971608832807571"
      ]
     },
     "execution_count": 18,
     "metadata": {
      "tags": []
     },
     "output_type": "execute_result"
    }
   ],
   "source": [
    "y_pred = classifier.predict(X_test)\n",
    "\n",
    "from sklearn.metrics import accuracy_score\n",
    "accuracy = accuracy_score(df_val_Label , y_pred)\n",
    "accuracy"
   ]
  },
  {
   "cell_type": "code",
   "execution_count": 19,
   "metadata": {
    "colab": {
     "base_uri": "https://localhost:8080/"
    },
    "id": "PvVVkvk0pfpA",
    "outputId": "cf7790fe-d02a-4928-a49f-d447b8b35b10"
   },
   "outputs": [
    {
     "name": "stdout",
     "output_type": "stream",
     "text": [
      "              precision    recall  f1-score   support\n",
      "\n",
      "         NOT       0.68      0.73      0.71       473\n",
      "         OFF       0.71      0.66      0.69       478\n",
      "\n",
      "    accuracy                           0.70       951\n",
      "   macro avg       0.70      0.70      0.70       951\n",
      "weighted avg       0.70      0.70      0.70       951\n",
      "\n"
     ]
    }
   ],
   "source": [
    "print(classification_report(df_val_Label,y_pred))"
   ]
  },
  {
   "cell_type": "code",
   "execution_count": 19,
   "metadata": {
    "id": "Fvor04f8pfpn"
   },
   "outputs": [],
   "source": []
  },
  {
   "cell_type": "markdown",
   "metadata": {
    "id": "1ZGEIN8kw1pZ"
   },
   "source": [
    "## XGBOOST"
   ]
  },
  {
   "cell_type": "code",
   "execution_count": 20,
   "metadata": {
    "id": "PDOHizjLpfqj"
   },
   "outputs": [],
   "source": [
    "from numpy import loadtxt\n",
    "from xgboost import XGBClassifier\n",
    "from sklearn.model_selection import train_test_split\n",
    "from sklearn.metrics import accuracy_score"
   ]
  },
  {
   "cell_type": "code",
   "execution_count": 21,
   "metadata": {
    "colab": {
     "base_uri": "https://localhost:8080/"
    },
    "id": "o5UnEFXFpfrQ",
    "outputId": "b91cf104-73ab-4f92-9a7b-1ea8d4acf5f2"
   },
   "outputs": [
    {
     "data": {
      "text/plain": [
       "XGBClassifier(base_score=0.5, booster='gbtree', colsample_bylevel=1,\n",
       "              colsample_bynode=1, colsample_bytree=1, gamma=0,\n",
       "              learning_rate=0.1, max_delta_step=0, max_depth=3,\n",
       "              min_child_weight=1, missing=None, n_estimators=100, n_jobs=1,\n",
       "              nthread=None, objective='binary:logistic', random_state=0,\n",
       "              reg_alpha=0, reg_lambda=1, scale_pos_weight=1, seed=None,\n",
       "              silent=None, subsample=1, verbosity=1)"
      ]
     },
     "execution_count": 21,
     "metadata": {
      "tags": []
     },
     "output_type": "execute_result"
    }
   ],
   "source": [
    "classifier = XGBClassifier()\n",
    "classifier.fit(X_train , np.ravel(df_train_Label))"
   ]
  },
  {
   "cell_type": "code",
   "execution_count": 22,
   "metadata": {
    "colab": {
     "base_uri": "https://localhost:8080/"
    },
    "id": "5Vj6epMCpfsC",
    "outputId": "10c53c59-7add-4d5e-fc7c-7b7a27b44b8c"
   },
   "outputs": [
    {
     "data": {
      "text/plain": [
       "0.6267087276550999"
      ]
     },
     "execution_count": 22,
     "metadata": {
      "tags": []
     },
     "output_type": "execute_result"
    }
   ],
   "source": [
    "y_pred = classifier.predict(X_test)\n",
    "\n",
    "from sklearn.metrics import accuracy_score\n",
    "accuracy = accuracy_score(df_val_Label , y_pred)\n",
    "accuracy"
   ]
  },
  {
   "cell_type": "code",
   "execution_count": 23,
   "metadata": {
    "colab": {
     "base_uri": "https://localhost:8080/"
    },
    "id": "61Q693DApfsw",
    "outputId": "41c6917d-e701-4471-a624-03723bbd2a8d"
   },
   "outputs": [
    {
     "name": "stdout",
     "output_type": "stream",
     "text": [
      "              precision    recall  f1-score   support\n",
      "\n",
      "         NOT       0.58      0.92      0.71       473\n",
      "         OFF       0.81      0.33      0.47       478\n",
      "\n",
      "    accuracy                           0.63       951\n",
      "   macro avg       0.70      0.63      0.59       951\n",
      "weighted avg       0.70      0.63      0.59       951\n",
      "\n"
     ]
    }
   ],
   "source": [
    "print(classification_report(df_val_Label,y_pred))"
   ]
  },
  {
   "cell_type": "code",
   "execution_count": 23,
   "metadata": {
    "id": "l1_l62k_pftj"
   },
   "outputs": [],
   "source": []
  },
  {
   "cell_type": "markdown",
   "metadata": {
    "id": "xmzwgpLJx27Q"
   },
   "source": [
    "## SVM"
   ]
  },
  {
   "cell_type": "code",
   "execution_count": 24,
   "metadata": {
    "colab": {
     "base_uri": "https://localhost:8080/"
    },
    "id": "feVIt18fpfuK",
    "outputId": "5534ffe3-3ded-408c-a72f-6f461703890a"
   },
   "outputs": [
    {
     "data": {
      "text/plain": [
       "SVC(C=1.0, break_ties=False, cache_size=200, class_weight=None, coef0=0.0,\n",
       "    decision_function_shape='ovr', degree=3, gamma='scale', kernel='rbf',\n",
       "    max_iter=-1, probability=False, random_state=123, shrinking=True, tol=0.001,\n",
       "    verbose=False)"
      ]
     },
     "execution_count": 24,
     "metadata": {
      "tags": []
     },
     "output_type": "execute_result"
    }
   ],
   "source": [
    "from sklearn.svm import SVC\n",
    "classifier=SVC(random_state=123)\n",
    "classifier.fit(X_train , np.ravel(df_train_Label))"
   ]
  },
  {
   "cell_type": "code",
   "execution_count": 25,
   "metadata": {
    "colab": {
     "base_uri": "https://localhost:8080/"
    },
    "id": "a9JLv_B2pfux",
    "outputId": "7e6d0264-1bf5-4a62-de9a-dd5f869f9590"
   },
   "outputs": [
    {
     "data": {
      "text/plain": [
       "0.6845425867507886"
      ]
     },
     "execution_count": 25,
     "metadata": {
      "tags": []
     },
     "output_type": "execute_result"
    }
   ],
   "source": [
    "y_pred = classifier.predict(X_test)\n",
    "\n",
    "from sklearn.metrics import accuracy_score\n",
    "accuracy = accuracy_score(df_val_Label , y_pred)\n",
    "accuracy"
   ]
  },
  {
   "cell_type": "code",
   "execution_count": 26,
   "metadata": {
    "colab": {
     "base_uri": "https://localhost:8080/"
    },
    "id": "Lgi9Am1Jpfvc",
    "outputId": "a43614e1-21e4-479e-c183-e53ad0d7acc6"
   },
   "outputs": [
    {
     "name": "stdout",
     "output_type": "stream",
     "text": [
      "              precision    recall  f1-score   support\n",
      "\n",
      "         NOT       0.66      0.77      0.71       473\n",
      "         OFF       0.72      0.60      0.66       478\n",
      "\n",
      "    accuracy                           0.68       951\n",
      "   macro avg       0.69      0.68      0.68       951\n",
      "weighted avg       0.69      0.68      0.68       951\n",
      "\n"
     ]
    }
   ],
   "source": [
    "print(classification_report(df_val_Label,y_pred))"
   ]
  }
 ],
 "metadata": {
  "colab": {
   "name": "Hate Speech Detection ML.ipynb",
   "provenance": []
  },
  "kernelspec": {
   "display_name": "Python 3",
   "language": "python",
   "name": "python3"
  },
  "language_info": {
   "codemirror_mode": {
    "name": "ipython",
    "version": 3
   },
   "file_extension": ".py",
   "mimetype": "text/x-python",
   "name": "python",
   "nbconvert_exporter": "python",
   "pygments_lexer": "ipython3",
   "version": "3.8.8"
  }
 },
 "nbformat": 4,
 "nbformat_minor": 1
}
